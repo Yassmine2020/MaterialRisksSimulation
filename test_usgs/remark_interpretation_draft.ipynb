{
 "cells": [
  {
   "cell_type": "code",
   "execution_count": 64,
   "metadata": {},
   "outputs": [],
   "source": [
    "import pandas as pd\n",
    "from utils import *"
   ]
  },
  {
   "cell_type": "code",
   "execution_count": 65,
   "metadata": {},
   "outputs": [],
   "source": [
    "excel_input = 'output_previous/output_1.xlsx'"
   ]
  },
  {
   "cell_type": "code",
   "execution_count": 66,
   "metadata": {},
   "outputs": [],
   "source": [
    "import json\n",
    "\n",
    "with open('json_files/scraping_base.json', 'r', encoding='utf-8') as json_file:\n",
    "    loaded_scraping_base = json.load(json_file)\n",
    "\n",
    "# Convert serialized dictionaries back to DataFrames\n",
    "def convert_dict_to_df(d):\n",
    "    if isinstance(d, list) and all(isinstance(i, dict) for i in d):\n",
    "        return pd.DataFrame(d)\n",
    "    elif isinstance(d, list):\n",
    "        return [convert_dict_to_df(i) for i in d]\n",
    "    elif isinstance(d, dict):\n",
    "        return {k: convert_dict_to_df(v) for k, v in d.items()}\n",
    "    else:\n",
    "        return d\n",
    "\n",
    "scraping_base = convert_dict_to_df(loaded_scraping_base)"
   ]
  },
  {
   "cell_type": "code",
   "execution_count": 67,
   "metadata": {},
   "outputs": [],
   "source": [
    "material_remarks = {material: {'remarks': content['remarks'][['text']]} for material, content in scraping_base.items()}"
   ]
  },
  {
   "cell_type": "code",
   "execution_count": 68,
   "metadata": {},
   "outputs": [
    {
     "data": {
      "text/plain": [
       "dict_keys(['Abrasives', 'Fluorspar', 'Mercury', 'Silicon', 'Aluminum', 'Gallium', 'Mica', 'Silver', 'Antimony', 'Garnet', 'Molybdenum', 'Soda Ash', 'Arsenic', 'Gemstones', 'Nickel', 'Stone', 'Asbestos', 'Germanium', 'Niobium', 'Strontium', 'Barite', 'Gold', 'Nitrogen', 'Sulfur', 'Bauxite', 'Graphite', 'Talc', 'Beryllium', 'Gypsum', 'Peat', 'Tantalum', 'Bismuth', 'Hafnium', 'Perlite', 'Tellurium', 'Boron', 'Helium', 'Phosphate Rock', 'Thallium', 'Bromine', 'Indium', 'Platinum', 'Thorium', 'Cadmium', 'Iodine', 'Potash', 'Tin', 'Cement', 'Iron and Steel', 'Pumice', 'Titanium', 'Cesium', 'Iron Ore', 'Quartz', 'Tungsten', 'Chromium', 'Iron Oxide Pigments', 'Rare Earths', 'Vanadium', 'Clays', 'Kyanite', 'Rhenium', 'Vermiculite', 'Cobalt', 'Lead', 'Rubidium', 'Wollastonite', 'Copper', 'Lime', 'Salt', 'Yttrium', 'Diamond', 'Lithium', 'Sand and Gravel', 'Zeolites', 'Diatomite', 'Magnesium', 'Scandium', 'Zinc', 'Feldspar', 'Manganese', 'Selenium'])"
      ]
     },
     "execution_count": 68,
     "metadata": {},
     "output_type": "execute_result"
    }
   ],
   "source": [
    "material_remarks.keys()"
   ]
  },
  {
   "cell_type": "code",
   "execution_count": 69,
   "metadata": {},
   "outputs": [],
   "source": [
    "# filtered_data"
   ]
  },
  {
   "cell_type": "code",
   "execution_count": 70,
   "metadata": {},
   "outputs": [],
   "source": [
    "# Convert the DataFrames in the dictionary\n",
    "serialize_dict(material_remarks)\n",
    "\n",
    "# Save the transformed dictionary as JSON\n",
    "with open('materials_data.json', 'w') as json_file:\n",
    "    json.dump(material_remarks, json_file, indent=4)"
   ]
  },
  {
   "cell_type": "code",
   "execution_count": 71,
   "metadata": {},
   "outputs": [],
   "source": [
    "ref_chem_compo = pd.read_excel('sub_materials_database.xlsx', sheet_name='sub_materials_database')\n",
    "\n",
    "metric_conversion_df = pd.read_excel('sub_materials_database.xlsx', sheet_name='metric_conversion_factor')"
   ]
  },
  {
   "cell_type": "code",
   "execution_count": 72,
   "metadata": {},
   "outputs": [],
   "source": [
    "# for material in material_remarks.keys():\n",
    "#     # Convert the remarks to a DataFrame\n",
    "#     material_sample = pd.DataFrame(material_remarks[material]['remarks'], columns=['text'])\n",
    "\n",
    "#     # List of sub-material names from the reference_db\n",
    "#     materials_list = ref_chem_compo['sub_material_name'].tolist()\n",
    "\n",
    "#     # List of metric units from the metric_conversion_df\n",
    "#     metrics_list = metric_conversion_df['Metric Mentioned'].tolist()\n",
    "\n",
    "#     # Apply the functions to the 'text' column of material_sample\n",
    "#     material_sample['chemical_composition'] = material_sample['text'].apply(lambda text: find_all_chemical_compositions(text, materials_list, ref_chem_compo))\n",
    "#     material_sample['metric_conv_factor'] = material_sample['text'].apply(lambda text: find_metric_conversion_factor(text, metrics_list, metric_conversion_df))\n",
    "\n",
    "#     # Update the material_remarks dictionary\n",
    "#     material_remarks[material]['remarks'] = material_sample.to_dict(orient='records')\n",
    "\n",
    "# # Save the updated dictionary to JSON\n",
    "# with open('materials_data.json', 'w') as json_file:\n",
    "#     json.dump(material_remarks, json_file, indent=4)"
   ]
  },
  {
   "cell_type": "code",
   "execution_count": 73,
   "metadata": {},
   "outputs": [],
   "source": [
    "# material_sample"
   ]
  },
  {
   "cell_type": "markdown",
   "metadata": {},
   "source": [
    "## match the remarks with the possible existing metrics, then match this with a number to dreb fih bach klchi yweli normalized by the end!"
   ]
  },
  {
   "cell_type": "code",
   "execution_count": 74,
   "metadata": {},
   "outputs": [],
   "source": [
    "import pandas as pd\n",
    "import shutil\n",
    "\n",
    "# Copy the original Excel file to create an updated version\n",
    "shutil.copyfile(excel_input, 'updated_materials_data.xlsx')\n",
    "\n",
    "# Open the Excel file for updating\n",
    "with pd.ExcelWriter('updated_materials_data.xlsx', mode='a', if_sheet_exists='replace') as writer:\n",
    "    for material in material_remarks.keys():\n",
    "        # Convert the remarks to a DataFrame\n",
    "        material_sample = pd.DataFrame(material_remarks[material]['remarks'], columns=['text'])\n",
    "\n",
    "        # List of sub-material names from the reference_db\n",
    "        materials_list = ref_chem_compo['sub_material_name'].tolist()\n",
    "\n",
    "        # List of metric units from the metric_conversion_df\n",
    "        metrics_list = metric_conversion_df['Metric Mentioned'].tolist()\n",
    "\n",
    "        # Apply the functions to the 'text' column of material_sample\n",
    "        material_sample['chemical_composition'] = material_sample['text'].apply(\n",
    "            lambda text: find_all_chemical_compositions(text, materials_list, ref_chem_compo))\n",
    "        material_sample['metric_conv_factor'] = material_sample['text'].apply(\n",
    "            lambda text: find_metric_conversion_factor(text, metrics_list, metric_conversion_df))\n",
    "\n",
    "        # Read the corresponding sheet from the original Excel file\n",
    "        sheet_name = f\"{material}_raw_info\"\n",
    "        original_df = pd.read_excel(excel_input, sheet_name=sheet_name)\n",
    "\n",
    "        # Ensure the new DataFrame (material_sample) has the same index as the original_df\n",
    "        material_sample = material_sample.reindex(original_df.index)\n",
    "\n",
    "        # Insert the new columns next to the 'remark' column\n",
    "        original_df.insert(1, 'chemical_composition', material_sample['chemical_composition'])\n",
    "        original_df.insert(2, 'metric_conv_factor', material_sample['metric_conv_factor'])\n",
    "\n",
    "        # Write the updated sheet back to the Excel file\n",
    "        original_df.to_excel(writer, sheet_name=sheet_name, index=False)"
   ]
  }
 ],
 "metadata": {
  "kernelspec": {
   "display_name": "venvRi",
   "language": "python",
   "name": "python3"
  },
  "language_info": {
   "codemirror_mode": {
    "name": "ipython",
    "version": 3
   },
   "file_extension": ".py",
   "mimetype": "text/x-python",
   "name": "python",
   "nbconvert_exporter": "python",
   "pygments_lexer": "ipython3",
   "version": "3.10.0"
  }
 },
 "nbformat": 4,
 "nbformat_minor": 2
}
