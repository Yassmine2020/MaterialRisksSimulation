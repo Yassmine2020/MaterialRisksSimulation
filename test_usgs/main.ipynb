{
 "cells": [
  {
   "cell_type": "code",
   "execution_count": 28,
   "metadata": {},
   "outputs": [
    {
     "name": "stdout",
     "output_type": "stream",
     "text": [
      "The autoreload extension is already loaded. To reload it, use:\n",
      "  %reload_ext autoreload\n"
     ]
    }
   ],
   "source": [
    "%load_ext autoreload\n",
    "%autoreload 2\n",
    "\n",
    "from utils import *\n",
    "pdf_path = \"mcs2024.pdf\""
   ]
  },
  {
   "cell_type": "markdown",
   "metadata": {},
   "source": [
    "## Extract the material lists"
   ]
  },
  {
   "cell_type": "code",
   "execution_count": null,
   "metadata": {},
   "outputs": [],
   "source": [
    "df = extract_word_positions(pdf_path, 0)\n",
    "complexe_df = complexe_word(df, 2)\n",
    "\n",
    "complexe_df.sample(2)"
   ]
  },
  {
   "cell_type": "code",
   "execution_count": null,
   "metadata": {},
   "outputs": [],
   "source": [
    "result_df = extract_cols(complexe_df, 'x0', 2)"
   ]
  },
  {
   "cell_type": "code",
   "execution_count": null,
   "metadata": {},
   "outputs": [],
   "source": [
    "result_df"
   ]
  },
  {
   "cell_type": "code",
   "execution_count": null,
   "metadata": {},
   "outputs": [],
   "source": [
    "result_df['max_top'].min()"
   ]
  },
  {
   "cell_type": "code",
   "execution_count": null,
   "metadata": {},
   "outputs": [],
   "source": [
    "import pdfplumber\n",
    "\n",
    "with pdfplumber.open(\"mcs2024.pdf\") as pdf:\n",
    "    im = pdf.pages[0].to_image(resolution=250)\n",
    "\n",
    "im.draw_line([(575, result_df['max_top'].min()), (44, result_df['max_top'].min())], )\n",
    "im.draw_line([(575, result_df['min_bottom'].max()), (44, result_df['min_bottom'].max())], )"
   ]
  },
  {
   "cell_type": "code",
   "execution_count": null,
   "metadata": {},
   "outputs": [],
   "source": [
    "materials_list = complexe_df[(complexe_df['top'] > int(result_df['max_top'].min())) & (complexe_df['bottom'] < 630)]['text'].tolist()\n",
    "\n",
    "len(materials_list) #🟢"
   ]
  },
  {
   "cell_type": "code",
   "execution_count": null,
   "metadata": {},
   "outputs": [],
   "source": [
    "materials_list"
   ]
  },
  {
   "cell_type": "code",
   "execution_count": null,
   "metadata": {},
   "outputs": [],
   "source": [
    "with open('json_files\\materials_list.json', 'w') as json_file:\n",
    "    json.dump(materials_list, json_file)"
   ]
  },
  {
   "cell_type": "code",
   "execution_count": null,
   "metadata": {},
   "outputs": [],
   "source": [
    "with open('json_files/materials_list.json', 'r') as json_file:\n",
    "    materials_list = json.load(json_file)"
   ]
  },
  {
   "cell_type": "code",
   "execution_count": null,
   "metadata": {},
   "outputs": [],
   "source": [
    "materials_list #🟢"
   ]
  },
  {
   "cell_type": "markdown",
   "metadata": {},
   "source": [
    "## Match each material with its pages"
   ]
  },
  {
   "cell_type": "code",
   "execution_count": null,
   "metadata": {},
   "outputs": [],
   "source": [
    "# Ouvrir le PDF\n",
    "elements = materials_list\n",
    "l = []\n",
    "\n",
    "with pdfplumber.open(pdf_path) as pdf:\n",
    "    # Dictionnaire pour stocker les pages correspondant à chaque élément\n",
    "    pdf_sections = {material: {'title': pd.DataFrame(), 'pages': []} for material in materials_list}\n",
    "    \n",
    "    # Parcourir chaque page du PDF\n",
    "    for i in range(33, 209):\n",
    "\n",
    "        # page = pdf.pages[i]\n",
    "        largest_text = extract_largest_text(pdf_path, i)['text'].to_list()\n",
    "        # l += largest_text\n",
    "        # print(f'▶️ Largest_text: {largest_text}')\n",
    "\n",
    "        for text in largest_text:\n",
    "            matched_element = match_element_in_text(materials_list, text)\n",
    "            if matched_element:\n",
    "                pdf_sections[matched_element]['title'] = pd.concat([pdf_sections[matched_element]['title'], extract_largest_text(pdf_path, i)], ignore_index=True)\n",
    "                pdf_sections[matched_element]['pages'].append(i + 1)\n",
    "\n",
    "# print(f'▶️ Largest_text len: {len(l)}')"
   ]
  },
  {
   "cell_type": "code",
   "execution_count": null,
   "metadata": {},
   "outputs": [],
   "source": [
    "empty_pages_elements = [material for material, details in pdf_sections.items() if not details['pages']]\n",
    "\n",
    "excluded_elements = {'Palladium'}\n",
    "empty_pages_elements = list(set(empty_pages_elements) - excluded_elements)\n",
    "\n",
    "empty_pages_elements"
   ]
  },
  {
   "cell_type": "code",
   "execution_count": null,
   "metadata": {},
   "outputs": [],
   "source": [
    "one_page_elements = [material for material, details in pdf_sections.items() if len(details['pages']) == 1]\n",
    "\n",
    "one_page_elements"
   ]
  },
  {
   "cell_type": "code",
   "execution_count": null,
   "metadata": {},
   "outputs": [],
   "source": [
    "three_page_elements = [material for material, details in pdf_sections.items() if len(details['pages']) == 3]\n",
    "\n",
    "three_page_elements"
   ]
  },
  {
   "cell_type": "code",
   "execution_count": null,
   "metadata": {},
   "outputs": [],
   "source": [
    "four_page_elements = [material for material, details in pdf_sections.items() if len(details['pages']) == 4]\n",
    "\n",
    "four_page_elements"
   ]
  },
  {
   "cell_type": "code",
   "execution_count": null,
   "metadata": {},
   "outputs": [],
   "source": [
    "pdf_sections['Sand and Gravel']['title']"
   ]
  },
  {
   "cell_type": "code",
   "execution_count": null,
   "metadata": {},
   "outputs": [],
   "source": [
    "# def convert_df_to_dict(d):\n",
    "#     if isinstance(d, pd.DataFrame):\n",
    "#         return d.to_dict(orient='records')\n",
    "#     elif isinstance(d, list):\n",
    "#         return [convert_df_to_dict(i) for i in d]\n",
    "#     elif isinstance(d, dict):\n",
    "#         return {k: convert_df_to_dict(v) for k, v in d.items()}\n",
    "#     else:\n",
    "#         return d\n",
    "\n",
    "# serializable_pdf_sections = convert_df_to_dict(pdf_sections)\n",
    "\n",
    "# # Save the dictionary to a JSON file\n",
    "# with open('json_files/pdf_sections.json', 'w', encoding='utf-8') as json_file:\n",
    "#     json.dump(serializable_pdf_sections, json_file, ensure_ascii=False, indent=4)"
   ]
  },
  {
   "cell_type": "code",
   "execution_count": null,
   "metadata": {},
   "outputs": [],
   "source": [
    "# with open('json_files/pdf_sections.json', 'r', encoding='utf-8') as json_file:\n",
    "#     loaded_pdf_sections = json.load(json_file)\n",
    "\n",
    "# # Convert serialized dictionaries back to DataFrames\n",
    "# def convert_dict_to_df(d):\n",
    "#     if isinstance(d, list) and all(isinstance(i, dict) for i in d):\n",
    "#         return pd.DataFrame(d)\n",
    "#     elif isinstance(d, list):\n",
    "#         return [convert_dict_to_df(i) for i in d]\n",
    "#     elif isinstance(d, dict):\n",
    "#         return {k: convert_dict_to_df(v) for k, v in d.items()}\n",
    "#     else:\n",
    "#         return d\n",
    "\n",
    "# pdf_sections = convert_dict_to_df(loaded_pdf_sections)"
   ]
  },
  {
   "cell_type": "code",
   "execution_count": null,
   "metadata": {},
   "outputs": [],
   "source": [
    "pdf_sections   #🟠 sauf for Zirconium!!"
   ]
  },
  {
   "cell_type": "markdown",
   "metadata": {},
   "source": [
    "## Dictionary: \n",
    "{material_name: {\n",
    "'material_title': df(title, bounding box),\n",
    "'pages_num': [page1, page2],\n",
    "'pages_content': [dataframe1, dataframe2],\n",
    "  'remarks': [remark_df],\n",
    "  'tables': [[tables_1(table + bounding_box)], [tables_2(table + bounding_box)]]\n",
    "  }\n",
    "}"
   ]
  },
  {
   "cell_type": "code",
   "execution_count": null,
   "metadata": {},
   "outputs": [],
   "source": [
    "pdf_sections.keys()"
   ]
  },
  {
   "cell_type": "code",
   "execution_count": null,
   "metadata": {},
   "outputs": [],
   "source": [
    "type(pdf_sections['Abrasives']['title'])"
   ]
  },
  {
   "cell_type": "code",
   "execution_count": null,
   "metadata": {},
   "outputs": [],
   "source": [
    "scraping_base = extract_positions_for_elements(pdf_path, pdf_sections)"
   ]
  },
  {
   "cell_type": "code",
   "execution_count": null,
   "metadata": {},
   "outputs": [],
   "source": [
    "scraping_base.keys()"
   ]
  },
  {
   "cell_type": "code",
   "execution_count": null,
   "metadata": {},
   "outputs": [],
   "source": [
    "scraping_base['Abrasives'].keys()"
   ]
  },
  {
   "cell_type": "code",
   "execution_count": null,
   "metadata": {},
   "outputs": [],
   "source": [
    "scraping_base['Abrasives']['remarks']"
   ]
  },
  {
   "cell_type": "code",
   "execution_count": null,
   "metadata": {},
   "outputs": [],
   "source": [
    "# def convert_df_to_dict(d):\n",
    "#     if isinstance(d, pd.DataFrame):\n",
    "#         return d.to_dict(orient='records')\n",
    "#     elif isinstance(d, list):\n",
    "#         return [convert_df_to_dict(i) for i in d]\n",
    "#     elif isinstance(d, dict):\n",
    "#         return {k: convert_df_to_dict(v) for k, v in d.items()}\n",
    "#     else:\n",
    "#         return d\n",
    "\n",
    "# serializable_scraping_base = convert_df_to_dict(scraping_base)\n",
    "\n",
    "# # Save the dictionary to a JSON file\n",
    "# with open('json_files/scraping_base.json', 'w', encoding='utf-8') as json_file:\n",
    "#     json.dump(serializable_scraping_base, json_file, ensure_ascii=False, indent=4)"
   ]
  },
  {
   "cell_type": "code",
   "execution_count": null,
   "metadata": {},
   "outputs": [],
   "source": [
    "# with open('json_files/scraping_base.json', 'r', encoding='utf-8') as json_file:\n",
    "#     loaded_scraping_base = json.load(json_file)\n",
    "\n",
    "# # Convert serialized dictionaries back to DataFrames\n",
    "# def convert_dict_to_df(d):\n",
    "#     if isinstance(d, list) and all(isinstance(i, dict) for i in d):\n",
    "#         return pd.DataFrame(d)\n",
    "#     elif isinstance(d, list):\n",
    "#         return [convert_dict_to_df(i) for i in d]\n",
    "#     elif isinstance(d, dict):\n",
    "#         return {k: convert_dict_to_df(v) for k, v in d.items()}\n",
    "#     else:\n",
    "#         return d\n",
    "\n",
    "# scraping_base = convert_dict_to_df(loaded_scraping_base)"
   ]
  },
  {
   "cell_type": "code",
   "execution_count": null,
   "metadata": {},
   "outputs": [],
   "source": [
    "scraping_base['Abrasives']  #🟢"
   ]
  },
  {
   "cell_type": "markdown",
   "metadata": {},
   "source": [
    "## Remark extraction"
   ]
  },
  {
   "cell_type": "code",
   "execution_count": null,
   "metadata": {},
   "outputs": [],
   "source": [
    "scraping_base_bricolage = {k: v for k, v in list(scraping_base.items()) if k != 'Palladium' and k != 'Zirconium'}"
   ]
  },
  {
   "cell_type": "code",
   "execution_count": null,
   "metadata": {},
   "outputs": [],
   "source": [
    "scraping_base_bricolage.keys()"
   ]
  },
  {
   "cell_type": "code",
   "execution_count": null,
   "metadata": {},
   "outputs": [],
   "source": [
    "scraping_base_bricolage['Gallium']['remarks']"
   ]
  },
  {
   "cell_type": "code",
   "execution_count": null,
   "metadata": {},
   "outputs": [],
   "source": [
    "# for material in list(scraping_base_bricolage.keys()):\n",
    "#   scraping_base_bricolage[material]['remarks'] = pd.DataFrame()"
   ]
  },
  {
   "cell_type": "code",
   "execution_count": null,
   "metadata": {},
   "outputs": [],
   "source": [
    "for material, data in scraping_base_bricolage.items():\n",
    "    # Ensure pages_content is not empty\n",
    "    if data['pages_content']:\n",
    "        # print(f\" ▶️ {data['pages_content'][0]}\")\n",
    "        remarks = extract_text_between_delimiters(data['pages_content'][0], pdf_path, data['pages_num'][0])\n",
    "        data['remarks'] = remarks\n",
    "    else:\n",
    "        print(f\" ▶️ No pages_content for material: {material}\")\n",
    "    \n",
    "    data['remarks'] = data['remarks'].drop_duplicates(subset=['text'])"
   ]
  },
  {
   "cell_type": "code",
   "execution_count": null,
   "metadata": {},
   "outputs": [],
   "source": [
    "data['remarks'].columns, data['pages_content'][0].columns"
   ]
  },
  {
   "cell_type": "code",
   "execution_count": null,
   "metadata": {},
   "outputs": [],
   "source": [
    "scraping_base_bricolage['Platinum']['remarks']"
   ]
  },
  {
   "cell_type": "code",
   "execution_count": null,
   "metadata": {},
   "outputs": [],
   "source": [
    "# def convert_df_to_dict(d):\n",
    "#     if isinstance(d, pd.DataFrame):\n",
    "#         return d.to_dict(orient='records')\n",
    "#     elif isinstance(d, list):\n",
    "#         return [convert_df_to_dict(i) for i in d]\n",
    "#     elif isinstance(d, dict):\n",
    "#         return {k: convert_df_to_dict(v) for k, v in d.items()}\n",
    "#     else:\n",
    "#         return d\n",
    "\n",
    "# serializable_scraping_base = convert_df_to_dict(scraping_base_bricolage)\n",
    "\n",
    "# # Save the dictionary to a JSON file\n",
    "# with open('json_files/scraping_base.json', 'w', encoding='utf-8') as json_file:\n",
    "#     json.dump(serializable_scraping_base, json_file, ensure_ascii=False, indent=4)"
   ]
  },
  {
   "cell_type": "markdown",
   "metadata": {},
   "source": [
    "## Table extraction"
   ]
  },
  {
   "cell_type": "code",
   "execution_count": 1,
   "metadata": {},
   "outputs": [],
   "source": [
    "# START RUN"
   ]
  },
  {
   "cell_type": "code",
   "execution_count": 2,
   "metadata": {},
   "outputs": [],
   "source": [
    "%load_ext autoreload\n",
    "%autoreload 2\n",
    "\n",
    "from utils import *\n",
    "pdf_path = \"mcs2024.pdf\""
   ]
  },
  {
   "cell_type": "code",
   "execution_count": 3,
   "metadata": {},
   "outputs": [],
   "source": [
    "with open('json_files/scraping_base.json', 'r', encoding='utf-8') as json_file:\n",
    "    loaded_scraping_base = json.load(json_file)\n",
    "\n",
    "# Convert serialized dictionaries back to DataFrames\n",
    "def convert_dict_to_df(d):\n",
    "    if isinstance(d, list) and all(isinstance(i, dict) for i in d):\n",
    "        return pd.DataFrame(d)\n",
    "    elif isinstance(d, list):\n",
    "        return [convert_dict_to_df(i) for i in d]\n",
    "    elif isinstance(d, dict):\n",
    "        return {k: convert_dict_to_df(v) for k, v in d.items()}\n",
    "    else:\n",
    "        return d\n",
    "\n",
    "scraping_base = convert_dict_to_df(loaded_scraping_base)"
   ]
  },
  {
   "cell_type": "code",
   "execution_count": 4,
   "metadata": {},
   "outputs": [],
   "source": [
    "for material in list(scraping_base.keys()):\n",
    "  scraping_base[material]['tables'] = []"
   ]
  },
  {
   "cell_type": "code",
   "execution_count": 5,
   "metadata": {},
   "outputs": [
    {
     "name": "stdout",
     "output_type": "stream",
     "text": [
      "Dataframe is either not defined or empty. Scaling not applied.\n",
      "Dataframe is either not defined or empty. Scaling not applied.\n",
      "Dataframe is either not defined or empty. Scaling not applied.\n",
      "Dataframe is either not defined or empty. Scaling not applied.\n",
      "Dataframe is either not defined or empty. Scaling not applied.\n",
      "Dataframe is either not defined or empty. Scaling not applied.\n",
      "Dataframe is either not defined or empty. Scaling not applied.\n",
      "Dataframe is either not defined or empty. Scaling not applied.\n",
      "Dataframe is either not defined or empty. Scaling not applied.\n",
      "Dataframe is either not defined or empty. Scaling not applied.\n",
      "Dataframe is either not defined or empty. Scaling not applied.\n",
      "Dataframe is either not defined or empty. Scaling not applied.\n"
     ]
    }
   ],
   "source": [
    "import pandas as pd\n",
    "import warnings\n",
    "\n",
    "# Suppress SettingWithCopyWarning\n",
    "pd.options.mode.chained_assignment = None\n",
    "\n",
    "# Suppress specific FutureWarnings\n",
    "warnings.filterwarnings(\"ignore\", category=FutureWarning, message=\"The 'method' keyword in Series.replace is deprecated\")\n",
    "warnings.filterwarnings(\"ignore\", category=FutureWarning, message=\"Calling float on a single element Series is deprecated\")\n",
    "\n",
    "mt = 3\n",
    "\n",
    "for material in list(scraping_base.keys()):\n",
    "    if isinstance(scraping_base[material]['tables'], pd.DataFrame):\n",
    "        scraping_base[material]['tables'] = scraping_base[material]['tables'].to_dict(orient='records')\n",
    "    else:\n",
    "        scraping_base[material]['tables'] = []\n",
    "\n",
    "    selected_ps, contents = scraping_base[material]['pages_num'], scraping_base[material]['pages_content']\n",
    "    i = 0\n",
    "\n",
    "    for selected_p in selected_ps:\n",
    "        content = contents[i]\n",
    "        i += 1\n",
    "        result = extract_table(selected_p - 1, content, mt)\n",
    "        if result is None or len(result[0]) == 0:\n",
    "            continue\n",
    "\n",
    "        list_of_table_df, list_of_bbox, page = result\n",
    "        table_dfs = table_to_df(list_of_table_df, list_of_bbox, page, pdf_path)\n",
    "        if not table_dfs:\n",
    "            continue\n",
    "\n",
    "        for table_df, bbox in zip(table_dfs, list_of_bbox):\n",
    "            table = table_df.sort_values('bottom')\n",
    "            scraping_base[material]['tables'].append((table.to_dict(orient='records'), bbox, page))"
   ]
  },
  {
   "cell_type": "code",
   "execution_count": 6,
   "metadata": {},
   "outputs": [],
   "source": [
    "# material_test = ['Arsenic', 'Bismuth', 'Cadmium']\n",
    "\n",
    "# material_test = ['Boron', 'Iron Ore', 'Strontium']\n",
    "\n",
    "# material_test = ['Sand and Gravel', 'Stone']\n",
    "\n",
    "# material_test = ['Chromium']"
   ]
  },
  {
   "cell_type": "code",
   "execution_count": 7,
   "metadata": {},
   "outputs": [],
   "source": [
    "# import pandas as pd\n",
    "# import warnings\n",
    "\n",
    "# # Suppress SettingWithCopyWarning\n",
    "# pd.options.mode.chained_assignment = None\n",
    "\n",
    "# # Suppress specific FutureWarnings\n",
    "# warnings.filterwarnings(\"ignore\", category=FutureWarning, message=\"The 'method' keyword in Series.replace is deprecated\")\n",
    "# warnings.filterwarnings(\"ignore\", category=FutureWarning, message=\"Calling float on a single element Series is deprecated\")\n",
    "\n",
    "# # Your existing code\n",
    "# for material in material_test:\n",
    "#     if isinstance(scraping_base[material]['tables'], pd.DataFrame):\n",
    "#         scraping_base[material]['tables'] = scraping_base[material]['tables'].to_dict(orient='records')\n",
    "#     else:\n",
    "#         scraping_base[material]['tables'] = []\n",
    "\n",
    "#     selected_ps, contents = scraping_base[material]['pages_num'], scraping_base[material]['pages_content']\n",
    "#     i = 0\n",
    "\n",
    "#     for selected_p in selected_ps:\n",
    "#         content = contents[i]\n",
    "#         i += 1\n",
    "#         result = extract_table(selected_p - 1, content, 2)\n",
    "#         if result is None or len(result[0]) == 0:\n",
    "#             continue\n",
    "\n",
    "#         list_of_table_df, list_of_bbox, page = result\n",
    "#         table_dfs, combined_words = table_to_df(list_of_table_df, list_of_bbox, page, pdf_path)\n",
    "#         if not table_dfs:\n",
    "#             continue\n",
    "\n",
    "#         for table_df, bbox in zip(table_dfs, list_of_bbox):\n",
    "#             table = table_df.sort_values('bottom')\n",
    "#             # print(table)\n",
    "#             # print(\"*\"*40)\n",
    "#             # print()\n",
    "#             scraping_base[material]['tables'].append((table.to_dict(orient='records'), bbox, page))"
   ]
  },
  {
   "cell_type": "code",
   "execution_count": 8,
   "metadata": {},
   "outputs": [
    {
     "data": {
      "text/plain": [
       "([            text          x0          x1        top        doctop     bottom  \\\n",
       "  58      Refinery  262.620000  302.693988  115.66752  126078.00108  125.68752   \n",
       "  59   productione  305.460000  361.320288  114.39648  126076.73004  125.68752   \n",
       "  61      Reserves  482.340000  526.860000  114.39648  126076.73004  125.68752   \n",
       "  62          2022  274.200000  296.511120  126.64752  126088.98108  136.66752   \n",
       "  63          2023  346.200000  368.511120  126.64752  126088.98108  136.66752   \n",
       "  ..           ...         ...         ...        ...           ...        ...   \n",
       "  123        total   83.041728  101.947464  291.13650  126253.47006  301.15650   \n",
       "  124    (rounded)  104.702964  148.125636  291.13650  126253.47006  301.15650   \n",
       "  125       13,310  267.782880  296.451120  290.04600  126252.37956  301.15650   \n",
       "  126       13,600  339.782880  368.452260  290.04600  126252.37956  301.15650   \n",
       "  127       95,000  499.860000  530.512908  291.13650  126253.47006  301.15650   \n",
       "  \n",
       "       upright    height      width direction  margin_top  \n",
       "  58      True  10.02000  40.073988       ltr    32.54718  \n",
       "  59      True  11.29104  55.860288       ltr    10.02000  \n",
       "  61      True  11.29104  44.520000       ltr     0.00000  \n",
       "  62      True  10.02000  22.311120       ltr    22.27104  \n",
       "  63      True  10.02000  22.311120       ltr     0.00000  \n",
       "  ..       ...       ...        ...       ...         ...  \n",
       "  123     True  10.02000  18.905736       ltr     0.00000  \n",
       "  124     True  10.02000  43.422672       ltr     0.00000  \n",
       "  125     True  11.11050  28.668240       ltr    10.02000  \n",
       "  126     True  11.11050  28.669380       ltr     0.00000  \n",
       "  127     True  10.02000  30.652908       ltr    11.11050  \n",
       "  \n",
       "  [69 rows x 11 columns]],\n",
       " [{'bbox_top': 111.39648000000011,\n",
       "   'bbox_bottom': 301.1565,\n",
       "   'bbox_start': 44.94,\n",
       "   'bbox_end': 530.5140479999999}],\n",
       " 162)"
      ]
     },
     "execution_count": 8,
     "metadata": {},
     "output_type": "execute_result"
    }
   ],
   "source": [
    "result"
   ]
  },
  {
   "cell_type": "code",
   "execution_count": 9,
   "metadata": {},
   "outputs": [],
   "source": [
    "# STOP"
   ]
  },
  {
   "cell_type": "code",
   "execution_count": 10,
   "metadata": {},
   "outputs": [],
   "source": [
    "# result[0][0]['text'].to_list()\n",
    "# result"
   ]
  },
  {
   "cell_type": "code",
   "execution_count": 11,
   "metadata": {},
   "outputs": [],
   "source": [
    "def convert_df_to_dict(d):\n",
    "    if isinstance(d, pd.DataFrame):\n",
    "        return d.to_dict(orient='records')\n",
    "    elif isinstance(d, list):\n",
    "        return [convert_df_to_dict(i) for i in d]\n",
    "    elif isinstance(d, dict):\n",
    "        return {k: convert_df_to_dict(v) for k, v in d.items()}\n",
    "    else:\n",
    "        return d\n",
    "\n",
    "serializable_scraping_base = convert_df_to_dict(scraping_base)\n",
    "\n",
    "# Save the dictionary to a JSON file\n",
    "with open('json_files/scraping_base_with_tables.json', 'w', encoding='utf-8') as json_file:\n",
    "    json.dump(serializable_scraping_base, json_file, ensure_ascii=False, indent=4)"
   ]
  },
  {
   "cell_type": "markdown",
   "metadata": {},
   "source": [
    "## Dictionary to excel"
   ]
  },
  {
   "cell_type": "code",
   "execution_count": 12,
   "metadata": {},
   "outputs": [],
   "source": [
    "with open('json_files/scraping_base_with_tables.json', 'r', encoding='utf-8') as json_file:\n",
    "    loaded_scraping_base = json.load(json_file)\n",
    "\n",
    "# Convert serialized dictionaries back to DataFrames\n",
    "def convert_dict_to_df(d):\n",
    "    if isinstance(d, list) and all(isinstance(i, dict) for i in d):\n",
    "        return pd.DataFrame(d)\n",
    "    elif isinstance(d, list):\n",
    "        return [convert_dict_to_df(i) for i in d]\n",
    "    elif isinstance(d, dict):\n",
    "        return {k: convert_dict_to_df(v) for k, v in d.items()}\n",
    "    else:\n",
    "        return d\n",
    "\n",
    "scraping_base = convert_dict_to_df(loaded_scraping_base)"
   ]
  },
  {
   "cell_type": "code",
   "execution_count": 13,
   "metadata": {},
   "outputs": [],
   "source": [
    "for material in list(scraping_base.keys()):\n",
    "    for i in range(len(scraping_base[material]['tables'])):\n",
    "        table, bbox, page = scraping_base[material]['tables'][i]\n",
    "        table = table.sort_values('bottom')\n",
    "        table = table.drop('bottom', axis=1)\n",
    "        scraping_base[material]['tables'][i][0] = table "
   ]
  },
  {
   "cell_type": "code",
   "execution_count": 14,
   "metadata": {},
   "outputs": [
    {
     "name": "stdout",
     "output_type": "stream",
     "text": [
      "Excel file created successfully.\n"
     ]
    }
   ],
   "source": [
    "with pd.ExcelWriter('excel_output/all_extracted_tables.xlsx', engine='openpyxl') as writer:\n",
    "    for material, data in scraping_base.items():\n",
    "\n",
    "        # Write remarks and tables in the same sheet, but separated by columns\n",
    "        combined_sheet_name = f\"{material}_raw_info\"\n",
    "        \n",
    "        # Write remarks\n",
    "        remarks_df = data['remarks'][['text']]\n",
    "        remarks_df.columns = ['remark']\n",
    "        remarks_df.to_excel(writer, sheet_name=combined_sheet_name, startrow=0, startcol=0, index=False)\n",
    "\n",
    "        # Write each table starting from a new column\n",
    "        start_col = len(remarks_df.columns) + 2  # Adding 2 for separation\n",
    "        for i, (table_df, bbox, page) in enumerate(data['tables']):\n",
    "            table_df.to_excel(writer, sheet_name=combined_sheet_name, startrow=0, startcol=start_col, index=False)\n",
    "            # Increment start_col by the number of columns in the table + 2 for separation\n",
    "            start_col += len(table_df.columns) + 2\n",
    "\n",
    "print(\"Excel file created successfully.\")"
   ]
  },
  {
   "cell_type": "code",
   "execution_count": 15,
   "metadata": {},
   "outputs": [
    {
     "data": {
      "text/html": [
       "<div>\n",
       "<style scoped>\n",
       "    .dataframe tbody tr th:only-of-type {\n",
       "        vertical-align: middle;\n",
       "    }\n",
       "\n",
       "    .dataframe tbody tr th {\n",
       "        vertical-align: top;\n",
       "    }\n",
       "\n",
       "    .dataframe thead th {\n",
       "        text-align: right;\n",
       "    }\n",
       "</style>\n",
       "<table border=\"1\" class=\"dataframe\">\n",
       "  <thead>\n",
       "    <tr style=\"text-align: right;\">\n",
       "      <th></th>\n",
       "      <th>remark</th>\n",
       "    </tr>\n",
       "  </thead>\n",
       "  <tbody>\n",
       "    <tr>\n",
       "      <th>0</th>\n",
       "      <td>(Data in metric tons, selenium content, unless...</td>\n",
       "    </tr>\n",
       "  </tbody>\n",
       "</table>\n",
       "</div>"
      ],
      "text/plain": [
       "                                              remark\n",
       "0  (Data in metric tons, selenium content, unless..."
      ]
     },
     "execution_count": 15,
     "metadata": {},
     "output_type": "execute_result"
    }
   ],
   "source": [
    "remarks_df"
   ]
  },
  {
   "cell_type": "markdown",
   "metadata": {},
   "source": [
    "## PDF visualisation V1"
   ]
  },
  {
   "cell_type": "code",
   "execution_count": 16,
   "metadata": {},
   "outputs": [
    {
     "data": {
      "text/plain": [
       "dict_keys(['Abrasives', 'Fluorspar', 'Mercury', 'Silicon', 'Aluminum', 'Gallium', 'Mica', 'Silver', 'Antimony', 'Garnet', 'Molybdenum', 'Soda Ash', 'Arsenic', 'Gemstones', 'Nickel', 'Stone', 'Asbestos', 'Germanium', 'Niobium', 'Strontium', 'Barite', 'Gold', 'Nitrogen', 'Sulfur', 'Bauxite', 'Graphite', 'Talc', 'Beryllium', 'Gypsum', 'Peat', 'Tantalum', 'Bismuth', 'Hafnium', 'Perlite', 'Tellurium', 'Boron', 'Helium', 'Phosphate Rock', 'Thallium', 'Bromine', 'Indium', 'Platinum', 'Thorium', 'Cadmium', 'Iodine', 'Potash', 'Tin', 'Cement', 'Iron and Steel', 'Pumice', 'Titanium', 'Cesium', 'Iron Ore', 'Quartz', 'Tungsten', 'Chromium', 'Iron Oxide Pigments', 'Rare Earths', 'Vanadium', 'Clays', 'Kyanite', 'Rhenium', 'Vermiculite', 'Cobalt', 'Lead', 'Rubidium', 'Wollastonite', 'Copper', 'Lime', 'Salt', 'Yttrium', 'Diamond', 'Lithium', 'Sand and Gravel', 'Zeolites', 'Diatomite', 'Magnesium', 'Scandium', 'Zinc', 'Feldspar', 'Manganese', 'Selenium'])"
      ]
     },
     "execution_count": 16,
     "metadata": {},
     "output_type": "execute_result"
    }
   ],
   "source": [
    "scraping_base.keys()"
   ]
  },
  {
   "cell_type": "code",
   "execution_count": 17,
   "metadata": {},
   "outputs": [],
   "source": [
    "scraping_base_bricolage = {k: v for k, v in list(scraping_base.items()) if k != 'Palladium' and k != 'Zirconium'}"
   ]
  },
  {
   "cell_type": "code",
   "execution_count": 18,
   "metadata": {},
   "outputs": [
    {
     "name": "stdout",
     "output_type": "stream",
     "text": [
      "Rectangles drawn for materials in mcs2024.pdf and saved to pdf_output/mcs2024_data_all_tables.pdf.\n"
     ]
    }
   ],
   "source": [
    "output_pdf_path = 'pdf_output/mcs2024_data_all_tables.pdf'\n",
    "\n",
    "draw_rectangles_for_materials(pdf_path, output_pdf_path, scraping_base_bricolage)\n",
    "\n",
    "print(f\"Rectangles drawn for materials in {pdf_path} and saved to {output_pdf_path}.\")"
   ]
  },
  {
   "cell_type": "markdown",
   "metadata": {},
   "source": [
    "## Keep useful table in pdf and excel"
   ]
  },
  {
   "cell_type": "code",
   "execution_count": 19,
   "metadata": {},
   "outputs": [],
   "source": [
    "def convert_dict_to_df(d):\n",
    "    for key, value in d.items():\n",
    "        if isinstance(value, dict):\n",
    "            d[key] = convert_dict_to_df(value)\n",
    "        elif isinstance(value, list):\n",
    "            if all(isinstance(item, dict) for item in value):\n",
    "                d[key] = pd.DataFrame(value)\n",
    "            else:\n",
    "                d[key] = [convert_dict_to_df(item) if isinstance(item, dict) else item for item in value]\n",
    "    return d"
   ]
  },
  {
   "cell_type": "code",
   "execution_count": 20,
   "metadata": {},
   "outputs": [],
   "source": [
    "def table_contains_target_phrases(table, target_phrases):\n",
    "    return any(any(phrase.lower() in str(cell).lower() for cell in row) for row in table.values for phrase in target_phrases)\n",
    "\n",
    "# Load the JSON file\n",
    "with open('json_files/scraping_base_with_tables.json', 'r', encoding='utf-8') as json_file:\n",
    "    loaded_scraping_base = json.load(json_file)\n",
    "\n",
    "# Convert dictionary to DataFrame where applicable\n",
    "scraping_base = convert_dict_to_df(loaded_scraping_base)"
   ]
  },
  {
   "cell_type": "code",
   "execution_count": 21,
   "metadata": {},
   "outputs": [
    {
     "name": "stdout",
     "output_type": "stream",
     "text": [
      "[[{'text': None, 'bottom': 323.68752, 'text_1': 'Fused aluminum oxide', 'text_2': 'Fused aluminum oxide', 'text_3': 'Silicon carbide', 'text_4': 'Silicon carbide'}, {'text': None, 'bottom': 334.66751999999997, 'text_1': '2022', 'text_2': '2023', 'text_3': '2022', 'text_4': '2023'}, {'text': 'United States', 'bottom': 345.1965, 'text_1': '—', 'text_2': '—', 'text_3': '40,000', 'text_4': '40,000'}, {'text': 'United States and Canada', 'bottom': 356.17650000000003, 'text_1': '60,000', 'text_2': '60,000', 'text_3': '—', 'text_4': '—'}, {'text': 'Australia', 'bottom': 367.1565, 'text_1': '50,000', 'text_2': '50,000', 'text_3': '—', 'text_4': '—'}, {'text': 'Austria', 'bottom': 378.1965, 'text_1': '90,000', 'text_2': '90,000', 'text_3': '—', 'text_4': '—'}, {'text': 'Brazil', 'bottom': 389.17650000000003, 'text_1': '50,000', 'text_2': '50,000', 'text_3': '40,000', 'text_4': '40,000'}, {'text': 'China', 'bottom': 400.1565, 'text_1': '800,000', 'text_2': '800,000', 'text_3': '450,000', 'text_4': '450,000'}, {'text': 'France', 'bottom': 411.1965, 'text_1': '40,000', 'text_2': '40,000', 'text_3': '20,000', 'text_4': '20,000'}, {'text': 'Germany', 'bottom': 422.17650000000003, 'text_1': '80,000', 'text_2': '80,000', 'text_3': '35,000', 'text_4': '35,000'}, {'text': 'India', 'bottom': 433.1565, 'text_1': '40,000', 'text_2': '40,000', 'text_3': '5,000', 'text_4': '5,000'}, {'text': 'Japan', 'bottom': 444.1965, 'text_1': '15,000', 'text_2': '15,000', 'text_3': '60,000', 'text_4': '60,000'}, {'text': 'Mexico', 'bottom': 455.17650000000003, 'text_1': '—', 'text_2': '—', 'text_3': '45,000', 'text_4': '45,000'}, {'text': 'Norway', 'bottom': 466.1565, 'text_1': '—', 'text_2': '—', 'text_3': '80,000', 'text_4': '80,000'}, {'text': 'Venezuela', 'bottom': 477.1965, 'text_1': '—', 'text_2': '—', 'text_3': '30,000', 'text_4': '30,000'}, {'text': 'Other countries', 'bottom': 488.17650000000003, 'text_1': '80,000', 'text_2': '80,000', 'text_3': '200,000', 'text_4': '200,000'}, {'text': 'World total (rounded)', 'bottom': 499.1565, 'text_1': '1,310,000', 'text_2': '1,300,000', 'text_3': '1,000,000', 'text_4': '1,000,000'}], {'bbox_top': 310.66752, 'bbox_bottom': 499.1565, 'bbox_start': 44.94, 'bbox_end': 521.516856}, 34]\n",
      "========================================\n",
      "\n",
      "[[{'text': None, 'bottom': 356.66496, 'text_1': 'Mine production', 'text_2': 'Mine production', 'text_3': 'Reserves'}, {'text': None, 'bottom': 367.70495999999997, 'text_1': '2022', 'text_2': '2023e', 'text_3': None}, {'text': 'United States', 'bottom': 378.117, 'text_1': 'NA', 'text_2': 'NA', 'text_3': 'NA'}, {'text': 'China', 'bottom': 389.15700000000004, 'text_1': '5,700', 'text_2': '5,700', 'text_3': '67,000'}, {'text': 'Germany', 'bottom': 400.197, 'text_1': '60', 'text_2': '60', 'text_3': 'NA'}, {'text': 'Iran', 'bottom': 411.117, 'text_1': '116', 'text_2': '120', 'text_3': '4,500'}, {'text': 'Mexico', 'bottom': 422.15700000000004, 'text_1': '1,000', 'text_2': '1000', 'text_3': '68,000'}, {'text': 'Mongolia', 'bottom': 433.197, 'text_1': '425', 'text_2': '930', 'text_3': '34,000'}, {'text': 'Pakistan', 'bottom': 444.117, 'text_1': '52', 'text_2': '52', 'text_3': 'NA'}, {'text': 'South Africa', 'bottom': 455.15700000000004, 'text_1': '406', 'text_2': '410', 'text_3': '41,000'}, {'text': 'Spain', 'bottom': 466.197, 'text_1': '153', 'text_2': '150', 'text_3': '15,000'}, {'text': 'Vietnam', 'bottom': 477.117, 'text_1': '218', 'text_2': '170', 'text_3': '3,400'}, {'text': 'Other countries', 'bottom': 488.15700000000004, 'text_1': '190', 'text_2': '170', 'text_3': '50,000'}, {'text': 'World total (rounded)', 'bottom': 499.197, 'text_1': '8,320', 'text_2': '8,800', 'text_3': '280,000'}], {'bbox_top': 343.70496, 'bbox_bottom': 499.197, 'bbox_start': 44.88, 'bbox_end': 516.8844}, 76]\n",
      "========================================\n",
      "\n",
      "[[{'text': None, 'bottom': 301.66751999999997, 'text_1': 'Mine production', 'text_2': 'Mine production', 'text_3': 'Reserves'}, {'text': None, 'bottom': 312.70752, 'text_1': '2022', 'text_2': '2023', 'text_3': None}, {'text': 'United States', 'bottom': 323.17650000000003, 'text_1': 'NA', 'text_2': 'NA', 'text_3': 'Quantitative estimates of'}, {'text': 'China', 'bottom': 334.1565, 'text_1': '1,000', 'text_2': '1,000', 'text_3': 'reserves were not available.'}, {'text': 'Kyrgyzstan', 'bottom': 345.1965, 'text_1': '6', 'text_2': '6', 'text_3': 'China, Kyrgyzstan, and Peru'}, {'text': 'Morocco', 'bottom': 356.17650000000003, 'text_1': '2', 'text_2': '2', 'text_3': 'have the largest reserves.'}, {'text': 'Norway', 'bottom': 367.1565, 'text_1': '20', 'text_2': '20', 'text_3': None}, {'text': 'Peru (exports)', 'bottom': 378.1965, 'text_1': '30', 'text_2': '30', 'text_3': None}, {'text': 'Tajikistan', 'bottom': 389.17650000000003, 'text_1': '100', 'text_2': '100', 'text_3': None}, {'text': 'World total (rounded)', 'bottom': 400.1565, 'text_1': '1,160', 'text_2': '1,200', 'text_3': None}], {'bbox_top': 288.64752, 'bbox_bottom': 400.1565, 'bbox_start': 44.94, 'bbox_end': 528.1171259999999}, 122]\n",
      "========================================\n",
      "\n",
      "[[{'text': None, 'bottom': 279.70752000000005, 'text_1': 'Ferrosilicon', 'text_2': 'Ferrosilicon', 'text_3': 'Silicon metal', 'text_4': 'Silicon metal'}, {'text': None, 'bottom': 290.68752, 'text_1': '2022', 'text_2': '2023', 'text_3': '2022', 'text_4': '2023'}, {'text': 'United States', 'bottom': 301.1565, 'text_1': 'W', 'text_2': 'W', 'text_3': 'W', 'text_4': 'W'}, {'text': 'Australia', 'bottom': 312.1965, 'text_1': '—', 'text_2': '—', 'text_3': '48', 'text_4': '50'}, {'text': 'Bhutan', 'bottom': 323.17650000000003, 'text_1': '75', 'text_2': '80', 'text_3': '—', 'text_4': '—'}, {'text': 'Brazil', 'bottom': 334.1565, 'text_1': '189', 'text_2': '190', 'text_3': '202', 'text_4': '200'}, {'text': 'Canada', 'bottom': 345.1965, 'text_1': '20', 'text_2': '20', 'text_3': '29', 'text_4': '30'}, {'text': 'China', 'bottom': 356.17650000000003, 'text_1': '3,770', 'text_2': '3,600', 'text_3': '2,900', 'text_4': '3,000'}, {'text': 'France', 'bottom': 367.1565, 'text_1': '25', 'text_2': '20', 'text_3': '96', 'text_4': '90'}, {'text': 'Germany', 'bottom': 378.1965, 'text_1': '—', 'text_2': '—', 'text_3': '62', 'text_4': '60'}, {'text': 'Iceland', 'bottom': 389.17650000000003, 'text_1': '79', 'text_2': '80', 'text_3': '49', 'text_4': '50'}, {'text': 'India', 'bottom': 400.1565, 'text_1': '59', 'text_2': '60', 'text_3': '—', 'text_4': '—'}, {'text': 'Kazakhstan', 'bottom': 411.1965, 'text_1': '96', 'text_2': '120', 'text_3': '5', 'text_4': '5'}, {'text': 'Malaysia', 'bottom': 422.17650000000003, 'text_1': '91', 'text_2': '80', 'text_3': '—', 'text_4': '—'}, {'text': 'Norway', 'bottom': 433.1565, 'text_1': '195', 'text_2': '200', 'text_3': '144', 'text_4': '140'}, {'text': 'Poland', 'bottom': 444.1965, 'text_1': '47', 'text_2': '50', 'text_3': '—', 'text_4': '—'}, {'text': 'Russia', 'bottom': 455.17650000000003, 'text_1': '572', 'text_2': '570', 'text_3': '54', 'text_4': '50'}, {'text': 'Spain', 'bottom': 466.1565, 'text_1': '46', 'text_2': '50', 'text_3': '6', 'text_4': '6'}, {'text': 'Ukraine', 'bottom': 477.1965, 'text_1': '28', 'text_2': '2', 'text_3': '—', 'text_4': '—'}, {'text': 'Other countries', 'bottom': 488.17650000000003, 'text_1': '144', 'text_2': '100', 'text_3': '79', 'text_4': '80'}, {'text': 'World total (rounded)', 'bottom': 499.1565, 'text_1': '5,440', 'text_2': '5,200', 'text_3': '3,670', 'text_4': '3,800'}], {'bbox_top': 265.4164800000001, 'bbox_bottom': 499.1565, 'bbox_start': 44.94, 'bbox_end': 487.43454}, 164]\n",
      "========================================\n",
      "\n",
      "[[{'text': None, 'bottom': 356.68752, 'text_1': 'Smelter production', 'text_2': 'Smelter production', 'text_3': 'Yearend capacity', 'text_4': 'Yearend capacity'}, {'text': None, 'bottom': 367.66751999999997, 'text_1': '2022', 'text_2': '2023', 'text_3': '2022', 'text_4': '2023'}, {'text': 'United States', 'bottom': 378.1965, 'text_1': '861', 'text_2': '750', 'text_3': '1,640', 'text_4': '1,360'}, {'text': 'Australia', 'bottom': 389.17650000000003, 'text_1': '1,510', 'text_2': '1,500', 'text_3': '1,730', 'text_4': '1,730'}, {'text': 'Bahrain', 'bottom': 400.1565, 'text_1': '1,600', 'text_2': '1,600', 'text_3': '1,600', 'text_4': '1,600'}, {'text': 'Brazil', 'bottom': 411.1965, 'text_1': '811', 'text_2': '1,100', 'text_3': '1,280', 'text_4': '1,280'}, {'text': 'Canada', 'bottom': 422.17650000000003, 'text_1': '2,770', 'text_2': '3,000', 'text_3': '3,270', 'text_4': '3,270'}, {'text': 'China', 'bottom': 433.1565, 'text_1': '40,200', 'text_2': '41,000', 'text_3': '44,300', 'text_4': '45,000'}, {'text': 'Iceland', 'bottom': 444.1965, 'text_1': 'e720', 'text_2': '730', 'text_3': '880', 'text_4': '880'}, {'text': 'India', 'bottom': 455.17650000000003, 'text_1': '4,100', 'text_2': '4,100', 'text_3': '4,060', 'text_4': '4,060'}, {'text': 'Malaysia', 'bottom': 466.1565, 'text_1': 'e900', 'text_2': '980', 'text_3': '1,080', 'text_4': '1,080'}, {'text': 'Norway', 'bottom': 477.1965, 'text_1': '1,400', 'text_2': '1,300', 'text_3': '1,460', 'text_4': '1,460'}, {'text': 'Russia', 'bottom': 488.17650000000003, 'text_1': '3,720', 'text_2': '3,800', 'text_3': '4,080', 'text_4': '4,080'}, {'text': 'United Arab Emirates', 'bottom': 499.1565, 'text_1': '2,650', 'text_2': '2,700', 'text_3': '2,790', 'text_4': '2,790'}, {'text': 'Other countries', 'bottom': 510.1965, 'text_1': '7,110', 'text_2': '7,000', 'text_3': '10,300', 'text_4': '10,000'}, {'text': 'World total (rounded)', 'bottom': 521.1765, 'text_1': '68,400', 'text_2': '70,000', 'text_3': '78,500', 'text_4': '79,000'}], {'bbox_top': 343.66752, 'bbox_bottom': 521.1765, 'bbox_start': 46.26, 'bbox_end': 561.3028800000001}, 36]\n",
      "========================================\n",
      "\n",
      "[[{'text': None, 'bottom': 334.66751999999997, 'text_1': 'Primary production', 'text_2': 'Primary production', 'text_3': 'Production capacity'}, {'text': None, 'bottom': 345.70752, 'text_1': '2022', 'text_2': '2023e', 'text_3': '2023'}, {'text': 'United States', 'bottom': 356.17650000000003, 'text_1': '—', 'text_2': '—', 'text_3': '—'}, {'text': 'China', 'bottom': 367.1565, 'text_1': '600,000', 'text_2': '600,000', 'text_3': '1,000,000'}, {'text': 'Japan', 'bottom': 378.1965, 'text_1': '3,000', 'text_2': '3,000', 'text_3': '10,000'}, {'text': 'Korea, Republic of', 'bottom': 389.17650000000003, 'text_1': '2,000', 'text_2': '2,000', 'text_3': '16,000'}, {'text': 'Russia', 'bottom': 400.1565, 'text_1': '5,000', 'text_2': '5,000', 'text_3': '10,000'}, {'text': 'Other countries', 'bottom': 411.1965, 'text_1': '—', 'text_2': '—', 'text_3': '88,000'}, {'text': 'World total (rounded)', 'bottom': 422.17650000000003, 'text_1': '610,000', 'text_2': '610,000', 'text_3': '1,100,000'}], {'bbox_top': 321.64752, 'bbox_bottom': 422.17650000000003, 'bbox_start': 44.94, 'bbox_end': 513.895188}, 78]\n",
      "========================================\n",
      "\n",
      "[[{'text': None, 'bottom': 246.70752000000005, 'text_1': 'Scrap and flake', 'text_2': 'Scrap and flake', 'text_3': 'Scrap and flake', 'text_4': 'Shet', 'text_5': 'Shet', 'text_6': None}, {'text': None, 'bottom': 257.68751999999995, 'text_1': 'Mine productione', 'text_2': 'Reserves', 'text_3': 'Reserves', 'text_4': 'Mine productione', 'text_5': 'Mine productione', 'text_6': 'Reserves'}, {'text': None, 'bottom': 268.66751999999997, 'text_1': '2022', 'text_2': '2023', 'text_3': '2023', 'text_4': '2022', 'text_5': '2023', 'text_6': None}, {'text': 'United States', 'bottom': 279.1965, 'text_1': '42,000', 'text_2': '38,000', 'text_3': 'Large', 'text_4': 'NA', 'text_5': 'NA', 'text_6': 'Very small'}, {'text': 'Canada', 'bottom': 290.17650000000003, 'text_1': '15,000', 'text_2': '15,000', 'text_3': 'Large', 'text_4': 'NA', 'text_5': 'NA', 'text_6': 'NA'}, {'text': 'China', 'bottom': 301.1565, 'text_1': '80,000', 'text_2': '85,000', 'text_3': '1,100,000', 'text_4': 'NA', 'text_5': 'NA', 'text_6': '75,000'}, {'text': 'Finland', 'bottom': 312.1965, 'text_1': '58,200', 'text_2': '60,000', 'text_3': 'Large', 'text_4': 'NA', 'text_5': 'NA', 'text_6': 'NA'}, {'text': 'France', 'bottom': 323.17650000000003, 'text_1': '15,000', 'text_2': '10,000', 'text_3': 'Large', 'text_4': 'NA', 'text_5': 'NA', 'text_6': 'NA'}, {'text': 'India', 'bottom': 334.1565, 'text_1': '14,000', 'text_2': '14,000', 'text_3': 'Large', 'text_4': '1,000', 'text_5': '1,000', 'text_6': '110,000'}, {'text': 'Korea, Republic of', 'bottom': 345.1965, 'text_1': '10,200', 'text_2': '12,000', 'text_3': '11,000,000', 'text_4': '—', 'text_5': '—', 'text_6': 'NA'}, {'text': 'Madagascar', 'bottom': 356.17650000000003, 'text_1': '35,000', 'text_2': '50,000', 'text_3': 'Large', 'text_4': '—', 'text_5': '—', 'text_6': 'NA'}, {'text': 'Turkey', 'bottom': 367.1565, 'text_1': '96,070', 'text_2': '4,000', 'text_3': '620,000', 'text_4': '—', 'text_5': '—', 'text_6': 'NA'}, {'text': 'Other countries', 'bottom': 378.1965, 'text_1': '42,500', 'text_2': '39,000', 'text_3': 'Large', 'text_4': '200', 'text_5': '200', 'text_6': 'Moderate'}, {'text': 'World total (rounded)', 'bottom': 389.17650000000003, 'text_1': '318,000', 'text_2': '330,000', 'text_3': 'Large', 'text_4': 'NA', 'text_5': 'NA', 'text_6': 'NA'}], {'bbox_top': 233.68752000000006, 'bbox_bottom': 389.17650000000003, 'bbox_start': 44.94, 'bbox_end': 548.882298}, 124]\n",
      "========================================\n",
      "\n",
      "[[{'text': None, 'bottom': 169.66751999999997, 'text_1': 'Mine production', 'text_2': 'Mine production', 'text_3': 'Reserves'}, {'text': None, 'bottom': 180.70752000000005, 'text_1': '2022', 'text_2': '2023e', 'text_3': None}, {'text': 'United States', 'bottom': 191.17649999999992, 'text_1': '1,010', 'text_2': '1,000', 'text_3': '23,000'}, {'text': 'Argentina', 'bottom': 202.15649999999994, 'text_1': '913', 'text_2': '910', 'text_3': '6,500'}, {'text': 'Australia', 'bottom': 213.19650000000001, 'text_1': '1,167', 'text_2': '1,200', 'text_3': '094,000'}, {'text': 'Bolivia', 'bottom': 224.17649999999992, 'text_1': '1,214', 'text_2': '1,200', 'text_3': '22,000'}, {'text': 'Chile', 'bottom': 235.15649999999994, 'text_1': '1,274', 'text_2': '1,400', 'text_3': '26,000'}, {'text': 'China', 'bottom': 246.19650000000001, 'text_1': '3,480', 'text_2': '3,400', 'text_3': '72,000'}, {'text': 'India', 'bottom': 257.1764999999999, 'text_1': '694', 'text_2': '690', 'text_3': '8,000'}, {'text': 'Kazakhstan', 'bottom': 268.15649999999994, 'text_1': '1,053', 'text_2': '990', 'text_3': 'NA'}, {'text': 'Mexico', 'bottom': 279.1965, 'text_1': '6,195', 'text_2': '6,400', 'text_3': '37,000'}, {'text': 'Peru', 'bottom': 290.17650000000003, 'text_1': '3,079', 'text_2': '3,100', 'text_3': '110,000'}, {'text': 'Poland', 'bottom': 301.1565, 'text_1': '1,316', 'text_2': '1,300', 'text_3': '*63,000'}, {'text': 'Russia', 'bottom': 312.1965, 'text_1': '1,280', 'text_2': '1,200', 'text_3': '92,000'}, {'text': 'Other countries', 'bottom': 323.17650000000003, 'text_1': '2,940', 'text_2': '3,000', 'text_3': '57,000'}, {'text': 'World total (rounded)', 'bottom': 334.1565, 'text_1': '25,600', 'text_2': '26,000', 'text_3': '*610,000'}], {'bbox_top': 156.64752, 'bbox_bottom': 334.1565, 'bbox_start': 44.94, 'bbox_end': 538.1190199999999}, 166]\n",
      "========================================\n",
      "\n",
      "[[{'text': None, 'bottom': 180.70752000000005, 'text_1': 'Mine production', 'text_2': 'Mine production', 'text_3': 'Reserves'}, {'text': None, 'bottom': 191.68751999999995, 'text_1': '2022', 'text_2': '2023e', 'text_3': None}, {'text': 'United States', 'bottom': 202.15649999999994, 'text_1': '—', 'text_2': '—', 'text_3': '60,000'}, {'text': 'Australia', 'bottom': 213.19650000000001, 'text_1': '2,290', 'text_2': '2,300', 'text_3': '140,000'}, {'text': 'Bolivia', 'bottom': 224.17649999999992, 'text_1': '3,000', 'text_2': '3,000', 'text_3': '310,000'}, {'text': 'Burma', 'bottom': 235.15649999999994, 'text_1': '4,600', 'text_2': '4,600', 'text_3': '140,000'}, {'text': 'Canada', 'bottom': 246.19650000000001, 'text_1': 'e2', 'text_2': '2', 'text_3': '78,000'}, {'text': 'China', 'bottom': 257.1764999999999, 'text_1': '40,000', 'text_2': '40,000', 'text_3': '640,000'}, {'text': 'Guatemala', 'bottom': 268.15649999999994, 'text_1': '24', 'text_2': '24', 'text_3': 'NA'}, {'text': 'Iran', 'bottom': 279.1965, 'text_1': '500', 'text_2': '500', 'text_3': 'NA'}, {'text': 'Kazakhstan', 'bottom': 290.17650000000003, 'text_1': '300', 'text_2': '300', 'text_3': 'NA'}, {'text': 'Kyrgyzstan', 'bottom': 301.1565, 'text_1': '40', 'text_2': '40', 'text_3': '260,000'}, {'text': 'Laos', 'bottom': 312.1965, 'text_1': '220', 'text_2': '220', 'text_3': 'NA'}, {'text': 'Mexico', 'bottom': 323.17650000000003, 'text_1': '700', 'text_2': '700', 'text_3': '18,000'}, {'text': 'Pakistan', 'bottom': 334.1565, 'text_1': 'e79', 'text_2': '80', 'text_3': '26,000'}, {'text': 'Russia', 'bottom': 345.1965, 'text_1': '4,300', 'text_2': '4,300', 'text_3': '350,000'}, {'text': 'Tajikistan', 'bottom': 356.17650000000003, 'text_1': '21,000', 'text_2': '21,000', 'text_3': '50,000'}, {'text': 'Turkey', 'bottom': 367.1565, 'text_1': 'e5,800', 'text_2': '6,000', 'text_3': '99,000'}, {'text': 'Vietnam', 'bottom': 378.1965, 'text_1': '250', 'text_2': '250', 'text_3': 'NA'}, {'text': 'World total (rounded)1', 'bottom': 389.17650000000003, 'text_1': '83,100', 'text_2': '83,000', 'text_3': '>2,000,000'}], {'bbox_top': 167.68752000000006, 'bbox_bottom': 389.17650000000003, 'bbox_start': 44.94, 'bbox_end': 530.5162079999999}, 38]\n",
      "========================================\n",
      "\n",
      "[[{'text': None, 'bottom': 224.68751999999995, 'text_1': 'Mine production', 'text_2': 'Mine production', 'text_3': 'Reserves'}, {'text': None, 'bottom': 235.66751999999997, 'text_1': '2022', 'text_2': '2023', 'text_3': None}, {'text': 'United States', 'bottom': 246.19650000000001, 'text_1': '76,400', 'text_2': '68,000', 'text_3': '5,000,000'}, {'text': 'Australia', 'bottom': 257.1764999999999, 'text_1': '388,000', 'text_2': '390,000', 'text_3': 'Moderate to large'}, {'text': 'China', 'bottom': 268.15649999999994, 'text_1': '310,000', 'text_2': '310,000', 'text_3': '37,000,000'}, {'text': 'Czechia', 'bottom': 279.1965, 'text_1': 'e500', 'text_2': '500', 'text_3': 'NA'}, {'text': 'India', 'bottom': 290.17650000000003, 'text_1': '15,000', 'text_2': '15,000', 'text_3': '8,600,000'}, {'text': 'Pakistan', 'bottom': 301.1565, 'text_1': '1,870', 'text_2': '1,900', 'text_3': 'NA'}, {'text': 'South Africa', 'bottom': 312.1965, 'text_1': '179,000', 'text_2': '180,000', 'text_3': '320,000'}, {'text': 'World total (rounded)', 'bottom': 323.17650000000003, 'text_1': '971,000', 'text_2': '970,000', 'text_3': 'Moderate to large'}], {'bbox_top': 211.66751999999997, 'bbox_bottom': 323.17650000000003, 'bbox_start': 44.94, 'bbox_end': 539.518644}, 80]\n",
      "========================================\n",
      "\n",
      "[[{'text': None, 'bottom': 279.70752000000005, 'text_1': 'Mine production', 'text_2': 'Mine production', 'text_3': 'Reserves'}, {'text': None, 'bottom': 290.68752, 'text_1': '2022', 'text_2': '2023', 'text_3': '(thousand metric tons)'}, {'text': 'United States', 'bottom': 301.1565, 'text_1': '34,600', 'text_2': '34,000', 'text_3': '3,500'}, {'text': 'Argentina', 'bottom': 312.1965, 'text_1': '—', 'text_2': '—', 'text_3': '100'}, {'text': 'Armenia', 'bottom': 323.17650000000003, 'text_1': '7,800', 'text_2': '7,800', 'text_3': '150'}, {'text': 'Australia', 'bottom': 334.1565, 'text_1': '277', 'text_2': '500', 'text_3': '690'}, {'text': 'Canada', 'bottom': 345.1965, 'text_1': '952', 'text_2': '1,000', 'text_3': '72'}, {'text': 'Chile', 'bottom': 356.17650000000003, 'text_1': '45,600', 'text_2': '46,000', 'text_3': '1,400'}, {'text': 'China', 'bottom': 367.1565, 'text_1': '106,000', 'text_2': '110,000', 'text_3': '5,800'}, {'text': 'Iran', 'bottom': 378.1965, 'text_1': 'e3,700', 'text_2': '3,700', 'text_3': '43'}, {'text': 'Korea, North', 'bottom': 389.17650000000003, 'text_1': 'e700', 'text_2': '700', 'text_3': 'NA'}, {'text': 'Korea, Republic of', 'bottom': 400.1565, 'text_1': '367', 'text_2': '400', 'text_3': '8'}, {'text': 'Mexico', 'bottom': 411.1965, 'text_1': '15,500', 'text_2': '15,000', 'text_3': '130'}, {'text': 'Mongolia', 'bottom': 422.17650000000003, 'text_1': 'e3,000', 'text_2': '3,100', 'text_3': 'NA'}, {'text': 'Peru', 'bottom': 433.1565, 'text_1': '31,600', 'text_2': '37,000', 'text_3': '1,500'}, {'text': 'Russia', 'bottom': 444.1965, 'text_1': 'e1,700', 'text_2': '1,700', 'text_3': '1,100'}, {'text': 'Turkey', 'bottom': 455.17650000000003, 'text_1': '—', 'text_2': '—', 'text_3': '52'}, {'text': 'Uzbekistan', 'bottom': 466.1565, 'text_1': '1,700', 'text_2': '1,700', 'text_3': '21'}, {'text': 'World total (rounded)', 'bottom': 477.1965, 'text_1': '253,000', 'text_2': '260,000', 'text_3': '15,000'}], {'bbox_top': 266.68752000000006, 'bbox_bottom': 477.1965, 'bbox_start': 44.94, 'bbox_end': 507.15933}, 126]\n",
      "========================================\n",
      "\n",
      "[[{'text': None, 'bottom': 103.66751999999997, 'text_1': 'Mine production', 'text_2': 'Mine production', 'text_3': 'Reserves5'}, {'text': None, 'bottom': 114.70752000000005, 'text_1': '2022', 'text_2': '2023e', 'text_3': None}, {'text': 'Natural:', 'bottom': 125.17649999999992, 'text_1': None, 'text_2': None, 'text_3': None}, {'text': 'United States', 'bottom': 136.15649999999994, 'text_1': '11,300', 'text_2': '11,000', 'text_3': '23,000,000'}, {'text': 'Botswana', 'bottom': 147.19650000000001, 'text_1': '285', 'text_2': '270', 'text_3': '16,000'}, {'text': 'Ethiopia', 'bottom': 158.17649999999992, 'text_1': 'e18', 'text_2': '20', 'text_3': '400,000'}, {'text': 'Kenya', 'bottom': 169.15649999999994, 'text_1': '280', 'text_2': '280', 'text_3': '7,000'}, {'text': 'Turkey', 'bottom': 180.19650000000001, 'text_1': '11,500', 'text_2': '11,000', 'text_3': '840,000'}, {'text': 'Other countries', 'bottom': 191.17649999999992, 'text_1': 'NA', 'text_2': 'NA', 'text_3': '280,000'}, {'text': 'World total, natural', 'bottom': 202.15649999999994, 'text_1': '23,400', 'text_2': '23,000', 'text_3': '25,000,000'}, {'text': 'World total, synthetic', 'bottom': 213.19650000000001, 'text_1': '42,100', 'text_2': '42,000', 'text_3': 'XX'}, {'text': 'World total, natural and synthetic', 'bottom': 224.17649999999992, 'text_1': '65,500', 'text_2': '65,000', 'text_3': 'XX'}], {'bbox_top': 89.37648000000002, 'bbox_bottom': 224.17649999999992, 'bbox_start': 44.94, 'bbox_end': 526.0179959999999}, 168]\n",
      "========================================\n",
      "\n",
      "[[{'text': None, 'bottom': 169.66751999999997, 'text_1': 'Productione', 'text_2': 'Productione', 'text_3': 'Reserves'}, {'text': None, 'bottom': 180.70752000000005, 'text_1': '(arsenic trioxide,', 'text_2': '(arsenic trioxide,', 'text_3': None}, {'text': None, 'bottom': 191.68751999999995, 'text_1': 'gross weight)', 'text_2': 'gross weight)', 'text_3': None}, {'text': None, 'bottom': 202.66751999999997, 'text_1': '2022', 'text_2': '2023', 'text_3': None}, {'text': 'United States', 'bottom': 213.19650000000001, 'text_1': '—', 'text_2': '—', 'text_3': 'World reserves data were unavailable'}, {'text': 'Belgium', 'bottom': 224.17649999999992, 'text_1': '1,000', 'text_2': '1,000', 'text_3': 'but were estimated to be more than'}, {'text': 'Bolivia', 'bottom': 235.15649999999994, 'text_1': '40', 'text_2': '—', 'text_3': '20 times world production.'}, {'text': 'China', 'bottom': 246.19650000000001, 'text_1': '24,000', 'text_2': '24,000', 'text_3': None}, {'text': 'Japan', 'bottom': 257.1764999999999, 'text_1': '40', 'text_2': '40', 'text_3': None}, {'text': 'Morocco', 'bottom': 268.15649999999994, 'text_1': '7,500', 'text_2': '8,000', 'text_3': None}, {'text': 'Peru', 'bottom': 279.1965, 'text_1': '27,000', 'text_2': '27,000', 'text_3': None}, {'text': 'Russia', 'bottom': 290.17650000000003, 'text_1': '500', 'text_2': '200', 'text_3': None}, {'text': 'World total (rounded)', 'bottom': 301.1565, 'text_1': '60,100', 'text_2': '60,000', 'text_3': None}], {'bbox_top': 154.11648000000002, 'bbox_bottom': 301.1565, 'bbox_start': 44.94, 'bbox_end': 538.2031379999999}, 40]\n",
      "========================================\n",
      "\n",
      "[[{'text': None, 'bottom': 334.66751999999997, 'text_1': 'Mine production', 'text_2': 'Mine production', 'text_3': 'Reserves'}, {'text': None, 'bottom': 345.70752, 'text_1': '2022', 'text_2': '2023e', 'text_3': None}, {'text': 'United States', 'bottom': 356.17650000000003, 'text_1': '—', 'text_2': '—', 'text_3': 'World reserves of diamond-'}, {'text': 'Angola', 'bottom': 367.1565, 'text_1': '7,890', 'text_2': '7,900', 'text_3': 'bearing deposits are substantial.'}, {'text': 'Botswana', 'bottom': 378.1965, 'text_1': '17,100', 'text_2': '17,000', 'text_3': 'No reserves data were available'}, {'text': 'Brazil', 'bottom': 389.17650000000003, 'text_1': '158', 'text_2': '160', 'text_3': 'for other gemstones.'}, {'text': 'Canada', 'bottom': 400.1565, 'text_1': '16,200', 'text_2': '15,000', 'text_3': None}, {'text': 'Congo (Kinshasa)', 'bottom': 411.1965, 'text_1': '1,980', 'text_2': '2,000', 'text_3': None}, {'text': 'Guinea', 'bottom': 422.17650000000003, 'text_1': '103', 'text_2': '100', 'text_3': None}, {'text': 'Lesotho', 'bottom': 433.1565, 'text_1': '728', 'text_2': '730', 'text_3': None}, {'text': 'Namibia', 'bottom': 444.1965, 'text_1': '2,050', 'text_2': '2,000', 'text_3': None}, {'text': 'Russia', 'bottom': 455.17650000000003, 'text_1': '23,500', 'text_2': '24,000', 'text_3': None}, {'text': 'Sierra Leone', 'bottom': 466.1565, 'text_1': '551', 'text_2': '550', 'text_3': None}, {'text': 'South Africa', 'bottom': 477.1965, 'text_1': '3,860', 'text_2': '3,800', 'text_3': None}, {'text': 'Tanzania', 'bottom': 488.17650000000003, 'text_1': '319', 'text_2': '320', 'text_3': None}, {'text': 'Zimbabwe', 'bottom': 499.1565, 'text_1': '446', 'text_2': '440', 'text_3': None}, {'text': 'Other countries', 'bottom': 510.1965, 'text_1': '302', 'text_2': '300', 'text_3': None}, {'text': 'World total (rounded)', 'bottom': 521.1765, 'text_1': '75,200', 'text_2': '74,000', 'text_3': None}], {'bbox_top': 320.91648, 'bbox_bottom': 521.1765, 'bbox_start': 44.94, 'bbox_end': 520.5264780000001}, 82]\n",
      "========================================\n",
      "\n",
      "[[{'text': None, 'bottom': 323.68752, 'text_1': 'Mine production', 'text_2': 'Mine production', 'text_3': 'Reserves'}, {'text': None, 'bottom': 334.66751999999997, 'text_1': '2022', 'text_2': '2023', 'text_3': None}, {'text': 'United States', 'bottom': 345.1965, 'text_1': '17,500', 'text_2': '17,000', 'text_3': '340,000'}, {'text': 'Australia', 'bottom': 356.17650000000003, 'text_1': '155,000', 'text_2': '160,000', 'text_3': '24,000,000'}, {'text': 'Brazil', 'bottom': 367.1565, 'text_1': '88,500', 'text_2': '89,000', 'text_3': '16,000,000'}, {'text': 'Canada', 'bottom': 378.1965, 'text_1': '143,000', 'text_2': '180,000', 'text_3': '2,200,000'}, {'text': 'China', 'bottom': 389.17650000000003, 'text_1': '114,000', 'text_2': '110,000', 'text_3': '4,200,000'}, {'text': 'Indonesia', 'bottom': 400.1565, 'text_1': '1,580,000', 'text_2': '1,800,000', 'text_3': '55,000,000'}, {'text': 'New Caledonia1', 'bottom': 411.1965, 'text_1': '200,000', 'text_2': '230,000', 'text_3': '7,100,000'}, {'text': 'Philippines', 'bottom': 422.17650000000003, 'text_1': '345,000', 'text_2': '400,000', 'text_3': '4,800,000'}, {'text': 'Russia', 'bottom': 433.1565, 'text_1': '222,000', 'text_2': '200,000', 'text_3': '8,300,000'}, {'text': 'Other countries', 'bottom': 444.1965, 'text_1': '404,000', 'text_2': '380,000', 'text_3': '>9,100,000'}, {'text': 'World total (rounded)', 'bottom': 455.17650000000003, 'text_1': '3,270,000', 'text_2': '3,600,000', 'text_3': '>130,000,000'}], {'bbox_top': 310.66752, 'bbox_bottom': 455.17650000000003, 'bbox_start': 44.94, 'bbox_end': 535.0179959999999}, 128]\n",
      "========================================\n",
      "\n",
      "[[{'text': None, 'bottom': 224.68751999999995, 'text_1': 'Mine production', 'text_2': 'Mine production', 'text_3': 'Reserves'}, {'text': None, 'bottom': 235.66751999999997, 'text_1': '2022', 'text_2': '2023', 'text_3': None}, {'text': 'United States', 'bottom': 246.19650000000001, 'text_1': '—', 'text_2': '—', 'text_3': 'Small'}, {'text': 'Brazil', 'bottom': 257.1764999999999, 'text_1': '0197,100', 'text_2': '190,000', 'text_3': '11,000,000'}, {'text': 'China', 'bottom': 268.15649999999994, 'text_1': '130,000', 'text_2': '200,000', 'text_3': '18,000,000'}, {'text': 'Kazakhstan', 'bottom': 279.1965, 'text_1': '250,100', 'text_2': '260,000', 'text_3': 'Large'}, {'text': 'Russia', 'bottom': 290.17650000000003, 'text_1': '750,000', 'text_2': '630,000', 'text_3': '110,000,000'}, {'text': 'World total (rounded)', 'bottom': 301.1565, 'text_1': '1,330,000', 'text_2': '1,300,000', 'text_3': 'Large'}], {'bbox_top': 211.66751999999997, 'bbox_bottom': 301.1565, 'bbox_start': 44.94, 'bbox_end': 539.520138}, 42]\n",
      "========================================\n",
      "\n",
      "[[{'text': None, 'bottom': 323.68752, 'text_1': 'Mine production', 'text_2': 'Mine production', 'text_3': 'Reserves'}, {'text': None, 'bottom': 334.66751999999997, 'text_1': '2022', 'text_2': '2023e', 'text_3': None}, {'text': 'United States', 'bottom': 345.1965, 'text_1': '—', 'text_2': '—', 'text_3': '210,000'}, {'text': 'Brazil', 'bottom': 356.17650000000003, 'text_1': '75,600', 'text_2': '75,000', 'text_3': '16,000,000'}, {'text': 'Canada', 'bottom': 367.1565, 'text_1': '6,700', 'text_2': '7,000', 'text_3': '1,600,000'}, {'text': 'Congo (Kinshasa)', 'bottom': 378.1965, 'text_1': '710', 'text_2': '540', 'text_3': 'NA'}, {'text': 'Russia', 'bottom': 389.17650000000003, 'text_1': '381', 'text_2': '440', 'text_3': 'NA'}, {'text': 'Rwanda', 'bottom': 400.1565, 'text_1': '199', 'text_2': '190', 'text_3': 'NA'}, {'text': 'Other countries', 'bottom': 411.1965, 'text_1': '127', 'text_2': '150', 'text_3': 'NA'}, {'text': 'World total (rounded)', 'bottom': 422.17650000000003, 'text_1': '83,700', 'text_2': '83,000', 'text_3': '>17,000,000'}], {'bbox_top': 310.66752, 'bbox_bottom': 422.17650000000003, 'bbox_start': 44.94, 'bbox_end': 530.5179959999999}, 130]\n",
      "========================================\n",
      "\n",
      "[[{'text': None, 'bottom': 301.66751999999997, 'text_1': 'Mine production', 'text_2': 'Mine production', 'text_3': 'Reserves'}, {'text': None, 'bottom': 312.70752, 'text_1': '2022', 'text_2': '2023', 'text_3': None}, {'text': 'United States', 'bottom': 323.17650000000003, 'text_1': '—', 'text_2': '—', 'text_3': 'NA'}, {'text': 'Argentina', 'bottom': 334.1565, 'text_1': '700', 'text_2': '700', 'text_3': 'NA'}, {'text': 'China', 'bottom': 345.1965, 'text_1': '80,000', 'text_2': '80,000', 'text_3': '12,000,000'}, {'text': 'Iran', 'bottom': 356.17650000000003, 'text_1': '200,000', 'text_2': '200,000', 'text_3': '7,100,000'}, {'text': 'Mexico', 'bottom': 367.1565, 'text_1': '833,800', 'text_2': '35,000', 'text_3': 'NA'}, {'text': 'Spain', 'bottom': 378.1965, 'text_1': '200,000', 'text_2': '200,000', 'text_3': 'NA'}, {'text': 'World total (rounded)', 'bottom': 389.17650000000003, 'text_1': '514,000', 'text_2': '520,000', 'text_3': 'Large'}], {'bbox_top': 288.64752, 'bbox_bottom': 389.17650000000003, 'bbox_start': 44.94, 'bbox_end': 546.896856}, 174]\n",
      "========================================\n",
      "\n",
      "[[{'text': None, 'bottom': 235.66751999999997, 'text_1': 'Mine production', 'text_2': 'Mine production', 'text_3': 'Reserves'}, {'text': None, 'bottom': 246.70752000000005, 'text_1': '2022', 'text_2': '2023', 'text_3': None}, {'text': 'United States', 'bottom': 257.1764999999999, 'text_1': 'W', 'text_2': 'W', 'text_3': 'NA'}, {'text': 'China', 'bottom': 268.15649999999994, 'text_1': '1,900', 'text_2': '1,900', 'text_3': '92,000'}, {'text': 'India', 'bottom': 279.1965, 'text_1': '2,700', 'text_2': '2,700', 'text_3': '51,000'}, {'text': 'Iran', 'bottom': 290.17650000000003, 'text_1': '300', 'text_2': '300', 'text_3': '38,000'}, {'text': 'Kazakhstan', 'bottom': 301.1565, 'text_1': '650', 'text_2': '600', 'text_3': '85,000'}, {'text': 'Laos', 'bottom': 312.1965, 'text_1': '303', 'text_2': '600', 'text_3': 'NA'}, {'text': 'Mexico', 'bottom': 323.17650000000003, 'text_1': '316', 'text_2': '260', 'text_3': 'NA'}, {'text': 'Morocco', 'bottom': 334.1565, 'text_1': '1,200', 'text_2': '1,200', 'text_3': 'NA'}, {'text': 'Russia', 'bottom': 345.1965, 'text_1': '250', 'text_2': '250', 'text_3': '12,000'}, {'text': 'Turkey', 'bottom': 356.17650000000003, 'text_1': '250', 'text_2': '250', 'text_3': 'NA'}, {'text': 'Other countries', 'bottom': 367.1565, 'text_1': '394', 'text_2': '430', 'text_3': 'NA'}, {'text': 'World total (rounded)', 'bottom': 378.1965, 'text_1': '8,260', 'text_2': '8,500', 'text_3': 'NA'}], {'bbox_top': 222.64752, 'bbox_bottom': 378.1965, 'bbox_start': 44.94, 'bbox_end': 539.515188}, 44]\n",
      "========================================\n",
      "\n",
      "[[{'text': None, 'bottom': 213.70752000000005, 'text_1': 'Mine production', 'text_2': 'Mine production', 'text_3': 'Reserves1'}, {'text': None, 'bottom': 224.68751999999995, 'text_1': '2022', 'text_2': '2023e', 'text_3': None}, {'text': 'United States', 'bottom': 235.15649999999994, 'text_1': '173', 'text_2': '170', 'text_3': '3,000'}, {'text': 'Australia', 'bottom': 246.19650000000001, 'text_1': '314', 'text_2': '310', 'text_3': '112,000'}, {'text': 'Brazil', 'bottom': 257.1764999999999, 'text_1': 'e61', 'text_2': '60', 'text_3': '2,400'}, {'text': 'Burkina Faso', 'bottom': 268.15649999999994, 'text_1': '58', 'text_2': '60', 'text_3': 'NA'}, {'text': 'Canada', 'bottom': 279.1965, 'text_1': '206', 'text_2': '200', 'text_3': '2,300'}, {'text': 'China', 'bottom': 290.17650000000003, 'text_1': '372', 'text_2': '370', 'text_3': '3,000'}, {'text': 'Ghana', 'bottom': 301.1565, 'text_1': 'e88', 'text_2': '90', 'text_3': '1,000'}, {'text': 'Indonesia', 'bottom': 312.1965, 'text_1': '105', 'text_2': '110', 'text_3': '2,600'}, {'text': 'Kazakhstan', 'bottom': 323.17650000000003, 'text_1': '115', 'text_2': '130', 'text_3': '1,000'}, {'text': 'Mali', 'bottom': 334.1565, 'text_1': 'e64', 'text_2': '60', 'text_3': '800'}, {'text': 'Mexico', 'bottom': 345.1965, 'text_1': '120', 'text_2': '120', 'text_3': '1,400'}, {'text': 'Peru', 'bottom': 356.17650000000003, 'text_1': '97', 'text_2': '90', 'text_3': '2,300'}, {'text': 'Russia', 'bottom': 367.1565, 'text_1': '310', 'text_2': '310', 'text_3': '11,100'}, {'text': 'South Africa', 'bottom': 378.1965, 'text_1': '89', 'text_2': '100', 'text_3': '5,000'}, {'text': 'Tanzania', 'bottom': 389.17650000000003, 'text_1': '57', 'text_2': '60', 'text_3': '420'}, {'text': 'Uzbekistan', 'bottom': 400.1565, 'text_1': '104', 'text_2': '100', 'text_3': '1,800'}, {'text': 'Other countries', 'bottom': 411.1965, 'text_1': '726', 'text_2': '700', 'text_3': '9,200'}, {'text': 'World total (rounded)', 'bottom': 422.17650000000003, 'text_1': '3,060', 'text_2': '3,000', 'text_3': '59,000'}], {'bbox_top': 200.68752000000006, 'bbox_bottom': 422.17650000000003, 'bbox_start': 46.26, 'bbox_end': 492.054048}, 86]\n",
      "========================================\n",
      "\n",
      "[[{'text': None, 'bottom': 268.66751999999997, 'text_1': 'Plant production', 'text_2': 'Plant production', 'text_3': 'Reserves'}, {'text': None, 'bottom': 279.70752000000005, 'text_1': '2022', 'text_2': '2023e', 'text_3': None}, {'text': 'United States', 'bottom': 290.17650000000003, 'text_1': '13,800', 'text_2': '14,000', 'text_3': 'Available atmospheric nitrogen and'}, {'text': 'Algeria', 'bottom': 301.1565, 'text_1': '2,600', 'text_2': '2,600', 'text_3': 'sources of natural gas for production'}, {'text': 'Australia', 'bottom': 312.1965, 'text_1': '1,500', 'text_2': '1,500', 'text_3': 'of ammonia were considered'}, {'text': 'Canada', 'bottom': 323.17650000000003, 'text_1': '3,410', 'text_2': '3,400', 'text_3': 'adequate for all listed countries.'}, {'text': 'China', 'bottom': 334.1565, 'text_1': '43,000', 'text_2': '43,000', 'text_3': None}, {'text': 'Egypt', 'bottom': 345.1965, 'text_1': '4,100', 'text_2': '4,000', 'text_3': None}, {'text': 'Germany', 'bottom': 356.17650000000003, 'text_1': '1,460', 'text_2': '1,500', 'text_3': None}, {'text': 'India', 'bottom': 367.1565, 'text_1': '13,700', 'text_2': '14,000', 'text_3': None}, {'text': 'Indonesia', 'bottom': 378.1965, 'text_1': '6,000', 'text_2': '6,000', 'text_3': None}, {'text': 'Iran', 'bottom': 389.17650000000003, 'text_1': '4,400', 'text_2': '4,400', 'text_3': None}, {'text': 'Malaysia', 'bottom': 400.1565, 'text_1': '1,400', 'text_2': '1,400', 'text_3': None}, {'text': 'Netherlands', 'bottom': 411.1965, 'text_1': '2,000', 'text_2': '2,000', 'text_3': None}, {'text': 'Nigeria', 'bottom': 422.17650000000003, 'text_1': '1,600', 'text_2': '1,600', 'text_3': None}, {'text': 'Oman', 'bottom': 433.1565, 'text_1': '1,720', 'text_2': '1,700', 'text_3': None}, {'text': 'Pakistan', 'bottom': 444.1965, 'text_1': '3,400', 'text_2': '3,400', 'text_3': None}, {'text': 'Poland', 'bottom': 455.17650000000003, 'text_1': '1,820', 'text_2': '1,800', 'text_3': None}, {'text': 'Qatar', 'bottom': 466.1565, 'text_1': '3,110', 'text_2': '3,100', 'text_3': None}, {'text': 'Russia', 'bottom': 477.1965, 'text_1': '14,000', 'text_2': '14,000', 'text_3': None}, {'text': 'Saudi Arabia', 'bottom': 488.17650000000003, 'text_1': '4,000', 'text_2': '4,000', 'text_3': None}, {'text': 'Trinidad and Tobago', 'bottom': 499.1565, 'text_1': '3,710', 'text_2': '3,700', 'text_3': None}, {'text': 'Uzbekistan', 'bottom': 510.1965, 'text_1': '1,200', 'text_2': '1,200', 'text_3': None}, {'text': 'Vietnam', 'bottom': 521.1765, 'text_1': '1,180', 'text_2': '1,200', 'text_3': None}, {'text': 'Other countries', 'bottom': 532.1565, 'text_1': '13,700', 'text_2': '14,000', 'text_3': None}, {'text': 'World total (rounded)', 'bottom': 543.1965, 'text_1': '145,000', 'text_2': '150,000', 'text_3': None}], {'bbox_top': 255.64752, 'bbox_bottom': 543.1965, 'bbox_start': 44.94, 'bbox_end': 536.8821959999999}, 132]\n",
      "========================================\n",
      "\n",
      "[[{'text': None, 'bottom': 224.68751999999995, 'text_1': 'Production, all forms', 'text_2': 'Production, all forms', 'text_3': 'Reserves'}, {'text': None, 'bottom': 235.66751999999997, 'text_1': '2022', 'text_2': '2023e', 'text_3': None}, {'text': 'United States', 'bottom': 246.19650000000001, 'text_1': '8,640', 'text_2': '8,600', 'text_3': 'Reserves of sulfur in crude oil, natural gas,'}, {'text': 'Australia', 'bottom': 257.1764999999999, 'text_1': '900', 'text_2': '900', 'text_3': 'and sulfide ores are large. Because most'}, {'text': 'Canada', 'bottom': 268.15649999999994, 'text_1': '4,900', 'text_2': '4,900', 'text_3': 'sulfur production is a result of the'}, {'text': 'Chile', 'bottom': 279.1965, 'text_1': '1,400', 'text_2': '1,400', 'text_3': 'processing of fossil fuels, supplies are'}, {'text': 'China', 'bottom': 290.17650000000003, 'text_1': '18,800', 'text_2': '19,000', 'text_3': 'expected to be adequate for the foreseeable'}, {'text': 'Finland', 'bottom': 301.1565, 'text_1': '640', 'text_2': '640', 'text_3': 'future. Because petroleum and sulfide ores'}, {'text': 'Germany', 'bottom': 312.1965, 'text_1': '610', 'text_2': '610', 'text_3': 'can be processed long distances from'}, {'text': 'India', 'bottom': 323.17650000000003, 'text_1': '3,540', 'text_2': '3,500', 'text_3': 'where they are produced, sulfur production'}, {'text': 'Iran', 'bottom': 334.1565, 'text_1': '1,600', 'text_2': '1,600', 'text_3': 'may not be in the country to which the'}, {'text': 'Japan', 'bottom': 345.1965, 'text_1': '3,140', 'text_2': '3,100', 'text_3': 'reserves were attributed. For instance,'}, {'text': 'Kazakhstan', 'bottom': 356.17650000000003, 'text_1': '4,300', 'text_2': '4,300', 'text_3': 'sulfur from Saudi Arabian oil may be'}, {'text': 'Korea, Republic of', 'bottom': 367.1565, 'text_1': '3,080', 'text_2': '3,100', 'text_3': 'recovered at refineries in the United States.'}, {'text': 'Kuwait', 'bottom': 378.1965, 'text_1': '600', 'text_2': '600', 'text_3': None}, {'text': 'Poland', 'bottom': 389.17650000000003, 'text_1': '1,050', 'text_2': '1,100', 'text_3': None}, {'text': 'Qatar', 'bottom': 400.1565, 'text_1': '2,100', 'text_2': '2,100', 'text_3': None}, {'text': 'Russia', 'bottom': 411.1965, 'text_1': '7,530', 'text_2': '7,000', 'text_3': None}, {'text': 'Saudi Arabia', 'bottom': 422.17650000000003, 'text_1': '7,500', 'text_2': '8,000', 'text_3': None}, {'text': 'Turkmenistan', 'bottom': 433.1565, 'text_1': '860', 'text_2': '860', 'text_3': None}, {'text': 'United Arab Emirates', 'bottom': 444.1965, 'text_1': '5,400', 'text_2': '5,400', 'text_3': None}, {'text': 'Other countries', 'bottom': 455.17650000000003, 'text_1': '5,600', 'text_2': '5,600', 'text_3': None}, {'text': 'World total (rounded)', 'bottom': 466.1565, 'text_1': '82,000', 'text_2': '82,000', 'text_3': None}], {'bbox_top': 211.66751999999997, 'bbox_bottom': 466.1565, 'bbox_start': 44.94, 'bbox_end': 559.152882}, 176]\n",
      "========================================\n",
      "\n",
      "[[{'text': None, 'bottom': 213.70752000000005, 'text_1': '2022', 'text_2': '2023', 'text_3': '2022', 'text_4': '2023', 'text_5': None}, {'text': 'United States', 'bottom': 224.17649999999992, 'text_1': 'e920', 'text_2': '780', 'text_3': 'W', 'text_4': 'W', 'text_5': '20,000'}, {'text': 'Australia', 'bottom': 235.15649999999994, 'text_1': '19,500', 'text_2': '19,000', 'text_3': '102,000', 'text_4': '98,000', 'text_5': '3,500,000'}, {'text': 'Brazil', 'bottom': 246.19650000000001, 'text_1': '10,000', 'text_2': '10,000', 'text_3': 'e30,000', 'text_4': '31,000', 'text_5': '2,700,000'}, {'text': 'Canada', 'bottom': 257.1764999999999, 'text_1': '1,360', 'text_2': '1,600', 'text_3': '—', 'text_4': '—', 'text_5': '—'}, {'text': 'China', 'bottom': 268.15649999999994, 'text_1': '81,900', 'text_2': '82,000', 'text_3': '90,000', 'text_4': '93,000', 'text_5': '710,000'}, {'text': 'Germany', 'bottom': 279.1965, 'text_1': 'e1,000', 'text_2': '720', 'text_3': '—', 'text_4': '—', 'text_5': '—'}, {'text': 'Greece', 'bottom': 290.17650000000003, 'text_1': '861', 'text_2': '860', 'text_3': '1,200', 'text_4': '1,200', 'text_5': '—'}, {'text': 'Guinea', 'bottom': 301.1565, 'text_1': '340', 'text_2': '330', 'text_3': '100,000', 'text_4': '97,000', 'text_5': '7,400,000'}, {'text': 'India', 'bottom': 312.1965, 'text_1': '7,500', 'text_2': '7,300', 'text_3': '24,000', 'text_4': '23,000', 'text_5': '650,000'}, {'text': 'Indonesia', 'bottom': 323.17650000000003, 'text_1': '1,200', 'text_2': '1,200', 'text_3': 'e21,000', 'text_4': '20,000', 'text_5': '1,000,000'}, {'text': 'Ireland', 'bottom': 334.1565, 'text_1': '1,630', 'text_2': '1,200', 'text_3': '—', 'text_4': '—', 'text_5': '—'}, {'text': 'Jamaica', 'bottom': 345.1965, 'text_1': '634', 'text_2': '1,500', 'text_3': '4,370', 'text_4': '6,000', 'text_5': '2,000,000'}, {'text': 'Kazakhstan', 'bottom': 356.17650000000003, 'text_1': '1,340', 'text_2': '1,300', 'text_3': '4,400', 'text_4': '4,300', 'text_5': '160,000'}, {'text': 'Russia', 'bottom': 367.1565, 'text_1': '3,080', 'text_2': '2,400', 'text_3': '5,780', 'text_4': '5,800', 'text_5': '480,000'}, {'text': 'Saudi Arabia', 'bottom': 378.1965, 'text_1': '1,900', 'text_2': '1,800', 'text_3': '4,800', 'text_4': '4,600', 'text_5': '180,000'}, {'text': 'Spain', 'bottom': 389.17650000000003, 'text_1': '1,340', 'text_2': '640', 'text_3': '—', 'text_4': '—', 'text_5': '—'}, {'text': 'Turkey', 'bottom': 400.1565, 'text_1': '300', 'text_2': '290', 'text_3': '2,800', 'text_4': '2,000', 'text_5': '63,000'}, {'text': 'Ukraine', 'bottom': 411.1965, 'text_1': '300', 'text_2': '—', 'text_3': '—', 'text_4': '—', 'text_5': '—'}, {'text': 'United Arab Emirates', 'bottom': 422.17650000000003, 'text_1': '2,430', 'text_2': '2,300', 'text_3': '—', 'text_4': '—', 'text_5': '—'}, {'text': 'Vietnam', 'bottom': 433.1565, 'text_1': '1,430', 'text_2': '1,400', 'text_3': '3,900', 'text_4': '3,700', 'text_5': '5,800,000'}, {'text': 'Other countries', 'bottom': 444.1965, 'text_1': '1,200', 'text_2': '880', 'text_3': '5,900', 'text_4': '5,600', 'text_5': '5,100,000'}, {'text': 'World total (rounded)', 'bottom': 455.17650000000003, 'text_1': '140,000', 'text_2': '140,000', 'text_3': '400,000', 'text_4': '400,000', 'text_5': '30,000,000'}], {'bbox_top': 200.68752000000006, 'bbox_bottom': 455.17650000000003, 'bbox_start': 44.94, 'bbox_end': 557.4569759999999}, 46]\n",
      "========================================\n",
      "\n",
      "[[{'text': None, 'bottom': 334.66751999999997, 'text_1': 'Mine production', 'text_2': 'Mine production', 'text_3': 'Reserves'}, {'text': None, 'bottom': 345.70752, 'text_1': '2022', 'text_2': '2023', 'text_3': None}, {'text': 'United States', 'bottom': 356.17650000000003, 'text_1': '—', 'text_2': '—', 'text_3': '(4)'}, {'text': 'Austria', 'bottom': 367.1565, 'text_1': '500', 'text_2': '500', 'text_3': '(4)'}, {'text': 'Brazil', 'bottom': 378.1965, 'text_1': '72,000', 'text_2': '73,000', 'text_3': '74,000,000'}, {'text': 'Canada', 'bottom': 389.17650000000003, 'text_1': '13,000', 'text_2': '3,500', 'text_3': '5,700,000'}, {'text': 'China', 'bottom': 400.1565, 'text_1': '1,210,000', 'text_2': '1,230,000', 'text_3': '78,000,000'}, {'text': 'Germany', 'bottom': 411.1965, 'text_1': '170', 'text_2': '150', 'text_3': '(4)'}, {'text': 'India', 'bottom': 422.17650000000003, 'text_1': '11,000', 'text_2': '11,500', 'text_3': '8,600,000'}, {'text': 'Korea, North', 'bottom': 433.1565, 'text_1': 'e8,100', 'text_2': '8,100', 'text_3': '2,000,000'}, {'text': 'Korea, Republic of', 'bottom': 444.1965, 'text_1': '23,800', 'text_2': '27,000', 'text_3': '1,800,000'}, {'text': 'Madagascar', 'bottom': 455.17650000000003, 'text_1': '130,000', 'text_2': '100,000', 'text_3': '24,000,000'}, {'text': 'Mexico', 'bottom': 466.1565, 'text_1': '2,000', 'text_2': '2,000', 'text_3': '3,100,000'}, {'text': 'Mozambique', 'bottom': 477.1965, 'text_1': '166,000', 'text_2': '96,000', 'text_3': '25,000,000'}, {'text': 'Norway', 'bottom': 488.17650000000003, 'text_1': '10,380', 'text_2': '7,200', 'text_3': '600,000'}, {'text': 'Russia', 'bottom': 499.1565, 'text_1': '16,000', 'text_2': '16,000', 'text_3': '14,000,000'}, {'text': 'Sri Lanka', 'bottom': 510.1965, 'text_1': '2,600', 'text_2': '2,200', 'text_3': '1,500,000'}, {'text': 'Tanzania', 'bottom': 521.1765, 'text_1': '6,120', 'text_2': '6,000', 'text_3': '18,000,000'}, {'text': 'Turkey', 'bottom': 532.1565, 'text_1': '2,800', 'text_2': '2,000', 'text_3': '6,900,000'}, {'text': 'Ukraine', 'bottom': 543.1965, 'text_1': '1,000', 'text_2': '2,000', 'text_3': '(4)'}, {'text': 'Vietnam', 'bottom': 554.1765, 'text_1': '500', 'text_2': '500', 'text_3': '(4)'}, {'text': 'World total (rounded)', 'bottom': 565.1565, 'text_1': '1,680,000', 'text_2': '1,600,000', 'text_3': '280,000,000'}], {'bbox_top': 321.64752, 'bbox_bottom': 565.1565, 'bbox_start': 46.26, 'bbox_end': 555.237996}, 88]\n",
      "========================================\n",
      "\n",
      "[[{'text': None, 'bottom': 202.66751999999997, 'text_1': 'Mine production', 'text_2': 'Mine production', 'text_3': 'Reserves'}, {'text': None, 'bottom': 213.70752000000005, 'text_1': '2022', 'text_2': '2023', 'text_3': None}, {'text': 'United States (crude)', 'bottom': 224.17649999999992, 'text_1': '8511', 'text_2': '450', 'text_3': '140,000'}, {'text': 'Afghanistan', 'bottom': 235.15649999999994, 'text_1': '370', 'text_2': '370', 'text_3': 'Large'}, {'text': 'Brazil (crude and beneficiated)', 'bottom': 246.19650000000001, 'text_1': '600', 'text_2': '600', 'text_3': '45,000'}, {'text': 'Canada (unspecified minerals)9', 'bottom': 257.1764999999999, 'text_1': '200', 'text_2': '200', 'text_3': 'NA'}, {'text': 'China (unspecified minerals)', 'bottom': 268.15649999999994, 'text_1': '1,100', 'text_2': '1,100', 'text_3': '72,000'}, {'text': 'Finland', 'bottom': 279.1965, 'text_1': '8242', 'text_2': '240', 'text_3': 'Large'}, {'text': 'France (crude)', 'bottom': 290.17650000000003, 'text_1': '350', 'text_2': '400', 'text_3': 'Large'}, {'text': 'India9', 'bottom': 301.1565, 'text_1': '1,630', 'text_2': '1,600', 'text_3': '110,000'}, {'text': 'Italy (includes steatite)', 'bottom': 312.1965, 'text_1': '180', 'text_2': '180', 'text_3': 'NA'}, {'text': 'Japan9', 'bottom': 323.17650000000003, 'text_1': '136', 'text_2': '140', 'text_3': '100,000'}, {'text': 'Korea, Republic of', 'bottom': 334.1565, 'text_1': '323', 'text_2': '320', 'text_3': '81,000'}, {'text': 'Pakistan', 'bottom': 345.1965, 'text_1': '300', 'text_2': '300', 'text_3': 'NA'}, {'text': 'South Africa', 'bottom': 356.17650000000003, 'text_1': '439', 'text_2': '370', 'text_3': 'NA'}, {'text': 'Turkey', 'bottom': 367.1565, 'text_1': '843', 'text_2': '40', 'text_3': '15,000'}, {'text': 'Other countries (includes crude)', 'bottom': 378.1965, 'text_1': '707', 'text_2': '700', 'text_3': 'Large'}, {'text': 'World total (rounded)', 'bottom': 389.17650000000003, 'text_1': '7,130', 'text_2': '7,000', 'text_3': 'Large'}], {'bbox_top': 189.64752, 'bbox_bottom': 389.17650000000003, 'bbox_start': 44.94, 'bbox_end': 526.0162079999999}, 178]\n",
      "========================================\n",
      "\n",
      "[[{'text': None, 'bottom': 268.66751999999997, 'text_1': 'Mine production8', 'text_2': 'Mine production8', 'text_3': 'Reserves1'}, {'text': None, 'bottom': 279.70752000000005, 'text_1': '2022', 'text_2': '2023', 'text_3': None}, {'text': 'United States', 'bottom': 290.17650000000003, 'text_1': '175', 'text_2': '190', 'text_3': 'The United States has very little beryl that can be'}, {'text': 'Brazil', 'bottom': 301.1565, 'text_1': '40', 'text_2': '40', 'text_3': 'economically hand sorted from pegmatite'}, {'text': 'China', 'bottom': 312.1965, 'text_1': 'e70', 'text_2': '74', 'text_3': 'deposits. An epithermal deposit in the Spor'}, {'text': 'Madagascar', 'bottom': 323.17650000000003, 'text_1': 'e1', 'text_2': '1', 'text_3': 'Mountain area in Utah is a large bertrandite'}, {'text': 'Mozambique', 'bottom': 334.1565, 'text_1': '25', 'text_2': '24', 'text_3': 'resource, which is being mined. Proven and'}, {'text': 'Rwanda', 'bottom': 345.1965, 'text_1': 'e1', 'text_2': '1', 'text_3': 'probable bertrandite reserves in Utah total about'}, {'text': 'Uganda', 'bottom': 356.17650000000003, 'text_1': '1', 'text_2': '1', 'text_3': '19,000 tons of beryllium content. World beryllium'}, {'text': 'World total (rounded)', 'bottom': 367.1565, 'text_1': '313', 'text_2': '330', 'text_3': 'reserves are not available.'}], {'bbox_top': 254.37648000000002, 'bbox_bottom': 367.1565, 'bbox_start': 44.94, 'bbox_end': 558.6028619999998}, 48]\n",
      "========================================\n",
      "\n",
      "[[{'text': None, 'bottom': 169.66751999999997, 'text_1': 'Mine production', 'text_2': 'Mine production', 'text_3': 'Reserves'}, {'text': None, 'bottom': 180.70752000000005, 'text_1': '2022', 'text_2': '2023', 'text_3': None}, {'text': 'United States', 'bottom': 191.17649999999992, 'text_1': '22,300', 'text_2': '22,000', 'text_3': '700,000'}, {'text': 'Algeria', 'bottom': 202.15649999999994, 'text_1': '2,500', 'text_2': '2,500', 'text_3': 'NA'}, {'text': 'Brazil', 'bottom': 213.19650000000001, 'text_1': '2,900', 'text_2': '2,900', 'text_3': '450,000'}, {'text': 'Canada', 'bottom': 224.17649999999992, 'text_1': '2,400', 'text_2': '2,400', 'text_3': '450,000'}, {'text': 'China', 'bottom': 235.15649999999994, 'text_1': '12,000', 'text_2': '12,000', 'text_3': '2,100,000'}, {'text': 'France', 'bottom': 246.19650000000001, 'text_1': '2,000', 'text_2': '2,400', 'text_3': '350,000'}, {'text': 'Germany', 'bottom': 257.1764999999999, 'text_1': '5,200', 'text_2': '5,200', 'text_3': 'NA'}, {'text': 'India', 'bottom': 268.15649999999994, 'text_1': '4,300', 'text_2': '4,300', 'text_3': '37,000'}, {'text': 'Iran', 'bottom': 279.1965, 'text_1': '16,000', 'text_2': '16,000', 'text_3': '900,000'}, {'text': 'Japan', 'bottom': 290.17650000000003, 'text_1': '4,300', 'text_2': '4,300', 'text_3': 'NA'}, {'text': 'Mexico', 'bottom': 301.1565, 'text_1': '5,400', 'text_2': '5,400', 'text_3': 'NA'}, {'text': 'Oman', 'bottom': 312.1965, 'text_1': '12,000', 'text_2': '12,000', 'text_3': 'NA'}, {'text': 'Pakistan', 'bottom': 323.17650000000003, 'text_1': '1,800', 'text_2': '1,800', 'text_3': '760,000'}, {'text': 'Russia', 'bottom': 334.1565, 'text_1': '4,100', 'text_2': '4,100', 'text_3': 'NA'}, {'text': 'Saudi Arabia', 'bottom': 345.1965, 'text_1': '4,000', 'text_2': '4,000', 'text_3': 'NA'}, {'text': 'Spain', 'bottom': 356.17650000000003, 'text_1': '11,000', 'text_2': '11,000', 'text_3': 'NA'}, {'text': 'Thailand', 'bottom': 367.1565, 'text_1': '10,400', 'text_2': '10,000', 'text_3': '910,000'}, {'text': 'Turkey', 'bottom': 378.1965, 'text_1': '9,300', 'text_2': '10,000', 'text_3': '200,000'}, {'text': 'Ukraine', 'bottom': 389.17650000000003, 'text_1': '1,800', 'text_2': '1,500', 'text_3': 'NA'}, {'text': 'Uzbekistan', 'bottom': 400.1565, 'text_1': '2,000', 'text_2': '2,000', 'text_3': 'NA'}, {'text': 'Other countries', 'bottom': 411.1965, 'text_1': '19,000', 'text_2': '19,000', 'text_3': 'NA'}, {'text': 'World total (rounded)', 'bottom': 422.17650000000003, 'text_1': '155,000', 'text_2': '160,000', 'text_3': 'Large'}], {'bbox_top': 156.64752, 'bbox_bottom': 422.17650000000003, 'bbox_start': 46.26, 'bbox_end': 530.5162079999999}, 90]\n",
      "========================================\n",
      "\n",
      "[[{'text': None, 'bottom': 202.66751999999997, 'text_1': 'Mine production', 'text_2': 'Mine production', 'text_3': 'Reserves'}, {'text': None, 'bottom': 213.70752000000005, 'text_1': '2022', 'text_2': '2023e', 'text_3': None}, {'text': 'United States', 'bottom': 224.17649999999992, 'text_1': 'e350', 'text_2': '360', 'text_3': '150,000'}, {'text': 'Belarus', 'bottom': 235.15649999999994, 'text_1': '2,300', 'text_2': '2,300', 'text_3': '2,600,000'}, {'text': 'Canada', 'bottom': 246.19650000000001, 'text_1': '2,390', 'text_2': '2,400', 'text_3': '720,000'}, {'text': 'Estonia', 'bottom': 257.1764999999999, 'text_1': '1,130', 'text_2': '1,100', 'text_3': '570,000'}, {'text': 'Finland', 'bottom': 268.15649999999994, 'text_1': '5,870', 'text_2': '5,800', 'text_3': '6,000,000'}, {'text': 'Germany', 'bottom': 279.1965, 'text_1': '2,600', 'text_2': '2,600', 'text_3': '(4)'}, {'text': 'Latvia', 'bottom': 290.17650000000003, 'text_1': '2,440', 'text_2': '2,400', 'text_3': '150,000'}, {'text': 'Lithuania', 'bottom': 301.1565, 'text_1': '473', 'text_2': '470', 'text_3': '210,000'}, {'text': 'Poland', 'bottom': 312.1965, 'text_1': '1,100', 'text_2': '1,100', 'text_3': '(4)'}, {'text': 'Russia', 'bottom': 323.17650000000003, 'text_1': '1,400', 'text_2': '1,400', 'text_3': '1,000,000'}, {'text': 'Sweden', 'bottom': 334.1565, 'text_1': '2,560', 'text_2': '2,500', 'text_3': '(4)'}, {'text': 'Ukraine', 'bottom': 345.1965, 'text_1': '440', 'text_2': '440', 'text_3': '(4)'}, {'text': 'Other countries', 'bottom': 356.17650000000003, 'text_1': '580', 'text_2': '600', 'text_3': '1,400,000'}, {'text': 'World total (rounded)', 'bottom': 367.1565, 'text_1': '23,600', 'text_2': '23,000', 'text_3': '13,000,000'}], {'bbox_top': 189.64752, 'bbox_bottom': 367.1565, 'bbox_start': 44.94, 'bbox_end': 561.2979959999999}, 134]\n",
      "========================================\n",
      "\n",
      "[[{'text': None, 'bottom': 213.70752000000005, 'text_1': 'Mine production', 'text_2': 'Mine production', 'text_3': 'Reserves'}, {'text': None, 'bottom': 224.68751999999995, 'text_1': '2022', 'text_2': '2023e', 'text_3': None}, {'text': 'United States', 'bottom': 235.15649999999994, 'text_1': '—', 'text_2': '—', 'text_3': '—'}, {'text': 'Australia', 'bottom': 246.19650000000001, 'text_1': '46', 'text_2': '43', 'text_3': '0110,000'}, {'text': 'Brazil', 'bottom': 257.1764999999999, 'text_1': '370', 'text_2': '360', 'text_3': '40,000'}, {'text': 'Burundi', 'bottom': 268.15649999999994, 'text_1': '59', 'text_2': '36', 'text_3': 'NA'}, {'text': 'China', 'bottom': 279.1965, 'text_1': 'e78', 'text_2': '79', 'text_3': '240,000'}, {'text': 'Congo (Kinshasa)', 'bottom': 290.17650000000003, 'text_1': '890', 'text_2': '980', 'text_3': 'NA'}, {'text': 'Nigeria', 'bottom': 301.1565, 'text_1': '110', 'text_2': '110', 'text_3': 'NA'}, {'text': 'Russia', 'bottom': 312.1965, 'text_1': 'e31', 'text_2': '20', 'text_3': 'NA'}, {'text': 'Rwanda', 'bottom': 323.17650000000003, 'text_1': '347', 'text_2': '520', 'text_3': 'NA'}, {'text': 'Other', 'bottom': 334.1565, 'text_1': '120', 'text_2': '260', 'text_3': 'NA'}, {'text': 'World total (rounded)', 'bottom': 345.1965, 'text_1': '1,990', 'text_2': '2,400', 'text_3': 'NA'}], {'bbox_top': 200.68752000000006, 'bbox_bottom': 345.1965, 'bbox_start': 44.94, 'bbox_end': 517.015188}, 180]\n",
      "========================================\n",
      "\n",
      "[[{'text': None, 'bottom': 213.70752000000005, 'text_1': 'Refinery production', 'text_2': 'Refinery production', 'text_3': 'Reserves'}, {'text': None, 'bottom': 224.68751999999995, 'text_1': '2022', 'text_2': '2023', 'text_3': None}, {'text': 'United States', 'bottom': 235.15649999999994, 'text_1': '—', 'text_2': '—', 'text_3': 'Quantitative estimates of'}, {'text': 'Bolivia', 'bottom': 246.19650000000001, 'text_1': '—', 'text_2': '40', 'text_3': 'reserves were not available.'}, {'text': 'Bulgaria', 'bottom': 257.1764999999999, 'text_1': '50', 'text_2': '50', 'text_3': None}, {'text': 'China', 'bottom': 268.15649999999994, 'text_1': '15,500', 'text_2': '16,000', 'text_3': None}, {'text': 'Japan', 'bottom': 279.1965, 'text_1': '490', 'text_2': '500', 'text_3': None}, {'text': 'Kazakhstan', 'bottom': 290.17650000000003, 'text_1': '190', 'text_2': '160', 'text_3': None}, {'text': 'Korea, Republic of', 'bottom': 301.1565, 'text_1': '810', 'text_2': '850', 'text_3': None}, {'text': 'Laos', 'bottom': 312.1965, 'text_1': '1,940', 'text_2': '2,000', 'text_3': None}, {'text': 'World total (rounded)', 'bottom': 323.17650000000003, 'text_1': '19,000', 'text_2': '20,000', 'text_3': None}], {'bbox_top': 200.68752000000006, 'bbox_bottom': 323.17650000000003, 'bbox_start': 44.94, 'bbox_end': 550.6545719999999}, 50]\n",
      "========================================\n",
      "\n",
      "[[{'text': None, 'bottom': 290.68752, 'text_1': 'Zirconium mineral concentrates,', 'text_2': 'Zirconium mineral concentrates,', 'text_3': 'Zirconium reserves', 'text_4': 'Zirconium reserves'}, {'text': None, 'bottom': 301.66751999999997, 'text_1': 'mine productione', 'text_2': 'mine productione', 'text_3': '(thousand metric tons,', 'text_4': '(thousand metric tons,'}, {'text': None, 'bottom': 312.70752, 'text_1': '(thousand metric tons, gross weight)', 'text_2': '(thousand metric tons, gross weight)', 'text_3': 'ZrO', 'text_4': 'content)'}, {'text': None, 'bottom': 323.68752, 'text_1': '2022', 'text_2': '2023', 'text_3': None, 'text_4': None}, {'text': 'United States', 'bottom': 334.1565, 'text_1': '9100', 'text_2': '9100', 'text_3': '500', 'text_4': '500'}, {'text': 'Australia', 'bottom': 345.1965, 'text_1': '500', 'text_2': '500', 'text_3': '055,000', 'text_4': '055,000'}, {'text': 'China', 'bottom': 356.17650000000003, 'text_1': '140', 'text_2': '140', 'text_3': '72', 'text_4': '72'}, {'text': 'Indonesia', 'bottom': 367.1565, 'text_1': '97', 'text_2': '90', 'text_3': 'NA', 'text_4': 'NA'}, {'text': 'Kenya', 'bottom': 378.1965, 'text_1': '27', 'text_2': '30', 'text_3': '18', 'text_4': '18'}, {'text': 'Madagascar', 'bottom': 389.17650000000003, 'text_1': '27', 'text_2': '30', 'text_3': '2,300', 'text_4': '2,300'}, {'text': 'Mozambique', 'bottom': 400.1565, 'text_1': '104', 'text_2': '90', 'text_3': '1,500', 'text_4': '1,500'}, {'text': 'Senegal', 'bottom': 411.1965, 'text_1': '57', 'text_2': '50', 'text_3': '2,600', 'text_4': '2,600'}, {'text': 'Sierra Leone', 'bottom': 422.17650000000003, 'text_1': '34', 'text_2': '30', 'text_3': '290', 'text_4': '290'}, {'text': 'South Africa', 'bottom': 433.1565, 'text_1': '300', 'text_2': '400', 'text_3': '5,600', 'text_4': '5,600'}, {'text': 'Other countries', 'bottom': 444.1965, 'text_1': '57', 'text_2': '140', 'text_3': '5,700', 'text_4': '5,700'}, {'text': 'World total (rounded)', 'bottom': 455.17650000000003, 'text_1': '1,440', 'text_2': '1,600', 'text_3': '74,000', 'text_4': '74,000'}], {'bbox_top': 277.66752, 'bbox_bottom': 455.17650000000003, 'bbox_start': 44.94, 'bbox_end': 544.413276}, 208]\n",
      "========================================\n",
      "\n",
      "[[{'text': None, 'bottom': 224.68751999999995, 'text_1': 'Production', 'text_2': 'Production', 'text_3': 'Reserves'}, {'text': None, 'bottom': 235.66751999999997, 'text_1': '2022', 'text_2': '2023', 'text_3': None}, {'text': 'United States', 'bottom': 246.19650000000001, 'text_1': '5458', 'text_2': '5450', 'text_3': '50,000'}, {'text': 'Argentinae', 'bottom': 257.1764999999999, 'text_1': '18', 'text_2': '20', 'text_3': 'NA'}, {'text': 'Armeniae', 'bottom': 268.15649999999994, 'text_1': '170', 'text_2': '180', 'text_3': 'NA'}, {'text': 'Chinae', 'bottom': 279.1965, 'text_1': '1,500', 'text_2': '1,500', 'text_3': '32,000'}, {'text': 'Gorgia', 'bottom': 290.17650000000003, 'text_1': '20', 'text_2': '20', 'text_3': 'NA'}, {'text': 'Greecee', 'bottom': 301.1565, 'text_1': '1,100', 'text_2': '1,100', 'text_3': '180,000'}, {'text': 'Hungary', 'bottom': 312.1965, 'text_1': '77', 'text_2': '80', 'text_3': 'NA'}, {'text': 'Irane', 'bottom': 323.17650000000003, 'text_1': '77', 'text_2': '80', 'text_3': '15,000'}, {'text': 'Mexico', 'bottom': 334.1565, 'text_1': '24', 'text_2': '20', 'text_3': 'NA'}, {'text': 'New Zealand', 'bottom': 345.1965, 'text_1': '18', 'text_2': '20', 'text_3': 'NA'}, {'text': 'Philippines', 'bottom': 356.17650000000003, 'text_1': '25', 'text_2': '20', 'text_3': 'NA'}, {'text': 'Slovakiae', 'bottom': 367.1565, 'text_1': '35', 'text_2': '40', 'text_3': '30,000'}, {'text': 'Turkeye', 'bottom': 378.1965, 'text_1': '1,400', 'text_2': '1,400', 'text_3': 'NA'}, {'text': 'Other countries', 'bottom': 389.17650000000003, 'text_1': '14', 'text_2': '10', 'text_3': 'NA'}, {'text': 'World total (rounded)', 'bottom': 400.1565, 'text_1': '4,940', 'text_2': '4,900', 'text_3': 'NA'}], {'bbox_top': 211.66751999999997, 'bbox_bottom': 400.1565, 'bbox_start': 44.94, 'bbox_end': 544.015188}, 136]\n",
      "========================================\n",
      "\n",
      "[[{'text': None, 'bottom': 125.68751999999995, 'text_1': 'Refinery productione', 'text_2': 'Refinery productione', 'text_3': 'Reserves'}, {'text': None, 'bottom': 136.66751999999997, 'text_1': '2022', 'text_2': '2023', 'text_3': None}, {'text': 'United States', 'bottom': 147.19650000000001, 'text_1': 'W', 'text_2': 'W', 'text_3': '4,000'}, {'text': 'Bulgaria', 'bottom': 158.17649999999992, 'text_1': '3', 'text_2': '3', 'text_3': 'NA'}, {'text': 'Canada', 'bottom': 169.15649999999994, 'text_1': '24', 'text_2': '27', 'text_3': '800'}, {'text': 'China', 'bottom': 180.19650000000001, 'text_1': '380', 'text_2': '430', 'text_3': '3,100'}, {'text': 'Japan', 'bottom': 191.17649999999992, 'text_1': '68', 'text_2': '75', 'text_3': '—'}, {'text': 'Russia', 'bottom': 202.15649999999994, 'text_1': '70', 'text_2': '75', 'text_3': '5,800'}, {'text': 'South Africa', 'bottom': 213.19650000000001, 'text_1': '4', 'text_2': '5', 'text_3': '800'}, {'text': 'Sweden', 'bottom': 224.17649999999992, 'text_1': '33', 'text_2': '25', 'text_3': '700'}, {'text': 'Uzbekistan', 'bottom': 235.15649999999994, 'text_1': '93', 'text_2': '3', 'text_3': 'NA'}, {'text': 'Other countries1', 'bottom': 246.19650000000001, 'text_1': 'NA', 'text_2': 'NA', 'text_3': '21,000'}, {'text': 'World total (rounded)', 'bottom': 257.1764999999999, 'text_1': '1584', 'text_2': '1640', 'text_3': '36,000'}], {'bbox_top': 111.39648000000011, 'bbox_bottom': 257.1764999999999, 'bbox_start': 44.94, 'bbox_end': 539.514048}, 182]\n",
      "========================================\n",
      "\n",
      "[[{'text': None, 'bottom': 400.66751999999997, 'text_1': 'Production—All forms', 'text_2': 'Production—All forms', 'text_3': 'Reserves'}, {'text': None, 'bottom': 411.70752, 'text_1': '2022', 'text_2': '2023', 'text_3': None}, {'text': 'United States', 'bottom': 422.17650000000003, 'text_1': 'W', 'text_2': 'W', 'text_3': '48,000'}, {'text': 'Argentina, crude ore', 'bottom': 433.1565, 'text_1': '130', 'text_2': '130', 'text_3': 'NA'}, {'text': 'Bolivia, ulexite', 'bottom': 444.1965, 'text_1': '170', 'text_2': '170', 'text_3': 'NA'}, {'text': 'Chile, ulexite', 'bottom': 455.17650000000003, 'text_1': '360', 'text_2': '360', 'text_3': '35,000'}, {'text': 'China, boric oxide equivalent', 'bottom': 466.1565, 'text_1': '200', 'text_2': '200', 'text_3': '20,000'}, {'text': 'Germany, compounds', 'bottom': 477.1965, 'text_1': '60', 'text_2': '60', 'text_3': 'NA'}, {'text': 'Peru, crude borates', 'bottom': 488.17650000000003, 'text_1': '200', 'text_2': '200', 'text_3': '4,000'}, {'text': 'Russia, datolite ore', 'bottom': 499.1565, 'text_1': '80', 'text_2': '80', 'text_3': '40,000'}, {'text': 'Turkey, refined borates', 'bottom': 510.1965, 'text_1': '2,200', 'text_2': '2,200', 'text_3': '950,000'}, {'text': 'World total4', 'bottom': 521.1765, 'text_1': 'XX', 'text_2': 'XX', 'text_3': 'XX'}], {'bbox_top': 387.64752, 'bbox_bottom': 521.1765, 'bbox_start': 44.94, 'bbox_end': 535.015188}, 52]\n",
      "========================================\n",
      "\n",
      "[[{'text': None, 'bottom': 213.70752000000005, 'text_1': None, 'text_2': 'Production', 'text_3': 'Reserves'}, {'text': None, 'bottom': 224.68751999999995, 'text_1': '2022', 'text_2': '2023e', 'text_3': None}, {'text': 'United States (extracted from natural gas)', 'bottom': 235.15649999999994, 'text_1': '65', 'text_2': '60', 'text_3': '8,500'}, {'text': 'United States (from Cliffside Field)', 'bottom': 246.19650000000001, 'text_1': '12', 'text_2': '19', 'text_3': '52'}, {'text': 'Algeria', 'bottom': 257.1764999999999, 'text_1': '8', 'text_2': '10', 'text_3': '1,800'}, {'text': 'Australia', 'bottom': 268.15649999999994, 'text_1': 'e3', 'text_2': '1', 'text_3': 'NA'}, {'text': 'Canada', 'bottom': 279.1965, 'text_1': '3', 'text_2': '4', 'text_3': 'NA'}, {'text': 'Poland', 'bottom': 290.17650000000003, 'text_1': '3', 'text_2': '3', 'text_3': '24'}, {'text': 'Qatar', 'bottom': 301.1565, 'text_1': '59', 'text_2': '66', 'text_3': 'Large'}, {'text': 'Russia', 'bottom': 312.1965, 'text_1': 'e5', 'text_2': '8', 'text_3': '1,700'}, {'text': 'South Africa', 'bottom': 323.17650000000003, 'text_1': 'NA', 'text_2': '(9)', 'text_3': 'NA'}, {'text': 'World total (rounded)', 'bottom': 334.1565, 'text_1': '158', 'text_2': '170', 'text_3': 'NA'}], {'bbox_top': 200.68752000000006, 'bbox_bottom': 334.1565, 'bbox_start': 44.94, 'bbox_end': 544.014246}, 92]\n",
      "========================================\n",
      "\n",
      "[[{'text': None, 'bottom': 180.70752000000005, 'text_1': 'Mine production', 'text_2': 'Mine production', 'text_3': 'Reserves'}, {'text': None, 'bottom': 191.68751999999995, 'text_1': '2022', 'text_2': '2023e', 'text_3': None}, {'text': 'United States', 'bottom': 202.15649999999994, 'text_1': '19,800', 'text_2': '20,000', 'text_3': '1,000,000'}, {'text': 'Algeria', 'bottom': 213.19650000000001, 'text_1': '1,800', 'text_2': '1,800', 'text_3': '2,200,000'}, {'text': 'Australia', 'bottom': 224.17649999999992, 'text_1': '2,500', 'text_2': '2,500', 'text_3': '1,100,000'}, {'text': 'Brazil', 'bottom': 235.15649999999994, 'text_1': 'e6,200', 'text_2': '5,300', 'text_3': '1,600,000'}, {'text': 'China', 'bottom': 246.19650000000001, 'text_1': '93,000', 'text_2': '90,000', 'text_3': '3,800,000'}, {'text': 'Egypt', 'bottom': 257.1764999999999, 'text_1': 'e5,000', 'text_2': '4,800', 'text_3': '2,800,000'}, {'text': 'Finland', 'bottom': 268.15649999999994, 'text_1': '923', 'text_2': '950', 'text_3': '1,000,000'}, {'text': 'India', 'bottom': 279.1965, 'text_1': '1,740', 'text_2': '1,500', 'text_3': '31,000'}, {'text': 'Israel', 'bottom': 290.17650000000003, 'text_1': '2,170', 'text_2': '2,500', 'text_3': '60,000'}, {'text': 'Jordan', 'bottom': 301.1565, 'text_1': '11,300', 'text_2': '12,000', 'text_3': '1,000,000'}, {'text': 'Kazakhstan', 'bottom': 312.1965, 'text_1': 'e1,500', 'text_2': '2,000', 'text_3': '260,000'}, {'text': 'Mexico', 'bottom': 323.17650000000003, 'text_1': '442', 'text_2': '500', 'text_3': '30,000'}, {'text': 'Morocco', 'bottom': 334.1565, 'text_1': '39,000', 'text_2': '35,000', 'text_3': '50,000,000'}, {'text': 'Peru', 'bottom': 345.1965, 'text_1': '4,200', 'text_2': '4,200', 'text_3': '210,000'}, {'text': 'Russia', 'bottom': 356.17650000000003, 'text_1': '14,000', 'text_2': '14,000', 'text_3': '2,400,000'}, {'text': 'Saudi Arabia', 'bottom': 367.1565, 'text_1': '9,000', 'text_2': '8,500', 'text_3': '1,400,000'}, {'text': 'Senegal', 'bottom': 378.1965, 'text_1': 'e2,600', 'text_2': '2,500', 'text_3': '50,000'}, {'text': 'South Africa', 'bottom': 389.17650000000003, 'text_1': '1,990', 'text_2': '1,600', 'text_3': '1,500,000'}, {'text': 'Syria', 'bottom': 400.1565, 'text_1': '1,100', 'text_2': '800', 'text_3': '250,000'}, {'text': 'Togo', 'bottom': 411.1965, 'text_1': '1,500', 'text_2': '1,500', 'text_3': '30,000'}, {'text': 'Tunisia', 'bottom': 422.17650000000003, 'text_1': '3,560', 'text_2': '3,600', 'text_3': '2,500,000'}, {'text': 'Turkey', 'bottom': 433.1565, 'text_1': '900', 'text_2': '800', 'text_3': '71,000'}, {'text': 'Uzbekistan', 'bottom': 444.1965, 'text_1': 'e900', 'text_2': '900', 'text_3': '100,000'}, {'text': 'Vietnam', 'bottom': 455.17650000000003, 'text_1': '2,000', 'text_2': '2,000', 'text_3': '30,000'}, {'text': 'Other countries', 'bottom': 466.1565, 'text_1': '750', 'text_2': '800', 'text_3': '800,000'}, {'text': 'World total (rounded)', 'bottom': 477.1965, 'text_1': '228,000', 'text_2': '220,000', 'text_3': '74,000,000'}], {'bbox_top': 167.68752000000006, 'bbox_bottom': 477.1965, 'bbox_start': 44.94, 'bbox_end': 531.5379959999999}, 138]\n",
      "========================================\n",
      "\n",
      "[[{'text': None, 'bottom': 213.70752000000005, 'text_1': 'Production', 'text_2': 'Production', 'text_3': 'Reserves'}, {'text': None, 'bottom': 224.68751999999995, 'text_1': '2022', 'text_2': '2023', 'text_3': None}, {'text': 'United States', 'bottom': 235.15649999999994, 'text_1': 'W', 'text_2': 'W', 'text_3': '11,000,000'}, {'text': 'Azerbaijan', 'bottom': 246.19650000000001, 'text_1': '—', 'text_2': '—', 'text_3': '300,000'}, {'text': 'China', 'bottom': 257.1764999999999, 'text_1': '73,000', 'text_2': '76,000', 'text_3': '130,000'}, {'text': 'India', 'bottom': 268.15649999999994, 'text_1': '3,500', 'text_2': '3,500', 'text_3': 'NA'}, {'text': 'Israel', 'bottom': 279.1965, 'text_1': '0178,000', 'text_2': '170,000', 'text_3': 'Large'}, {'text': 'Japan', 'bottom': 290.17650000000003, 'text_1': '20,000', 'text_2': '20,000', 'text_3': 'NA'}, {'text': 'Jordan', 'bottom': 301.1565, 'text_1': '115,000', 'text_2': '120,000', 'text_3': 'Large'}, {'text': 'Ukraine', 'bottom': 312.1965, 'text_1': '10,800', 'text_2': '11,000', 'text_3': 'NA'}, {'text': 'World total (rounded)', 'bottom': 323.17650000000003, 'text_1': '1400,000', 'text_2': '1400,000', 'text_3': 'Large'}], {'bbox_top': 199.4164800000001, 'bbox_bottom': 323.17650000000003, 'bbox_start': 44.94, 'bbox_end': 536.5179959999999}, 54]\n",
      "========================================\n",
      "\n",
      "[[{'text': 'Refinery productione', 'bottom': 268.66751999999997, 'text_1': 'Refinery productione', 'text_2': 'Refinery productione', 'text_3': 'Refinery productione', 'text_4': 'Refinery productione', 'text_5': 'Refinery productione', 'text_6': 'Refinery productione', 'text_7': 'Refinery productione', 'text_8': 'Refinery productione', 'text_9': 'Refinery productione', 'text_10': 'Refinery productione', 'text_11': 'Refinery productione', 'text_12': 'Refinery productione', 'text_13': 'Refinery productione', 'text_14': 'Refinery productione', 'text_15': 'Refinery productione', 'text_16': 'Refinery productione', 'text_17': 'Refinery productione', 'text_18': 'Refinery productione', 'text_19': 'Refinery productione', 'text_20': 'Refinery productione', 'text_21': 'Refinery productione', 'text_22': None, 'text_23': 'Reserves'}, {'text': '2022', 'bottom': 279.70752000000005, 'text_1': '2023', 'text_2': '2023', 'text_3': '2023', 'text_4': '2023', 'text_5': '2023', 'text_6': '2023', 'text_7': '2023', 'text_8': '2023', 'text_9': '2023', 'text_10': '2023', 'text_11': '2023', 'text_12': '2023', 'text_13': '2023', 'text_14': '2023', 'text_15': '2023', 'text_16': '2023', 'text_17': '2023', 'text_18': '2023', 'text_19': '2023', 'text_20': '2023', 'text_21': '2023', 'text_22': None, 'text_23': None}, {'text': '—', 'bottom': 290.17650000000003, 'text_1': '—', 'text_2': '—', 'text_3': '—', 'text_4': '—', 'text_5': '—', 'text_6': '—', 'text_7': '—', 'text_8': '—', 'text_9': '—', 'text_10': '—', 'text_11': '—', 'text_12': '—', 'text_13': '—', 'text_14': '—', 'text_15': '—', 'text_16': '—', 'text_17': '—', 'text_18': '—', 'text_19': '—', 'text_20': '—', 'text_21': '—', 'text_22': 'United States', 'text_23': 'Quantitative estimates of'}, {'text': '19', 'bottom': 301.1565, 'text_1': '18', 'text_2': '18', 'text_3': '18', 'text_4': '18', 'text_5': '18', 'text_6': '18', 'text_7': '18', 'text_8': '18', 'text_9': '18', 'text_10': '18', 'text_11': '18', 'text_12': '18', 'text_13': '18', 'text_14': '18', 'text_15': '18', 'text_16': '18', 'text_17': '18', 'text_18': '18', 'text_19': '18', 'text_20': '18', 'text_21': '18', 'text_22': 'Belgium', 'text_23': 'reserves were not available.'}, {'text': '39', 'bottom': 312.1965, 'text_1': '37', 'text_2': '37', 'text_3': '37', 'text_4': '37', 'text_5': '37', 'text_6': '37', 'text_7': '37', 'text_8': '37', 'text_9': '37', 'text_10': '37', 'text_11': '37', 'text_12': '37', 'text_13': '37', 'text_14': '37', 'text_15': '37', 'text_16': '37', 'text_17': '37', 'text_18': '37', 'text_19': '37', 'text_20': '37', 'text_21': '37', 'text_22': 'Canada', 'text_23': None}, {'text': '670', 'bottom': 323.17650000000003, 'text_1': '650', 'text_2': '650', 'text_3': '650', 'text_4': '650', 'text_5': '650', 'text_6': '650', 'text_7': '650', 'text_8': '650', 'text_9': '650', 'text_10': '650', 'text_11': '650', 'text_12': '650', 'text_13': '650', 'text_14': '650', 'text_15': '650', 'text_16': '650', 'text_17': '650', 'text_18': '650', 'text_19': '650', 'text_20': '650', 'text_21': '650', 'text_22': 'China', 'text_23': None}, {'text': '19', 'bottom': 334.1565, 'text_1': '12', 'text_2': '12', 'text_3': '12', 'text_4': '12', 'text_5': '12', 'text_6': '12', 'text_7': '12', 'text_8': '12', 'text_9': '12', 'text_10': '12', 'text_11': '12', 'text_12': '12', 'text_13': '12', 'text_14': '12', 'text_15': '12', 'text_16': '12', 'text_17': '12', 'text_18': '12', 'text_19': '12', 'text_20': '12', 'text_21': '12', 'text_22': 'France', 'text_23': None}, {'text': '66', 'bottom': 345.1965, 'text_1': '64', 'text_2': '64', 'text_3': '64', 'text_4': '64', 'text_5': '64', 'text_6': '64', 'text_7': '64', 'text_8': '64', 'text_9': '64', 'text_10': '64', 'text_11': '64', 'text_12': '64', 'text_13': '64', 'text_14': '64', 'text_15': '64', 'text_16': '64', 'text_17': '64', 'text_18': '64', 'text_19': '64', 'text_20': '64', 'text_21': '64', 'text_22': 'Japan', 'text_23': None}, {'text': '180', 'bottom': 356.17650000000003, 'text_1': '200', 'text_2': '200', 'text_3': '200', 'text_4': '200', 'text_5': '200', 'text_6': '200', 'text_7': '200', 'text_8': '200', 'text_9': '200', 'text_10': '200', 'text_11': '200', 'text_12': '200', 'text_13': '200', 'text_14': '200', 'text_15': '200', 'text_16': '200', 'text_17': '200', 'text_18': '200', 'text_19': '200', 'text_20': '200', 'text_21': '200', 'text_22': 'Korea, Republic of', 'text_23': None}, {'text': '5', 'bottom': 367.1565, 'text_1': '5', 'text_2': '5', 'text_3': '5', 'text_4': '5', 'text_5': '5', 'text_6': '5', 'text_7': '5', 'text_8': '5', 'text_9': '5', 'text_10': '5', 'text_11': '5', 'text_12': '5', 'text_13': '5', 'text_14': '5', 'text_15': '5', 'text_16': '5', 'text_17': '5', 'text_18': '5', 'text_19': '5', 'text_20': '5', 'text_21': '5', 'text_22': 'Russia', 'text_23': None}, {'text': '1', 'bottom': 378.1965, 'text_1': '1', 'text_2': '1', 'text_3': '1', 'text_4': '1', 'text_5': '1', 'text_6': '1', 'text_7': '1', 'text_8': '1', 'text_9': '1', 'text_10': '1', 'text_11': '1', 'text_12': '1', 'text_13': '1', 'text_14': '1', 'text_15': '1', 'text_16': '1', 'text_17': '1', 'text_18': '1', 'text_19': '1', 'text_20': '1', 'text_21': '1', 'text_22': 'Uzbekistan', 'text_23': None}, {'text': '999', 'bottom': 389.17650000000003, 'text_1': '990', 'text_2': '990', 'text_3': '990', 'text_4': '990', 'text_5': '990', 'text_6': '990', 'text_7': '990', 'text_8': '990', 'text_9': '990', 'text_10': '990', 'text_11': '990', 'text_12': '990', 'text_13': '990', 'text_14': '990', 'text_15': '990', 'text_16': '990', 'text_17': '990', 'text_18': '990', 'text_19': '990', 'text_20': '990', 'text_21': '990', 'text_22': 'World total (rounded)', 'text_23': None}, {'text': 'Indium is most commonly recovered from the zinc-sulfide ore mineral sphalerite. The indium', 'bottom': 411.1365, 'text_1': 'Indium is most commonly recovered from the zinc-sulfide ore mineral sphalerite. The indium', 'text_2': 'Indium is most commonly recovered from the zinc-sulfide ore mineral sphalerite. The indium', 'text_3': 'Indium is most commonly recovered from the zinc-sulfide ore mineral sphalerite. The indium', 'text_4': 'Indium is most commonly recovered from the zinc-sulfide ore mineral sphalerite. The indium', 'text_5': 'Indium is most commonly recovered from the zinc-sulfide ore mineral sphalerite. The indium', 'text_6': 'Indium is most commonly recovered from the zinc-sulfide ore mineral sphalerite. The indium', 'text_7': 'Indium is most commonly recovered from the zinc-sulfide ore mineral sphalerite. The indium', 'text_8': 'Indium is most commonly recovered from the zinc-sulfide ore mineral sphalerite. The indium', 'text_9': 'Indium is most commonly recovered from the zinc-sulfide ore mineral sphalerite. The indium', 'text_10': 'Indium is most commonly recovered from the zinc-sulfide ore mineral sphalerite. The indium', 'text_11': 'Indium is most commonly recovered from the zinc-sulfide ore mineral sphalerite. The indium', 'text_12': 'Indium is most commonly recovered from the zinc-sulfide ore mineral sphalerite. The indium', 'text_13': 'Indium is most commonly recovered from the zinc-sulfide ore mineral sphalerite. The indium', 'text_14': 'Indium is most commonly recovered from the zinc-sulfide ore mineral sphalerite. The indium', 'text_15': 'Indium is most commonly recovered from the zinc-sulfide ore mineral sphalerite. The indium', 'text_16': 'Indium is most commonly recovered from the zinc-sulfide ore mineral sphalerite. The indium', 'text_17': 'Indium is most commonly recovered from the zinc-sulfide ore mineral sphalerite. The indium', 'text_18': 'Indium is most commonly recovered from the zinc-sulfide ore mineral sphalerite. The indium', 'text_19': 'Indium is most commonly recovered from the zinc-sulfide ore mineral sphalerite. The indium', 'text_20': 'Indium is most commonly recovered from the zinc-sulfide ore mineral sphalerite. The indium', 'text_21': 'Indium is most commonly recovered from the zinc-sulfide ore mineral sphalerite. The indium', 'text_22': 'World Resources:', 'text_23': None}, {'text': 'content of zinc deposits from which it is recovered ranges from less than 1 part per million to 100 parts per million.', 'bottom': 422.1575, 'text_1': 'content of zinc deposits from which it is recovered ranges from less than 1 part per million to 100 parts per million.', 'text_2': 'content of zinc deposits from which it is recovered ranges from less than 1 part per million to 100 parts per million.', 'text_3': 'content of zinc deposits from which it is recovered ranges from less than 1 part per million to 100 parts per million.', 'text_4': 'content of zinc deposits from which it is recovered ranges from less than 1 part per million to 100 parts per million.', 'text_5': 'content of zinc deposits from which it is recovered ranges from less than 1 part per million to 100 parts per million.', 'text_6': 'content of zinc deposits from which it is recovered ranges from less than 1 part per million to 100 parts per million.', 'text_7': 'content of zinc deposits from which it is recovered ranges from less than 1 part per million to 100 parts per million.', 'text_8': 'content of zinc deposits from which it is recovered ranges from less than 1 part per million to 100 parts per million.', 'text_9': 'content of zinc deposits from which it is recovered ranges from less than 1 part per million to 100 parts per million.', 'text_10': 'content of zinc deposits from which it is recovered ranges from less than 1 part per million to 100 parts per million.', 'text_11': 'content of zinc deposits from which it is recovered ranges from less than 1 part per million to 100 parts per million.', 'text_12': 'content of zinc deposits from which it is recovered ranges from less than 1 part per million to 100 parts per million.', 'text_13': 'content of zinc deposits from which it is recovered ranges from less than 1 part per million to 100 parts per million.', 'text_14': 'content of zinc deposits from which it is recovered ranges from less than 1 part per million to 100 parts per million.', 'text_15': 'content of zinc deposits from which it is recovered ranges from less than 1 part per million to 100 parts per million.', 'text_16': 'content of zinc deposits from which it is recovered ranges from less than 1 part per million to 100 parts per million.', 'text_17': 'content of zinc deposits from which it is recovered ranges from less than 1 part per million to 100 parts per million.', 'text_18': 'content of zinc deposits from which it is recovered ranges from less than 1 part per million to 100 parts per million.', 'text_19': 'content of zinc deposits from which it is recovered ranges from less than 1 part per million to 100 parts per million.', 'text_20': 'content of zinc deposits from which it is recovered ranges from less than 1 part per million to 100 parts per million.', 'text_21': 'content of zinc deposits from which it is recovered ranges from less than 1 part per million to 100 parts per million.', 'text_22': None, 'text_23': None}, {'text': 'Although the geochemical properties of indium are such that it occurs in trace amounts in other base-metal sulfides—', 'bottom': 433.17850000000004, 'text_1': 'Although the geochemical properties of indium are such that it occurs in trace amounts in other base-metal sulfides—', 'text_2': 'Although the geochemical properties of indium are such that it occurs in trace amounts in other base-metal sulfides—', 'text_3': 'Although the geochemical properties of indium are such that it occurs in trace amounts in other base-metal sulfides—', 'text_4': 'Although the geochemical properties of indium are such that it occurs in trace amounts in other base-metal sulfides—', 'text_5': 'Although the geochemical properties of indium are such that it occurs in trace amounts in other base-metal sulfides—', 'text_6': 'Although the geochemical properties of indium are such that it occurs in trace amounts in other base-metal sulfides—', 'text_7': 'Although the geochemical properties of indium are such that it occurs in trace amounts in other base-metal sulfides—', 'text_8': 'Although the geochemical properties of indium are such that it occurs in trace amounts in other base-metal sulfides—', 'text_9': 'Although the geochemical properties of indium are such that it occurs in trace amounts in other base-metal sulfides—', 'text_10': 'Although the geochemical properties of indium are such that it occurs in trace amounts in other base-metal sulfides—', 'text_11': 'Although the geochemical properties of indium are such that it occurs in trace amounts in other base-metal sulfides—', 'text_12': 'Although the geochemical properties of indium are such that it occurs in trace amounts in other base-metal sulfides—', 'text_13': 'Although the geochemical properties of indium are such that it occurs in trace amounts in other base-metal sulfides—', 'text_14': 'Although the geochemical properties of indium are such that it occurs in trace amounts in other base-metal sulfides—', 'text_15': 'Although the geochemical properties of indium are such that it occurs in trace amounts in other base-metal sulfides—', 'text_16': 'Although the geochemical properties of indium are such that it occurs in trace amounts in other base-metal sulfides—', 'text_17': 'Although the geochemical properties of indium are such that it occurs in trace amounts in other base-metal sulfides—', 'text_18': 'Although the geochemical properties of indium are such that it occurs in trace amounts in other base-metal sulfides—', 'text_19': 'Although the geochemical properties of indium are such that it occurs in trace amounts in other base-metal sulfides—', 'text_20': 'Although the geochemical properties of indium are such that it occurs in trace amounts in other base-metal sulfides—', 'text_21': 'Although the geochemical properties of indium are such that it occurs in trace amounts in other base-metal sulfides—', 'text_22': None, 'text_23': None}, {'text': 'particularly chalcopyrite and stannite—indium recovery from most deposits of these minerals was not economic.', 'bottom': 444.19950000000006, 'text_1': 'particularly chalcopyrite and stannite—indium recovery from most deposits of these minerals was not economic.', 'text_2': 'particularly chalcopyrite and stannite—indium recovery from most deposits of these minerals was not economic.', 'text_3': 'particularly chalcopyrite and stannite—indium recovery from most deposits of these minerals was not economic.', 'text_4': 'particularly chalcopyrite and stannite—indium recovery from most deposits of these minerals was not economic.', 'text_5': 'particularly chalcopyrite and stannite—indium recovery from most deposits of these minerals was not economic.', 'text_6': 'particularly chalcopyrite and stannite—indium recovery from most deposits of these minerals was not economic.', 'text_7': 'particularly chalcopyrite and stannite—indium recovery from most deposits of these minerals was not economic.', 'text_8': 'particularly chalcopyrite and stannite—indium recovery from most deposits of these minerals was not economic.', 'text_9': 'particularly chalcopyrite and stannite—indium recovery from most deposits of these minerals was not economic.', 'text_10': 'particularly chalcopyrite and stannite—indium recovery from most deposits of these minerals was not economic.', 'text_11': 'particularly chalcopyrite and stannite—indium recovery from most deposits of these minerals was not economic.', 'text_12': 'particularly chalcopyrite and stannite—indium recovery from most deposits of these minerals was not economic.', 'text_13': 'particularly chalcopyrite and stannite—indium recovery from most deposits of these minerals was not economic.', 'text_14': 'particularly chalcopyrite and stannite—indium recovery from most deposits of these minerals was not economic.', 'text_15': 'particularly chalcopyrite and stannite—indium recovery from most deposits of these minerals was not economic.', 'text_16': 'particularly chalcopyrite and stannite—indium recovery from most deposits of these minerals was not economic.', 'text_17': 'particularly chalcopyrite and stannite—indium recovery from most deposits of these minerals was not economic.', 'text_18': 'particularly chalcopyrite and stannite—indium recovery from most deposits of these minerals was not economic.', 'text_19': 'particularly chalcopyrite and stannite—indium recovery from most deposits of these minerals was not economic.', 'text_20': 'particularly chalcopyrite and stannite—indium recovery from most deposits of these minerals was not economic.', 'text_21': 'particularly chalcopyrite and stannite—indium recovery from most deposits of these minerals was not economic.', 'text_22': None, 'text_23': None}, {'text': 'Antimony tin oxide coatings have been developed as an alternative to ITO coatings in LCDs and have', 'bottom': 466.16350000000006, 'text_1': 'Antimony tin oxide coatings have been developed as an alternative to ITO coatings in LCDs and have', 'text_2': 'Antimony tin oxide coatings have been developed as an alternative to ITO coatings in LCDs and have', 'text_3': 'Antimony tin oxide coatings have been developed as an alternative to ITO coatings in LCDs and have', 'text_4': 'Antimony tin oxide coatings have been developed as an alternative to ITO coatings in LCDs and have', 'text_5': 'Antimony tin oxide coatings have been developed as an alternative to ITO coatings in LCDs and have', 'text_6': 'Antimony tin oxide coatings have been developed as an alternative to ITO coatings in LCDs and have', 'text_7': 'Antimony tin oxide coatings have been developed as an alternative to ITO coatings in LCDs and have', 'text_8': 'Antimony tin oxide coatings have been developed as an alternative to ITO coatings in LCDs and have', 'text_9': 'Antimony tin oxide coatings have been developed as an alternative to ITO coatings in LCDs and have', 'text_10': 'Antimony tin oxide coatings have been developed as an alternative to ITO coatings in LCDs and have', 'text_11': 'Antimony tin oxide coatings have been developed as an alternative to ITO coatings in LCDs and have', 'text_12': 'Antimony tin oxide coatings have been developed as an alternative to ITO coatings in LCDs and have', 'text_13': 'Antimony tin oxide coatings have been developed as an alternative to ITO coatings in LCDs and have', 'text_14': 'Antimony tin oxide coatings have been developed as an alternative to ITO coatings in LCDs and have', 'text_15': 'Antimony tin oxide coatings have been developed as an alternative to ITO coatings in LCDs and have', 'text_16': 'Antimony tin oxide coatings have been developed as an alternative to ITO coatings in LCDs and have', 'text_17': 'Antimony tin oxide coatings have been developed as an alternative to ITO coatings in LCDs and have', 'text_18': 'Antimony tin oxide coatings have been developed as an alternative to ITO coatings in LCDs and have', 'text_19': 'Antimony tin oxide coatings have been developed as an alternative to ITO coatings in LCDs and have', 'text_20': 'Antimony tin oxide coatings have been developed as an alternative to ITO coatings in LCDs and have', 'text_21': 'Antimony tin oxide coatings have been developed as an alternative to ITO coatings in LCDs and have', 'text_22': None, 'text_23': None}, {'text': 'Substitutes:', 'bottom': 466.67452000000003, 'text_1': 'Substitutes:', 'text_2': 'Substitutes:', 'text_3': 'Substitutes:', 'text_4': 'Substitutes:', 'text_5': 'Substitutes:', 'text_6': 'Substitutes:', 'text_7': 'Substitutes:', 'text_8': 'Substitutes:', 'text_9': 'Substitutes:', 'text_10': 'Substitutes:', 'text_11': 'Substitutes:', 'text_12': 'Substitutes:', 'text_13': 'Substitutes:', 'text_14': 'Substitutes:', 'text_15': 'Substitutes:', 'text_16': 'Substitutes:', 'text_17': 'Substitutes:', 'text_18': 'Substitutes:', 'text_19': 'Substitutes:', 'text_20': 'Substitutes:', 'text_21': 'Substitutes:', 'text_22': None, 'text_23': None}, {'text': 'been successfully annealed to LCD glass; carbon nanotube coatings have been developed as an alternative to ITO', 'bottom': 477.1695, 'text_1': 'been successfully annealed to LCD glass; carbon nanotube coatings have been developed as an alternative to ITO', 'text_2': 'been successfully annealed to LCD glass; carbon nanotube coatings have been developed as an alternative to ITO', 'text_3': 'been successfully annealed to LCD glass; carbon nanotube coatings have been developed as an alternative to ITO', 'text_4': 'been successfully annealed to LCD glass; carbon nanotube coatings have been developed as an alternative to ITO', 'text_5': 'been successfully annealed to LCD glass; carbon nanotube coatings have been developed as an alternative to ITO', 'text_6': 'been successfully annealed to LCD glass; carbon nanotube coatings have been developed as an alternative to ITO', 'text_7': 'been successfully annealed to LCD glass; carbon nanotube coatings have been developed as an alternative to ITO', 'text_8': 'been successfully annealed to LCD glass; carbon nanotube coatings have been developed as an alternative to ITO', 'text_9': 'been successfully annealed to LCD glass; carbon nanotube coatings have been developed as an alternative to ITO', 'text_10': 'been successfully annealed to LCD glass; carbon nanotube coatings have been developed as an alternative to ITO', 'text_11': 'been successfully annealed to LCD glass; carbon nanotube coatings have been developed as an alternative to ITO', 'text_12': 'been successfully annealed to LCD glass; carbon nanotube coatings have been developed as an alternative to ITO', 'text_13': 'been successfully annealed to LCD glass; carbon nanotube coatings have been developed as an alternative to ITO', 'text_14': 'been successfully annealed to LCD glass; carbon nanotube coatings have been developed as an alternative to ITO', 'text_15': 'been successfully annealed to LCD glass; carbon nanotube coatings have been developed as an alternative to ITO', 'text_16': 'been successfully annealed to LCD glass; carbon nanotube coatings have been developed as an alternative to ITO', 'text_17': 'been successfully annealed to LCD glass; carbon nanotube coatings have been developed as an alternative to ITO', 'text_18': 'been successfully annealed to LCD glass; carbon nanotube coatings have been developed as an alternative to ITO', 'text_19': 'been successfully annealed to LCD glass; carbon nanotube coatings have been developed as an alternative to ITO', 'text_20': 'been successfully annealed to LCD glass; carbon nanotube coatings have been developed as an alternative to ITO', 'text_21': 'been successfully annealed to LCD glass; carbon nanotube coatings have been developed as an alternative to ITO', 'text_22': None, 'text_23': None}, {'text': 'coatings in flexible displays, solar cells, and touch screens; poly (3,4-ethylene dioxythiophene) (PEDOT) has also', 'bottom': 488.1755, 'text_1': 'coatings in flexible displays, solar cells, and touch screens; poly (3,4-ethylene dioxythiophene) (PEDOT) has also', 'text_2': 'coatings in flexible displays, solar cells, and touch screens; poly (3,4-ethylene dioxythiophene) (PEDOT) has also', 'text_3': 'coatings in flexible displays, solar cells, and touch screens; poly (3,4-ethylene dioxythiophene) (PEDOT) has also', 'text_4': 'coatings in flexible displays, solar cells, and touch screens; poly (3,4-ethylene dioxythiophene) (PEDOT) has also', 'text_5': 'coatings in flexible displays, solar cells, and touch screens; poly (3,4-ethylene dioxythiophene) (PEDOT) has also', 'text_6': 'coatings in flexible displays, solar cells, and touch screens; poly (3,4-ethylene dioxythiophene) (PEDOT) has also', 'text_7': 'coatings in flexible displays, solar cells, and touch screens; poly (3,4-ethylene dioxythiophene) (PEDOT) has also', 'text_8': 'coatings in flexible displays, solar cells, and touch screens; poly (3,4-ethylene dioxythiophene) (PEDOT) has also', 'text_9': 'coatings in flexible displays, solar cells, and touch screens; poly (3,4-ethylene dioxythiophene) (PEDOT) has also', 'text_10': 'coatings in flexible displays, solar cells, and touch screens; poly (3,4-ethylene dioxythiophene) (PEDOT) has also', 'text_11': 'coatings in flexible displays, solar cells, and touch screens; poly (3,4-ethylene dioxythiophene) (PEDOT) has also', 'text_12': 'coatings in flexible displays, solar cells, and touch screens; poly (3,4-ethylene dioxythiophene) (PEDOT) has also', 'text_13': 'coatings in flexible displays, solar cells, and touch screens; poly (3,4-ethylene dioxythiophene) (PEDOT) has also', 'text_14': 'coatings in flexible displays, solar cells, and touch screens; poly (3,4-ethylene dioxythiophene) (PEDOT) has also', 'text_15': 'coatings in flexible displays, solar cells, and touch screens; poly (3,4-ethylene dioxythiophene) (PEDOT) has also', 'text_16': 'coatings in flexible displays, solar cells, and touch screens; poly (3,4-ethylene dioxythiophene) (PEDOT) has also', 'text_17': 'coatings in flexible displays, solar cells, and touch screens; poly (3,4-ethylene dioxythiophene) (PEDOT) has also', 'text_18': 'coatings in flexible displays, solar cells, and touch screens; poly (3,4-ethylene dioxythiophene) (PEDOT) has also', 'text_19': 'coatings in flexible displays, solar cells, and touch screens; poly (3,4-ethylene dioxythiophene) (PEDOT) has also', 'text_20': 'coatings in flexible displays, solar cells, and touch screens; poly (3,4-ethylene dioxythiophene) (PEDOT) has also', 'text_21': 'coatings in flexible displays, solar cells, and touch screens; poly (3,4-ethylene dioxythiophene) (PEDOT) has also', 'text_22': None, 'text_23': None}, {'text': 'been developed as a', 'bottom': 499.18149999999997, 'text_1': 'been developed as a', 'text_2': 'been developed as a', 'text_3': 'been developed as a', 'text_4': 'been developed as a', 'text_5': 'been developed as a', 'text_6': 'been developed as a', 'text_7': 'been developed as a', 'text_8': 'been developed as a', 'text_9': 'been developed as a', 'text_10': 'been developed as a', 'text_11': 'been developed as a', 'text_12': 'been developed as a', 'text_13': 'been developed as a', 'text_14': 'been developed as a', 'text_15': 'been developed as a', 'text_16': 'been developed as a', 'text_17': 'been developed as a', 'text_18': 'been developed as a', 'text_19': 'been developed as a', 'text_20': 'been developed as a', 'text_21': 'been developed as a', 'text_22': None, 'text_23': None}, {'text': 'substitute for ITO in flexible displays and organic light-emitting diodes; and copper or silver', 'bottom': 499.1815, 'text_1': 'substitute for ITO in flexible displays and organic light-emitting diodes; and copper or silver', 'text_2': 'substitute for ITO in flexible displays and organic light-emitting diodes; and copper or silver', 'text_3': 'substitute for ITO in flexible displays and organic light-emitting diodes; and copper or silver', 'text_4': 'substitute for ITO in flexible displays and organic light-emitting diodes; and copper or silver', 'text_5': 'substitute for ITO in flexible displays and organic light-emitting diodes; and copper or silver', 'text_6': 'substitute for ITO in flexible displays and organic light-emitting diodes; and copper or silver', 'text_7': 'substitute for ITO in flexible displays and organic light-emitting diodes; and copper or silver', 'text_8': 'substitute for ITO in flexible displays and organic light-emitting diodes; and copper or silver', 'text_9': 'substitute for ITO in flexible displays and organic light-emitting diodes; and copper or silver', 'text_10': 'substitute for ITO in flexible displays and organic light-emitting diodes; and copper or silver', 'text_11': 'substitute for ITO in flexible displays and organic light-emitting diodes; and copper or silver', 'text_12': 'substitute for ITO in flexible displays and organic light-emitting diodes; and copper or silver', 'text_13': 'substitute for ITO in flexible displays and organic light-emitting diodes; and copper or silver', 'text_14': 'substitute for ITO in flexible displays and organic light-emitting diodes; and copper or silver', 'text_15': 'substitute for ITO in flexible displays and organic light-emitting diodes; and copper or silver', 'text_16': 'substitute for ITO in flexible displays and organic light-emitting diodes; and copper or silver', 'text_17': 'substitute for ITO in flexible displays and organic light-emitting diodes; and copper or silver', 'text_18': 'substitute for ITO in flexible displays and organic light-emitting diodes; and copper or silver', 'text_19': 'substitute for ITO in flexible displays and organic light-emitting diodes; and copper or silver', 'text_20': 'substitute for ITO in flexible displays and organic light-emitting diodes; and copper or silver', 'text_21': 'substitute for ITO in flexible displays and organic light-emitting diodes; and copper or silver', 'text_22': None, 'text_23': None}, {'text': 'as a substitute for ITO in touch screens. Graphene has been developed to replace', 'bottom': 510.1875, 'text_1': 'as a substitute for ITO in touch screens. Graphene has been developed to replace', 'text_2': 'as a substitute for ITO in touch screens. Graphene has been developed to replace', 'text_3': 'as a substitute for ITO in touch screens. Graphene has been developed to replace', 'text_4': 'as a substitute for ITO in touch screens. Graphene has been developed to replace', 'text_5': 'as a substitute for ITO in touch screens. Graphene has been developed to replace', 'text_6': 'as a substitute for ITO in touch screens. Graphene has been developed to replace', 'text_7': 'as a substitute for ITO in touch screens. Graphene has been developed to replace', 'text_8': 'as a substitute for ITO in touch screens. Graphene has been developed to replace', 'text_9': 'as a substitute for ITO in touch screens. Graphene has been developed to replace', 'text_10': 'as a substitute for ITO in touch screens. Graphene has been developed to replace', 'text_11': 'as a substitute for ITO in touch screens. Graphene has been developed to replace', 'text_12': 'as a substitute for ITO in touch screens. Graphene has been developed to replace', 'text_13': 'as a substitute for ITO in touch screens. Graphene has been developed to replace', 'text_14': 'as a substitute for ITO in touch screens. Graphene has been developed to replace', 'text_15': 'as a substitute for ITO in touch screens. Graphene has been developed to replace', 'text_16': 'as a substitute for ITO in touch screens. Graphene has been developed to replace', 'text_17': 'as a substitute for ITO in touch screens. Graphene has been developed to replace', 'text_18': 'as a substitute for ITO in touch screens. Graphene has been developed to replace', 'text_19': 'as a substitute for ITO in touch screens. Graphene has been developed to replace', 'text_20': 'as a substitute for ITO in touch screens. Graphene has been developed to replace', 'text_21': 'as a substitute for ITO in touch screens. Graphene has been developed to replace', 'text_22': None, 'text_23': None}, {'text': 'nanowires have been explored', 'bottom': 510.18750000000006, 'text_1': 'nanowires have been explored', 'text_2': 'nanowires have been explored', 'text_3': 'nanowires have been explored', 'text_4': 'nanowires have been explored', 'text_5': 'nanowires have been explored', 'text_6': 'nanowires have been explored', 'text_7': 'nanowires have been explored', 'text_8': 'nanowires have been explored', 'text_9': 'nanowires have been explored', 'text_10': 'nanowires have been explored', 'text_11': 'nanowires have been explored', 'text_12': 'nanowires have been explored', 'text_13': 'nanowires have been explored', 'text_14': 'nanowires have been explored', 'text_15': 'nanowires have been explored', 'text_16': 'nanowires have been explored', 'text_17': 'nanowires have been explored', 'text_18': 'nanowires have been explored', 'text_19': 'nanowires have been explored', 'text_20': 'nanowires have been explored', 'text_21': 'nanowires have been explored', 'text_22': None, 'text_23': None}, {'text': 'ITO electrodes in solar cells and also has been explored as a replacement for ITO in flexible touch screens.', 'bottom': 521.1935000000001, 'text_1': 'ITO electrodes in solar cells and also has been explored as a replacement for ITO in flexible touch screens.', 'text_2': 'ITO electrodes in solar cells and also has been explored as a replacement for ITO in flexible touch screens.', 'text_3': 'ITO electrodes in solar cells and also has been explored as a replacement for ITO in flexible touch screens.', 'text_4': 'ITO electrodes in solar cells and also has been explored as a replacement for ITO in flexible touch screens.', 'text_5': 'ITO electrodes in solar cells and also has been explored as a replacement for ITO in flexible touch screens.', 'text_6': 'ITO electrodes in solar cells and also has been explored as a replacement for ITO in flexible touch screens.', 'text_7': 'ITO electrodes in solar cells and also has been explored as a replacement for ITO in flexible touch screens.', 'text_8': 'ITO electrodes in solar cells and also has been explored as a replacement for ITO in flexible touch screens.', 'text_9': 'ITO electrodes in solar cells and also has been explored as a replacement for ITO in flexible touch screens.', 'text_10': 'ITO electrodes in solar cells and also has been explored as a replacement for ITO in flexible touch screens.', 'text_11': 'ITO electrodes in solar cells and also has been explored as a replacement for ITO in flexible touch screens.', 'text_12': 'ITO electrodes in solar cells and also has been explored as a replacement for ITO in flexible touch screens.', 'text_13': 'ITO electrodes in solar cells and also has been explored as a replacement for ITO in flexible touch screens.', 'text_14': 'ITO electrodes in solar cells and also has been explored as a replacement for ITO in flexible touch screens.', 'text_15': 'ITO electrodes in solar cells and also has been explored as a replacement for ITO in flexible touch screens.', 'text_16': 'ITO electrodes in solar cells and also has been explored as a replacement for ITO in flexible touch screens.', 'text_17': 'ITO electrodes in solar cells and also has been explored as a replacement for ITO in flexible touch screens.', 'text_18': 'ITO electrodes in solar cells and also has been explored as a replacement for ITO in flexible touch screens.', 'text_19': 'ITO electrodes in solar cells and also has been explored as a replacement for ITO in flexible touch screens.', 'text_20': 'ITO electrodes in solar cells and also has been explored as a replacement for ITO in flexible touch screens.', 'text_21': 'ITO electrodes in solar cells and also has been explored as a replacement for ITO in flexible touch screens.', 'text_22': None, 'text_23': None}, {'text': 'Researchers have developed a more adhesive zinc oxide nanopowder to replace ITO in LCDs. Hafnium can replace', 'bottom': 532.1995, 'text_1': 'Researchers have developed a more adhesive zinc oxide nanopowder to replace ITO in LCDs. Hafnium can replace', 'text_2': 'Researchers have developed a more adhesive zinc oxide nanopowder to replace ITO in LCDs. Hafnium can replace', 'text_3': 'Researchers have developed a more adhesive zinc oxide nanopowder to replace ITO in LCDs. Hafnium can replace', 'text_4': 'Researchers have developed a more adhesive zinc oxide nanopowder to replace ITO in LCDs. Hafnium can replace', 'text_5': 'Researchers have developed a more adhesive zinc oxide nanopowder to replace ITO in LCDs. Hafnium can replace', 'text_6': 'Researchers have developed a more adhesive zinc oxide nanopowder to replace ITO in LCDs. Hafnium can replace', 'text_7': 'Researchers have developed a more adhesive zinc oxide nanopowder to replace ITO in LCDs. Hafnium can replace', 'text_8': 'Researchers have developed a more adhesive zinc oxide nanopowder to replace ITO in LCDs. Hafnium can replace', 'text_9': 'Researchers have developed a more adhesive zinc oxide nanopowder to replace ITO in LCDs. Hafnium can replace', 'text_10': 'Researchers have developed a more adhesive zinc oxide nanopowder to replace ITO in LCDs. Hafnium can replace', 'text_11': 'Researchers have developed a more adhesive zinc oxide nanopowder to replace ITO in LCDs. Hafnium can replace', 'text_12': 'Researchers have developed a more adhesive zinc oxide nanopowder to replace ITO in LCDs. Hafnium can replace', 'text_13': 'Researchers have developed a more adhesive zinc oxide nanopowder to replace ITO in LCDs. Hafnium can replace', 'text_14': 'Researchers have developed a more adhesive zinc oxide nanopowder to replace ITO in LCDs. Hafnium can replace', 'text_15': 'Researchers have developed a more adhesive zinc oxide nanopowder to replace ITO in LCDs. Hafnium can replace', 'text_16': 'Researchers have developed a more adhesive zinc oxide nanopowder to replace ITO in LCDs. Hafnium can replace', 'text_17': 'Researchers have developed a more adhesive zinc oxide nanopowder to replace ITO in LCDs. Hafnium can replace', 'text_18': 'Researchers have developed a more adhesive zinc oxide nanopowder to replace ITO in LCDs. Hafnium can replace', 'text_19': 'Researchers have developed a more adhesive zinc oxide nanopowder to replace ITO in LCDs. Hafnium can replace', 'text_20': 'Researchers have developed a more adhesive zinc oxide nanopowder to replace ITO in LCDs. Hafnium can replace', 'text_21': 'Researchers have developed a more adhesive zinc oxide nanopowder to replace ITO in LCDs. Hafnium can replace', 'text_22': None, 'text_23': None}, {'text': 'indium in nuclear reactor control rod alloys.', 'bottom': 543.2055, 'text_1': 'indium in nuclear reactor control rod alloys.', 'text_2': 'indium in nuclear reactor control rod alloys.', 'text_3': 'indium in nuclear reactor control rod alloys.', 'text_4': 'indium in nuclear reactor control rod alloys.', 'text_5': 'indium in nuclear reactor control rod alloys.', 'text_6': 'indium in nuclear reactor control rod alloys.', 'text_7': 'indium in nuclear reactor control rod alloys.', 'text_8': 'indium in nuclear reactor control rod alloys.', 'text_9': 'indium in nuclear reactor control rod alloys.', 'text_10': 'indium in nuclear reactor control rod alloys.', 'text_11': 'indium in nuclear reactor control rod alloys.', 'text_12': 'indium in nuclear reactor control rod alloys.', 'text_13': 'indium in nuclear reactor control rod alloys.', 'text_14': 'indium in nuclear reactor control rod alloys.', 'text_15': 'indium in nuclear reactor control rod alloys.', 'text_16': 'indium in nuclear reactor control rod alloys.', 'text_17': 'indium in nuclear reactor control rod alloys.', 'text_18': 'indium in nuclear reactor control rod alloys.', 'text_19': 'indium in nuclear reactor control rod alloys.', 'text_20': 'indium in nuclear reactor control rod alloys.', 'text_21': 'indium in nuclear reactor control rod alloys.', 'text_22': None, 'text_23': None}, {'text': 'Estimated', 'bottom': 620.9385, 'text_1': '', 'text_2': '', 'text_3': 'ailable', 'text_4': '', 'text_5': 'ero', 'text_6': 'ero', 'text_7': 'ero', 'text_8': 'ero', 'text_9': 'ero', 'text_10': 'ero', 'text_11': 'ero', 'text_12': 'ero', 'text_13': 'ero', 'text_14': 'ero', 'text_15': 'ero', 'text_16': 'ero', 'text_17': 'ero', 'text_18': 'ero', 'text_19': 'ero', 'text_20': 'ero', 'text_21': 'ero', 'text_22': None, 'text_23': None}, {'text': 'Estimate', 'bottom': 631.9425, 'text_1': '', 'text_2': 'ua', 'text_3': 'mports', 'text_4': 'mports', 'text_5': 'mports', 'text_6': 'mports', 'text_7': 'mports', 'text_8': 'mports', 'text_9': 'mports', 'text_10': 'mports', 'text_11': 'mports', 'text_12': 'mports', 'text_13': 'mports', 'text_14': 'mports', 'text_15': 'mports', 'text_16': 'mports', 'text_17': 'mports', 'text_18': 'mports', 'text_19': 'mports', 'text_20': 'mports', 'text_21': 'mports', 'text_22': None, 'text_23': None}, {'text': 'Pric', 'bottom': 642.9465, 'text_1': '', 'text_2': 'e', 'text_3': '', 'text_4': '99%-minimum-purit', 'text_5': 'ndium', 'text_6': 'ivere', 'text_7': 'ut', 'text_8': 'i', 'text_9': '', 'text_10': 'S', 'text_11': 'uyers', 'text_12': '', 'text_13': 'inimu', 'text_14': 'ot', 'text_15': '', 'text_16': '', 'text_17': 'ilograms', 'text_18': 'ource', 'text_19': '&', 'text_20': 'loba', 'text_21': 'latt', 'text_22': None, 'text_23': None}, {'text': 'etal', 'bottom': 652.3785, 'text_1': 'eek', 'text_2': 'ic', 'text_3': '', 'text_4': 'scontinue', 'text_5': '', 'text_6': 'f', 'text_7': 'eptembe', 'text_8': '', 'text_9': '20', 'text_10': '20', 'text_11': '20', 'text_12': '20', 'text_13': '20', 'text_14': '20', 'text_15': '20', 'text_16': '20', 'text_17': '20', 'text_18': '20', 'text_19': '20', 'text_20': '20', 'text_21': '20', 'text_22': None, 'text_23': None}, {'text': 'Pric', 'bottom': 664.9545, 'text_1': '', 'text_2': 'e', 'text_3': '', 'text_4': '99%-minimum-purit', 'text_5': 'ndium', 'text_6': 'e', 'text_7': '', 'text_8': 'oar', 'text_9': '.S', 'text_10': 'rehouse', 'text_11': 'ource', 'text_12': 'rgu', 'text_13': 'edi', 'text_14': 'roup', 'text_15': 'rgu', 'text_16': 'n-Ferrou', 'text_17': 'arkets', 'text_18': 'arkets', 'text_19': 'arkets', 'text_20': 'arkets', 'text_21': 'arkets', 'text_22': None, 'text_23': None}, {'text': 'Pric', 'bottom': 675.9585, 'text_1': 's', 'text_2': 'ase', 'text_3': '', 'text_4': '9.99%-minimum-purit', 'text_5': 'ndium', 'text_6': 'utie', 'text_7': 'npai', 'text_8': 'n', 'text_9': 'arehous', 'text_10': 'Rotterdam)', 'text_11': 'ource', 'text_12': 'rgu', 'text_13': 'edi', 'text_14': 'roup', 'text_15': 'rgu', 'text_16': 'on-Ferrou', 'text_17': 'on-Ferrou', 'text_18': 'on-Ferrou', 'text_19': 'on-Ferrou', 'text_20': 'on-Ferrou', 'text_21': 'on-Ferrou', 'text_22': None, 'text_23': None}], {'bbox_top': 254.37648000000002, 'bbox_bottom': 675.9585, 'bbox_start': 44.94, 'bbox_end': 563.496}, 94]\n",
      "========================================\n",
      "\n",
      "[[{'text': None, 'bottom': 323.66496, 'text_1': 'Mine production', 'text_2': 'Mine production', 'text_3': 'Mine production', 'text_4': None, 'text_5': 'PGM reserves1'}, {'text': None, 'bottom': 334.70495999999997, 'text_1': 'Palladium', 'text_2': 'Palladium', 'text_3': 'Palladium', 'text_4': 'Platinum', 'text_5': None}, {'text': None, 'bottom': 345.62496, 'text_1': '2022', 'text_2': '2023', 'text_3': '2022', 'text_4': '2023', 'text_5': None}, {'text': 'United States', 'bottom': 356.15700000000004, 'text_1': '10,100', 'text_2': '9,800', 'text_3': '3,000', 'text_4': '2,900', 'text_5': '820,000'}, {'text': 'Canada', 'bottom': 367.197, 'text_1': '16,100', 'text_2': '16,000', 'text_3': '5,400', 'text_4': '5,500', 'text_5': '310,000'}, {'text': 'Russia', 'bottom': 378.117, 'text_1': '87,000', 'text_2': '92,000', 'text_3': '20,000', 'text_4': '23,000', 'text_5': '5,500,000'}, {'text': 'South Africa', 'bottom': 389.15700000000004, 'text_1': '73,100', 'text_2': '71,000', 'text_3': '124,000', 'text_4': '120,000', 'text_5': '63,000,000'}, {'text': 'Zimbabwe', 'bottom': 400.197, 'text_1': '14,300', 'text_2': '15,000', 'text_3': '17,000', 'text_4': '19,000', 'text_5': '1,200,000'}, {'text': 'Other countries', 'bottom': 411.117, 'text_1': '2,700', 'text_2': '2,700', 'text_3': '4,580', 'text_4': '4,600', 'text_5': 'NA'}, {'text': 'World total (rounded)', 'bottom': 422.15700000000004, 'text_1': '203,000', 'text_2': '210,000', 'text_3': '174,000', 'text_4': '180,000', 'text_5': '71,000,000'}], {'bbox_top': 310.70496, 'bbox_bottom': 422.15700000000004, 'bbox_start': 44.88, 'bbox_end': 561.1639200000001}, 140]\n",
      "========================================\n",
      "\n",
      "[[{'text': None, 'bottom': 257.68751999999995, 'text_1': 'Refinery production', 'text_2': 'Refinery production', 'text_3': 'Reserves'}, {'text': None, 'bottom': 268.66751999999997, 'text_1': '2022', 'text_2': '2023', 'text_3': None}, {'text': 'United States', 'bottom': 279.1965, 'text_1': '0212', 'text_2': '220', 'text_3': 'Quantitative estimates of reserves'}, {'text': 'Australia', 'bottom': 290.17650000000003, 'text_1': '0328', 'text_2': '380', 'text_3': 'were not available. The cadmium'}, {'text': 'Bulgaria', 'bottom': 301.1565, 'text_1': '340', 'text_2': '340', 'text_3': 'content of typical zinc ores'}, {'text': 'Canada', 'bottom': 312.1965, 'text_1': '1,800', 'text_2': '1,800', 'text_3': 'averages about 0.03%. See the'}, {'text': 'China', 'bottom': 323.17650000000003, 'text_1': '8,700', 'text_2': '9,000', 'text_3': 'Zinc chapter for zinc reserves.'}, {'text': 'Germany', 'bottom': 334.1565, 'text_1': '320', 'text_2': '—', 'text_3': None}, {'text': 'Japan', 'bottom': 345.1965, 'text_1': '1,800', 'text_2': '1,800', 'text_3': None}, {'text': 'Kazakhstan', 'bottom': 356.17650000000003, 'text_1': '1,000', 'text_2': '1,000', 'text_3': None}, {'text': 'Korea, Republic of', 'bottom': 367.1565, 'text_1': '4,000', 'text_2': '4,000', 'text_3': None}, {'text': 'Mexico', 'bottom': 378.1965, 'text_1': '01,170', 'text_2': '1,100', 'text_3': None}, {'text': 'Netherlands', 'bottom': 389.17650000000003, 'text_1': '574', 'text_2': '750', 'text_3': None}, {'text': 'Norway', 'bottom': 400.1565, 'text_1': '420', 'text_2': '380', 'text_3': None}, {'text': 'Peru', 'bottom': 411.1965, 'text_1': '0460', 'text_2': '790', 'text_3': None}, {'text': 'Poland', 'bottom': 422.17650000000003, 'text_1': '250', 'text_2': '230', 'text_3': None}, {'text': 'Russia', 'bottom': 433.1565, 'text_1': '1,000', 'text_2': '1,000', 'text_3': None}, {'text': 'Uzbekistan', 'bottom': 444.1965, 'text_1': '220', 'text_2': '220', 'text_3': None}, {'text': 'World total (rounded)', 'bottom': 455.17650000000003, 'text_1': '22,600', 'text_2': '23,000', 'text_3': None}], {'bbox_top': 244.66751999999997, 'bbox_bottom': 455.17650000000003, 'bbox_start': 44.94, 'bbox_end': 538.837872}, 56]\n",
      "========================================\n",
      "\n",
      "[[{'text': None, 'bottom': 257.68751999999995, 'text_1': 'Mine production', 'text_2': 'Mine production', 'text_3': 'Reserves'}, {'text': None, 'bottom': 268.66751999999997, 'text_1': '2022', 'text_2': '2023', 'text_3': None}, {'text': 'United States', 'bottom': 279.1965, 'text_1': 'W', 'text_2': 'W', 'text_3': '250,000'}, {'text': 'Azerbaijan', 'bottom': 290.17650000000003, 'text_1': '170', 'text_2': '200', 'text_3': '170,000'}, {'text': 'Chile', 'bottom': 301.1565, 'text_1': '19,200', 'text_2': '19,000', 'text_3': '610,000'}, {'text': 'Indonesia', 'bottom': 312.1965, 'text_1': '429', 'text_2': '30', 'text_3': 'NA'}, {'text': 'Iran', 'bottom': 323.17650000000003, 'text_1': '700', 'text_2': '700', 'text_3': '40,000'}, {'text': 'Japan', 'bottom': 334.1565, 'text_1': '9,200', 'text_2': '9,000', 'text_3': '4,900,000'}, {'text': 'Russia', 'bottom': 345.1965, 'text_1': '3', 'text_2': '3', 'text_3': '120,000'}, {'text': 'Turkmenistan', 'bottom': 356.17650000000003, 'text_1': '770', 'text_2': '800', 'text_3': '70,000'}, {'text': 'World total (rounded)', 'bottom': 367.1565, 'text_1': '30,100', 'text_2': '30,000', 'text_3': '6,200,000'}], {'bbox_top': 244.66751999999997, 'bbox_bottom': 367.1565, 'bbox_start': 44.94, 'bbox_end': 530.516856}, 96]\n",
      "========================================\n",
      "\n",
      "[[{'text': None, 'bottom': 290.68752, 'text_1': 'Mine production', 'text_2': 'Mine production', 'text_3': 'Reserves', 'text_4': 'Reserves'}, {'text': None, 'bottom': 301.66751999999997, 'text_1': '2022', 'text_2': '2023e', 'text_3': 'Recoverable ore', 'text_4': 'K2O equivalent'}, {'text': 'United States', 'bottom': 312.1965, 'text_1': '430', 'text_2': '400', 'text_3': '970,000', 'text_4': '220,000'}, {'text': 'Belarus', 'bottom': 323.17650000000003, 'text_1': '4,000', 'text_2': '3,800', 'text_3': '3,300,000', 'text_4': '750,000'}, {'text': 'Brazil', 'bottom': 334.1565, 'text_1': 'e200', 'text_2': '200', 'text_3': '10,000', 'text_4': '2,300'}, {'text': 'Canada', 'bottom': 345.1965, 'text_1': '14,600', 'text_2': '13,000', 'text_3': '4,500,000', 'text_4': '1,100,000'}, {'text': 'Chile', 'bottom': 356.17650000000003, 'text_1': 'e600', 'text_2': '600', 'text_3': 'NA', 'text_4': '100,000'}, {'text': 'China', 'bottom': 367.1565, 'text_1': '6,000', 'text_2': '6,000', 'text_3': 'NA', 'text_4': '180,000'}, {'text': 'Germany', 'bottom': 378.1965, 'text_1': '2,700', 'text_2': '2,600', 'text_3': 'NA', 'text_4': '150,000'}, {'text': 'Israel', 'bottom': 389.17650000000003, 'text_1': '2,450', 'text_2': '2,400', 'text_3': 'NA', 'text_4': 'Large'}, {'text': 'Jordan', 'bottom': 400.1565, 'text_1': '1,640', 'text_2': '1,800', 'text_3': 'NA', 'text_4': '6Large'}, {'text': 'Laos', 'bottom': 411.1965, 'text_1': 'e700', 'text_2': '1,400', 'text_3': '1,000,000', 'text_4': '75,000'}, {'text': 'Russia', 'bottom': 422.17650000000003, 'text_1': '6,800', 'text_2': '6,500', 'text_3': 'NA', 'text_4': '650,000'}, {'text': 'Spain', 'bottom': 433.1565, 'text_1': 'e420', 'text_2': '250', 'text_3': 'NA', 'text_4': '68,000'}, {'text': 'Other countries', 'bottom': 444.1965, 'text_1': '400', 'text_2': '400', 'text_3': '1,500,000', 'text_4': '300,000'}, {'text': 'World total (rounded)', 'bottom': 455.17650000000003, 'text_1': '40,900', 'text_2': '39,000', 'text_3': '>11,000,000', 'text_4': '>3,600,000'}], {'bbox_top': 277.66752, 'bbox_bottom': 455.17650000000003, 'bbox_start': 44.94, 'bbox_end': 544.2573299999999}, 142]\n",
      "========================================\n",
      "\n",
      "[[{'text': None, 'bottom': 290.68752, 'text_1': 'Mine production', 'text_2': 'Mine production', 'text_3': 'Reserves'}, {'text': None, 'bottom': 301.66751999999997, 'text_1': '2022', 'text_2': '2023', 'text_3': None}, {'text': 'United States', 'bottom': 312.1965, 'text_1': '—', 'text_2': '—', 'text_3': '—'}, {'text': 'Australia', 'bottom': 323.17650000000003, 'text_1': '9,000', 'text_2': '9,100', 'text_3': '620,000'}, {'text': 'Bolivia', 'bottom': 334.1565, 'text_1': '17,600', 'text_2': '18,000', 'text_3': '400,000'}, {'text': 'Brazil', 'bottom': 345.1965, 'text_1': '17,000', 'text_2': '18,000', 'text_3': '420,000'}, {'text': 'Burma', 'bottom': 356.17650000000003, 'text_1': '47,000', 'text_2': '54,000', 'text_3': '700,000'}, {'text': 'China', 'bottom': 367.1565, 'text_1': '71,000', 'text_2': '68,000', 'text_3': '1,100,000'}, {'text': 'Congo (Kinshasa)', 'bottom': 378.1965, 'text_1': '18,600', 'text_2': '19,000', 'text_3': '120,000'}, {'text': 'Indonesia', 'bottom': 389.17650000000003, 'text_1': '70,000', 'text_2': '52,000', 'text_3': 'NA'}, {'text': 'Laos', 'bottom': 400.1565, 'text_1': '2,510', 'text_2': '2,300', 'text_3': 'NA'}, {'text': 'Malaysia', 'bottom': 411.1965, 'text_1': '5,000', 'text_2': '6,100', 'text_3': 'NA'}, {'text': 'Nigeria', 'bottom': 422.17650000000003, 'text_1': '7,000', 'text_2': '8,100', 'text_3': 'NA'}, {'text': 'Peru', 'bottom': 433.1565, 'text_1': '28,200', 'text_2': '23,000', 'text_3': '130,000'}, {'text': 'Russia', 'bottom': 444.1965, 'text_1': 'e3,700', 'text_2': '2,700', 'text_3': '460,000'}, {'text': 'Rwanda', 'bottom': 455.17650000000003, 'text_1': '3,300', 'text_2': '3,800', 'text_3': 'NA'}, {'text': 'Vietnam', 'bottom': 466.1565, 'text_1': '5,900', 'text_2': '5,300', 'text_3': '11,000'}, {'text': 'Other countries', 'bottom': 477.1965, 'text_1': '1,160', 'text_2': '1,300', 'text_3': '310,000'}, {'text': 'World total (rounded)', 'bottom': 488.17650000000003, 'text_1': '307,000', 'text_2': '290,000', 'text_3': '4,300,000'}], {'bbox_top': 277.66752, 'bbox_bottom': 488.17650000000003, 'bbox_start': 46.26, 'bbox_end': 526.0173299999999}, 188]\n",
      "========================================\n",
      "\n",
      "[[{'text': None, 'bottom': 367.66751999999997, 'text_1': 'Cement production', 'text_2': 'Cement production', 'text_3': 'Clinker capacity', 'text_4': 'Clinker capacity'}, {'text': None, 'bottom': 378.70752, 'text_1': '2022', 'text_2': '2023', 'text_3': '2022', 'text_4': '2023'}, {'text': 'United States (includes Puerto Rico)', 'bottom': 389.17650000000003, 'text_1': '93,000', 'text_2': '91,000', 'text_3': '100,000', 'text_4': '100,000'}, {'text': 'Brazil', 'bottom': 400.1565, 'text_1': '64,000', 'text_2': '63,000', 'text_3': '60,000', 'text_4': '60,000'}, {'text': 'China', 'bottom': 411.1965, 'text_1': '2,100,000', 'text_2': '2,100,000', 'text_3': '2,000,000', 'text_4': '2,000,000'}, {'text': 'Egypt', 'bottom': 422.17650000000003, 'text_1': '46,000', 'text_2': '50,000', 'text_3': '60,000', 'text_4': '60,000'}, {'text': 'India', 'bottom': 433.1565, 'text_1': '380,000', 'text_2': '410,000', 'text_3': '290,000', 'text_4': '300,000'}, {'text': 'Indonesia', 'bottom': 444.1965, 'text_1': '64,000', 'text_2': '62,000', 'text_3': '79,000', 'text_4': '79,000'}, {'text': 'Iran', 'bottom': 455.17650000000003, 'text_1': '59,000', 'text_2': '65,000', 'text_3': '81,000', 'text_4': '81,000'}, {'text': 'Japan', 'bottom': 466.1565, 'text_1': '53,000', 'text_2': '50,000', 'text_3': '54,000', 'text_4': '54,000'}, {'text': 'Korea, Republic of', 'bottom': 477.1965, 'text_1': '51,000', 'text_2': '50,000', 'text_3': '62,000', 'text_4': '62,000'}, {'text': 'Mexico', 'bottom': 488.17650000000003, 'text_1': '50,000', 'text_2': '50,000', 'text_3': '42,000', 'text_4': '42,000'}, {'text': 'Russia', 'bottom': 499.1565, 'text_1': '61,000', 'text_2': '57,000', 'text_3': '80,000', 'text_4': '80,000'}, {'text': 'Saudi Arabia', 'bottom': 510.1965, 'text_1': '52,000', 'text_2': '53,000', 'text_3': '75,000', 'text_4': '75,000'}, {'text': 'Turkey', 'bottom': 521.1765, 'text_1': '74,000', 'text_2': '79,000', 'text_3': '92,000', 'text_4': '92,000'}, {'text': 'Vietnam', 'bottom': 532.1565, 'text_1': '120,000', 'text_2': '110,000', 'text_3': '100,000', 'text_4': '110,000'}, {'text': 'Other countries (rounded)', 'bottom': 543.1965, 'text_1': '850,000', 'text_2': '850,000', 'text_3': '600,000', 'text_4': '600,000'}, {'text': 'World total (rounded)', 'bottom': 554.1765, 'text_1': '4,100,000', 'text_2': '4,100,000', 'text_3': '3,800,000', 'text_4': '3,800,000'}], {'bbox_top': 354.64752, 'bbox_bottom': 554.1765, 'bbox_start': 46.26, 'bbox_end': 540.05733}, 58]\n",
      "========================================\n",
      "\n",
      "[[{'text': None, 'bottom': 325.66751999999997, 'text_1': 'Pig iron', 'text_2': 'Pig iron', 'text_3': 'Raw steel', 'text_4': 'Raw steel'}, {'text': None, 'bottom': 336.70752, 'text_1': '2022', 'text_2': '2023', 'text_3': '2022', 'text_4': '2023'}, {'text': 'United States', 'bottom': 347.17650000000003, 'text_1': '19.8', 'text_2': '21', 'text_3': '80.5', 'text_4': '80'}, {'text': 'Brazil', 'bottom': 358.1565, 'text_1': '27', 'text_2': '26', 'text_3': '34', 'text_4': '34'}, {'text': 'Canada', 'bottom': 369.1965, 'text_1': '6', 'text_2': '6', 'text_3': '12', 'text_4': '12'}, {'text': 'China', 'bottom': 380.17650000000003, 'text_1': '866', 'text_2': '890', 'text_3': '1,020', 'text_4': '1,000'}, {'text': 'Germany', 'bottom': 391.1565, 'text_1': '24', 'text_2': '22', 'text_3': '37', 'text_4': '33'}, {'text': 'India', 'bottom': 402.1965, 'text_1': '80', 'text_2': '87', 'text_3': '125', 'text_4': '140'}, {'text': 'Iran', 'bottom': 413.17650000000003, 'text_1': '3', 'text_2': '2', 'text_3': '30', 'text_4': '30'}, {'text': 'Italy', 'bottom': 424.1565, 'text_1': '3', 'text_2': '3', 'text_3': '22', 'text_4': '20'}, {'text': 'Japan', 'bottom': 435.1965, 'text_1': '64', 'text_2': '63', 'text_3': '89', 'text_4': '87'}, {'text': 'Korea, Republic of', 'bottom': 446.17650000000003, 'text_1': '42', 'text_2': '44', 'text_3': '66', 'text_4': '68'}, {'text': 'Mexico', 'bottom': 457.1565, 'text_1': '2', 'text_2': '2', 'text_3': '18', 'text_4': '20'}, {'text': 'Russia', 'bottom': 468.1965, 'text_1': '52', 'text_2': '54', 'text_3': '72', 'text_4': '75'}, {'text': 'Taiwan', 'bottom': 479.17650000000003, 'text_1': '13', 'text_2': '14', 'text_3': '21', 'text_4': '21'}, {'text': 'Turkey', 'bottom': 490.1565, 'text_1': '9', 'text_2': '11', 'text_3': '35', 'text_4': '42'}, {'text': 'Ukraine', 'bottom': 501.1965, 'text_1': '6', 'text_2': '7', 'text_3': '6', 'text_4': '7'}, {'text': 'Vietnam', 'bottom': 512.1765, 'text_1': '12', 'text_2': '13', 'text_3': '20', 'text_4': '21'}, {'text': 'Other countries', 'bottom': 523.1565, 'text_1': '67', 'text_2': '63', 'text_3': '195', 'text_4': '180'}, {'text': 'World total (rounded)', 'bottom': 534.1965, 'text_1': '1,300', 'text_2': '1,300', 'text_3': '1,880', 'text_4': '1,900'}], {'bbox_top': 312.64752, 'bbox_bottom': 534.1965, 'bbox_start': 46.26, 'bbox_end': 503.52288000000004}, 98]\n",
      "========================================\n",
      "\n",
      "[[{'text': None, 'bottom': 180.70752000000005, 'text_1': 'Mine production', 'text_2': 'Mine production', 'text_3': 'Reserves'}, {'text': None, 'bottom': 191.68751999999995, 'text_1': '2022', 'text_2': '2023', 'text_3': None}, {'text': 'United States', 'bottom': 202.15649999999994, 'text_1': '5295', 'text_2': '310', 'text_3': 'Large in the United States.'}, {'text': 'Algeria', 'bottom': 213.19650000000001, 'text_1': '900', 'text_2': '900', 'text_3': 'Quantitative estimates of'}, {'text': 'Cameroon', 'bottom': 224.17649999999992, 'text_1': '280', 'text_2': '280', 'text_3': 'reserves for most countries'}, {'text': 'Chile6', 'bottom': 235.15649999999994, 'text_1': '720', 'text_2': '720', 'text_3': 'were not available.'}, {'text': 'Ecuador', 'bottom': 246.19650000000001, 'text_1': '800', 'text_2': '800', 'text_3': None}, {'text': 'Ethiopia', 'bottom': 257.1764999999999, 'text_1': '510', 'text_2': '510', 'text_3': None}, {'text': 'France', 'bottom': 268.15649999999994, 'text_1': '280', 'text_2': '200', 'text_3': None}, {'text': 'Greece6', 'bottom': 279.1965, 'text_1': '1,010', 'text_2': '1,000', 'text_3': None}, {'text': 'Guadeloupe', 'bottom': 290.17650000000003, 'text_1': '200', 'text_2': '200', 'text_3': None}, {'text': 'Guatemala', 'bottom': 301.1565, 'text_1': '570', 'text_2': '570', 'text_3': None}, {'text': 'Indonesia', 'bottom': 312.1965, 'text_1': '200', 'text_2': '200', 'text_3': None}, {'text': 'Saudi Arabia', 'bottom': 323.17650000000003, 'text_1': '980', 'text_2': '980', 'text_3': None}, {'text': 'Spain', 'bottom': 334.1565, 'text_1': '240', 'text_2': '240', 'text_3': None}, {'text': 'Syria6', 'bottom': 345.1965, 'text_1': '200', 'text_2': '200', 'text_3': None}, {'text': 'Tanzania', 'bottom': 356.17650000000003, 'text_1': '220', 'text_2': '230', 'text_3': None}, {'text': 'Turkey', 'bottom': 367.1565, 'text_1': '8,700', 'text_2': '8,700', 'text_3': None}, {'text': 'Uganda', 'bottom': 378.1965, 'text_1': '1,300', 'text_2': '1,500', 'text_3': None}, {'text': 'Other countries', 'bottom': 389.17650000000003, 'text_1': '750', 'text_2': '700', 'text_3': None}, {'text': 'World total (rounded)', 'bottom': 400.1565, 'text_1': '18,200', 'text_2': '18,000', 'text_3': None}], {'bbox_top': 167.68752000000006, 'bbox_bottom': 400.1565, 'bbox_start': 46.26, 'bbox_end': 510.15667199999996}, 144]\n",
      "========================================\n",
      "\n",
      "[[{'text': None, 'bottom': 353.08752, 'text_1': 'Sponge production', 'text_2': 'Sponge production', 'text_3': 'Capacity, 2023', 'text_4': 'Capacity, 2023'}, {'text': None, 'bottom': 364.06752, 'text_1': '2022', 'text_2': '2023', 'text_3': 'Sponge', 'text_4': 'Pigment'}, {'text': 'United States', 'bottom': 374.5965, 'text_1': 'W', 'text_2': 'W', 'text_3': '500', 'text_4': '1,360,000'}, {'text': 'Australia', 'bottom': 385.5765, 'text_1': '—', 'text_2': '—', 'text_3': '—', 'text_4': '260,000'}, {'text': 'Canada', 'bottom': 396.5565, 'text_1': '—', 'text_2': '—', 'text_3': '—', 'text_4': '108,000'}, {'text': 'China', 'bottom': 407.5965, 'text_1': '180,000', 'text_2': '220,000', 'text_3': '260,000', 'text_4': '5,500,000'}, {'text': 'Germany', 'bottom': 418.5765, 'text_1': '—', 'text_2': '—', 'text_3': '—', 'text_4': '339,000'}, {'text': 'India', 'bottom': 429.5565, 'text_1': '300', 'text_2': '300', 'text_3': '500', 'text_4': '91,000'}, {'text': 'Japan', 'bottom': 440.5965, 'text_1': '47,000', 'text_2': '60,000', 'text_3': '65,200', 'text_4': '322,000'}, {'text': 'Kazakhstan', 'bottom': 451.5765, 'text_1': '15,000', 'text_2': '14,000', 'text_3': '26,000', 'text_4': '—'}, {'text': 'Mexico', 'bottom': 462.5565, 'text_1': '—', 'text_2': '—', 'text_3': '—', 'text_4': '350,000'}, {'text': 'Russia', 'bottom': 473.5965, 'text_1': '20,000', 'text_2': '20,000', 'text_3': '46,500', 'text_4': '55,000'}, {'text': 'Saudi Arabia', 'bottom': 484.5765, 'text_1': '9,700', 'text_2': '12,000', 'text_3': '15,600', 'text_4': '200,000'}, {'text': 'Ukraine', 'bottom': 495.5565, 'text_1': '1,000', 'text_2': '—', 'text_3': '—', 'text_4': '122,000'}, {'text': 'United Kingdom', 'bottom': 506.5965, 'text_1': '—', 'text_2': '—', 'text_3': '—', 'text_4': '315,000'}, {'text': 'Other countries', 'bottom': 517.5765, 'text_1': '—', 'text_2': '—', 'text_3': '—', 'text_4': '820,000'}, {'text': 'World total (rounded)', 'bottom': 528.5565, 'text_1': '270,000', 'text_2': '330,000', 'text_3': '410,000', 'text_4': '9,800,000'}], {'bbox_top': 340.06752, 'bbox_bottom': 528.5565, 'bbox_start': 46.26, 'bbox_end': 530.5162079999999}, 190]\n",
      "========================================\n",
      "\n",
      "[[{'text': None, 'bottom': 103.66751999999997, 'text_1': 'Mine production', 'text_2': 'Mine production', 'text_3': 'Reserves'}, {'text': None, 'bottom': 114.70752000000005, 'text_1': '2022', 'text_2': '2023', 'text_3': None}, {'text': 'Ilmenite:', 'bottom': 125.17649999999992, 'text_1': None, 'text_2': None, 'text_3': None}, {'text': 'United States2', 'bottom': 136.15649999999994, 'text_1': '200', 'text_2': '200', 'text_3': '2,000'}, {'text': 'Australia', 'bottom': 147.19650000000001, 'text_1': '400', 'text_2': '400', 'text_3': '0180,000'}, {'text': 'Brazil', 'bottom': 158.17649999999992, 'text_1': '28', 'text_2': '54', 'text_3': '43,000'}, {'text': 'Canada1', 'bottom': 169.15649999999994, 'text_1': '520', 'text_2': '500', 'text_3': '52,000'}, {'text': 'China', 'bottom': 180.19650000000001, 'text_1': '3,140', 'text_2': '3,100', 'text_3': '210,000'}, {'text': 'India', 'bottom': 191.17649999999992, 'text_1': '210', 'text_2': '210', 'text_3': '85,000'}, {'text': 'Kenya', 'bottom': 202.15649999999994, 'text_1': '190', 'text_2': '140', 'text_3': '130'}, {'text': 'Madagascar1', 'bottom': 213.19650000000001, 'text_1': '320', 'text_2': '320', 'text_3': '27,000'}, {'text': 'Mozambique', 'bottom': 224.17649999999992, 'text_1': '1,400', 'text_2': '1,600', 'text_3': '22,000'}, {'text': 'Norway', 'bottom': 235.15649999999994, 'text_1': '410', 'text_2': '430', 'text_3': '37,000'}, {'text': 'Senegal', 'bottom': 246.19650000000001, 'text_1': '410', 'text_2': '340', 'text_3': 'NA'}, {'text': 'South Africa1', 'bottom': 257.1764999999999, 'text_1': '1,100', 'text_2': '1,000', 'text_3': '28,000'}, {'text': 'Ukraine', 'bottom': 268.15649999999994, 'text_1': '190', 'text_2': '60', 'text_3': '5,900'}, {'text': 'Vietnam', 'bottom': 279.1965, 'text_1': '170', 'text_2': '140', 'text_3': '1,600'}, {'text': 'Other countries', 'bottom': 290.17650000000003, 'text_1': '110', 'text_2': '110', 'text_3': '1,200'}, {'text': 'World total (ilmenite, rounded)', 'bottom': 301.1565, 'text_1': '8,800', 'text_2': '8,600', 'text_3': '690,000'}, {'text': 'Rutile:', 'bottom': 312.1965, 'text_1': None, 'text_2': None, 'text_3': None}, {'text': 'United States', 'bottom': 323.17650000000003, 'text_1': '(9)', 'text_2': '(9)', 'text_3': '(9)'}, {'text': 'Australia', 'bottom': 334.1565, 'text_1': '200', 'text_2': '200', 'text_3': '035,000'}, {'text': 'India', 'bottom': 345.1965, 'text_1': '13', 'text_2': '13', 'text_3': '7,400'}, {'text': 'Kenya', 'bottom': 356.17650000000003, 'text_1': '73', 'text_2': '58', 'text_3': '70'}, {'text': 'Madagascar', 'bottom': 367.1565, 'text_1': '—', 'text_2': '—', 'text_3': '520'}, {'text': 'Mozambique', 'bottom': 378.1965, 'text_1': '8', 'text_2': '9', 'text_3': '720'}, {'text': 'Senegal', 'bottom': 389.17650000000003, 'text_1': '9', 'text_2': '8', 'text_3': 'NA'}, {'text': 'Sierra Leone', 'bottom': 400.1565, 'text_1': '130', 'text_2': '110', 'text_3': '2,900'}, {'text': 'South Africa', 'bottom': 411.1965, 'text_1': '100', 'text_2': '100', 'text_3': '6,100'}, {'text': 'Ukraine', 'bottom': 422.17650000000003, 'text_1': '95', 'text_2': '50', 'text_3': '2,500'}, {'text': 'Other countries', 'bottom': 433.1565, 'text_1': '10', 'text_2': '10', 'text_3': '20'}, {'text': 'World total (rutile, rounded)', 'bottom': 444.1965, 'text_1': '640', 'text_2': '560', 'text_3': '55,000'}, {'text': 'World total (ilmenite and rutile, rounded)', 'bottom': 455.17650000000003, 'text_1': '9,400', 'text_2': '9,200', 'text_3': '750,000'}], {'bbox_top': 90.64751999999999, 'bbox_bottom': 455.17650000000003, 'bbox_start': 44.94, 'bbox_end': 518.275188}, 192]\n",
      "========================================\n",
      "\n",
      "[[{'text': None, 'bottom': 213.70752000000005, 'text_1': 'Mine production', 'text_2': 'Mine production', 'text_3': 'Mine production', 'text_4': 'Mine production', 'text_5': 'Reserves', 'text_6': 'Reserves'}, {'text': None, 'bottom': 224.68751999999995, 'text_1': 'Usable ore', 'text_2': 'Iron content', 'text_3': 'Iron content', 'text_4': 'Iron content', 'text_5': '(million metric tons)', 'text_6': '(million metric tons)'}, {'text': None, 'bottom': 235.66751999999997, 'text_1': '2022', 'text_2': '2023', 'text_3': '2022', 'text_4': '2023', 'text_5': 'Crude ore', 'text_6': 'Iron content'}, {'text': 'United States', 'bottom': 246.19650000000001, 'text_1': '39,000', 'text_2': '44,000', 'text_3': '24,700', 'text_4': '28,000', 'text_5': '3,100', 'text_6': '1,300'}, {'text': 'Australia', 'bottom': 257.1764999999999, 'text_1': '944,000', 'text_2': '960,000', 'text_3': '584,000', 'text_4': '590,000', 'text_5': '58,000', 'text_6': '27,000'}, {'text': 'Brazil', 'bottom': 268.15649999999994, 'text_1': '435,000', 'text_2': '440,000', 'text_3': '276,000', 'text_4': '280,000', 'text_5': '34,000', 'text_6': '15,000'}, {'text': 'Canada', 'bottom': 279.1965, 'text_1': '69,000', 'text_2': '70,000', 'text_3': '41,400', 'text_4': '42,000', 'text_5': '6,000', 'text_6': '2,300'}, {'text': 'Chile', 'bottom': 290.17650000000003, 'text_1': '17,700', 'text_2': '18,000', 'text_3': '11,100', 'text_4': '11,000', 'text_5': 'NA', 'text_6': 'NA'}, {'text': 'China', 'bottom': 301.1565, 'text_1': '272,000', 'text_2': '280,000', 'text_3': '170,000', 'text_4': '170,000', 'text_5': '20,000', 'text_6': '6,900'}, {'text': 'India', 'bottom': 312.1965, 'text_1': '251,000', 'text_2': '270,000', 'text_3': '156,000', 'text_4': '170,000', 'text_5': '5,500', 'text_6': '3,400'}, {'text': 'Iran', 'bottom': 323.17650000000003, 'text_1': '78,300', 'text_2': '77,000', 'text_3': '51,300', 'text_4': '50,000', 'text_5': '3,300', 'text_6': '1,500'}, {'text': 'Kazakhstan', 'bottom': 334.1565, 'text_1': '53,600', 'text_2': '53,000', 'text_3': '8,890', 'text_4': '8,800', 'text_5': '2,500', 'text_6': '900'}, {'text': 'Mauritania', 'bottom': 345.1965, 'text_1': '12,700', 'text_2': '13,000', 'text_3': '7,950', 'text_4': '8,100', 'text_5': 'NA', 'text_6': 'NA'}, {'text': 'Mexico', 'bottom': 356.17650000000003, 'text_1': '10,800', 'text_2': '12,000', 'text_3': '6,800', 'text_4': '7,600', 'text_5': 'NA', 'text_6': 'NA'}, {'text': 'Peru', 'bottom': 367.1565, 'text_1': '19,300', 'text_2': '19,000', 'text_3': '12,900', 'text_4': '13,000', 'text_5': '2,600', 'text_6': '1,200'}, {'text': 'Russia', 'bottom': 378.1965, 'text_1': '84,200', 'text_2': '88,000', 'text_3': '55,800', 'text_4': '58,000', 'text_5': '29,000', 'text_6': '14,000'}, {'text': 'South Africa', 'bottom': 389.17650000000003, 'text_1': '63,700', 'text_2': '61,000', 'text_3': '40,500', 'text_4': '39,000', 'text_5': '990', 'text_6': '620'}, {'text': 'Sweden', 'bottom': 400.1565, 'text_1': '38,900', 'text_2': '38,000', 'text_3': '27,700', 'text_4': '27,000', 'text_5': '1,300', 'text_6': '600'}, {'text': 'Turkey', 'bottom': 411.1965, 'text_1': '17,700', 'text_2': '17,000', 'text_3': '10,700', 'text_4': '10,000', 'text_5': '152', 'text_6': '99'}, {'text': 'Ukraine', 'bottom': 422.17650000000003, 'text_1': '34,100', 'text_2': '36,000', 'text_3': '21,300', 'text_4': '22,000', 'text_5': '6,500', 'text_6': '2,300'}, {'text': 'Other countries', 'bottom': 433.1565, 'text_1': '57,200', 'text_2': '48,000', 'text_3': '32,200', 'text_4': '27,000', 'text_5': '18,000', 'text_6': '9,500'}, {'text': 'World total (rounded)', 'bottom': 444.1965, 'text_1': '2,500,000', 'text_2': '2,500,000', 'text_3': '1,540,000', 'text_4': '1,500,000', 'text_5': '190,000', 'text_6': '87,000'}], {'bbox_top': 200.68752000000006, 'bbox_bottom': 444.1965, 'bbox_start': 44.94, 'bbox_end': 556.495188}, 104]\n",
      "========================================\n",
      "\n",
      "[[{'text': None, 'bottom': 226.18751999999995, 'text_1': 'Mine production', 'text_2': 'Mine production', 'text_3': 'Reserves1'}, {'text': None, 'bottom': 237.16751999999997, 'text_1': '2022', 'text_2': '2023', 'text_3': None}, {'text': 'United States', 'bottom': 247.69650000000001, 'text_1': '—', 'text_2': '—', 'text_3': 'NA'}, {'text': 'Australia', 'bottom': 258.6764999999999, 'text_1': '200', 'text_2': '800', 'text_3': '1570,000'}, {'text': 'Austria', 'bottom': 269.65649999999994, 'text_1': '910', 'text_2': '910', 'text_3': '10,000'}, {'text': 'Bolivia', 'bottom': 280.69650000000007, 'text_1': '1,360', 'text_2': '1,500', 'text_3': 'NA'}, {'text': 'China', 'bottom': 291.67650000000003, 'text_1': '66,000', 'text_2': '63,000', 'text_3': '2,300,000'}, {'text': 'Korea, North', 'bottom': 302.6565, 'text_1': '1,520', 'text_2': '1,700', 'text_3': '29,000'}, {'text': 'Portugal', 'bottom': 313.6965, 'text_1': '500', 'text_2': '500', 'text_3': '4,000'}, {'text': 'Russia', 'bottom': 324.67650000000003, 'text_1': '2,000', 'text_2': '2,000', 'text_3': '400,000'}, {'text': 'Rwanda', 'bottom': 335.6565, 'text_1': '1,400', 'text_2': '1,400', 'text_3': 'NA'}, {'text': 'Spain', 'bottom': 346.6965, 'text_1': '800', 'text_2': '1,500', 'text_3': '66,000'}, {'text': 'Vietnam', 'bottom': 357.67650000000003, 'text_1': '4,000', 'text_2': '3,500', 'text_3': '74,000'}, {'text': 'Other countries', 'bottom': 368.6565, 'text_1': '1,080', 'text_2': '1,100', 'text_3': '950,000'}, {'text': 'World total (rounded)', 'bottom': 379.6965, 'text_1': '79,800', 'text_2': '78,000', 'text_3': '4,400,000'}], {'bbox_top': 213.16751999999997, 'bbox_bottom': 379.6965, 'bbox_start': 44.94, 'bbox_end': 499.01732999999996}, 194]\n",
      "========================================\n",
      "\n",
      "[[{'text': None, 'bottom': 257.68751999999995, 'text_1': 'Mine production1', 'text_2': 'Mine production1', 'text_3': 'Reserves1'}, {'text': None, 'bottom': 268.66751999999997, 'text_1': '2022', 'text_2': '2023', 'text_3': '(shipping grade)1'}, {'text': 'United States', 'bottom': 279.1965, 'text_1': '—', 'text_2': '—', 'text_3': '630'}, {'text': 'Finland', 'bottom': 290.17650000000003, 'text_1': '2,000', 'text_2': '2,000', 'text_3': '8,300'}, {'text': 'Indiae', 'bottom': 301.1565, 'text_1': '4,000', 'text_2': '4,200', 'text_3': '79,000'}, {'text': 'Kazakhstan', 'bottom': 312.1965, 'text_1': '6,000', 'text_2': '6,000', 'text_3': '230,000'}, {'text': 'South Africa', 'bottom': 323.17650000000003, 'text_1': '19,100', 'text_2': '18,000', 'text_3': '200,000'}, {'text': 'Turkey', 'bottom': 334.1565, 'text_1': '5,410', 'text_2': '6,000', 'text_3': '27,000'}, {'text': 'Other countries', 'bottom': 345.1965, 'text_1': '5,380', 'text_2': '5,200', 'text_3': 'NA'}, {'text': 'World total (rounded)', 'bottom': 356.17650000000003, 'text_1': '41,900', 'text_2': '41,000', 'text_3': '560,000'}], {'bbox_top': 244.66751999999997, 'bbox_bottom': 356.17650000000003, 'bbox_start': 44.94, 'bbox_end': 502.203168}, 62]\n",
      "========================================\n",
      "\n",
      "[[{'text': 'Mine production1', 'bottom': 257.68751999999995, 'text_1': 'Mine production1', 'text_2': None, 'text_3': 'Reserves1'}, {'text': '2022', 'bottom': 268.66751999999997, 'text_1': '2023', 'text_2': None, 'text_3': '(shipping grade)1'}, {'text': '—', 'bottom': 279.1965, 'text_1': '—', 'text_2': 'United States', 'text_3': '630'}, {'text': '2,000', 'bottom': 290.17650000000003, 'text_1': '2,000', 'text_2': 'Finland', 'text_3': '8,300'}, {'text': '4,000', 'bottom': 301.1565, 'text_1': '4,200', 'text_2': 'Indiae', 'text_3': '79,000'}, {'text': '6,000', 'bottom': 312.1965, 'text_1': '6,000', 'text_2': 'Kazakhstan', 'text_3': '230,000'}, {'text': '19,100', 'bottom': 323.17650000000003, 'text_1': '18,000', 'text_2': 'South Africa', 'text_3': '200,000'}, {'text': '5,410', 'bottom': 334.1565, 'text_1': '6,000', 'text_2': 'Turkey', 'text_3': '27,000'}, {'text': '5,380', 'bottom': 345.1965, 'text_1': '5,200', 'text_2': 'Other countries', 'text_3': 'NA'}, {'text': '41,900', 'bottom': 356.17650000000003, 'text_1': '41,000', 'text_2': 'World total (rounded)', 'text_3': '560,000'}, {'text': 'World resources are greater than 12 billion tons of shipping-grade chromite, sufficient to meet', 'bottom': 378.1365, 'text_1': 'World resources are greater than 12 billion tons of shipping-grade chromite, sufficient to meet', 'text_2': 'World Resources:1', 'text_3': None}, {'text': 'conceivable demand for centuries. World chromium resources are heavily geographically concentrated (95%) in', 'bottom': 389.17650000000003, 'text_1': 'conceivable demand for centuries. World chromium resources are heavily geographically concentrated (95%) in', 'text_2': None, 'text_3': None}, {'text': 'Kazakhstan and southern Africa; United States chromium resources are mostly in the Stillwater Complex in Montana.', 'bottom': 400.15842000000004, 'text_1': 'Kazakhstan and southern Africa; United States chromium resources are mostly in the Stillwater Complex in Montana.', 'text_2': None, 'text_3': None}, {'text': 'Chromium has no substitute in stainless steel, the leading end use, or in superalloys, the major strategic', 'bottom': 422.18238, 'text_1': 'Chromium has no substitute in stainless steel, the leading end use, or in superalloys, the major strategic', 'text_2': None, 'text_3': None}, {'text': 'Substitutes:', 'bottom': 422.6934, 'text_1': 'Substitutes:', 'text_2': None, 'text_3': None}, {'text': 'end use. Chromium-containing scrap can substitute for ferrochromium in some metallurgical uses.', 'bottom': 433.1565, 'text_1': 'end use. Chromium-containing scrap can substitute for ferrochromium in some metallurgical uses.', 'text_2': None, 'text_3': None}, {'text': 'Estimated. NA Not available. — Zero.', 'bottom': 522.4935, 'text_1': 'Estimated. NA Not available. — Zero.', 'text_2': None, 'text_3': None}, {'text': 'Secondary production is based on reported receipts of all types of stainless-steel scrap.', 'bottom': 533.5335, 'text_1': 'Secondary production is based on reported receipts of all types of stainless-steel scrap.', 'text_2': None, 'text_3': None}, {'text': 'Includes chromium chemicals, chromium metal, chromite ores, ferrochromium, ferrosilicon chromium, and stainless-steel products and scrap.', 'bottom': 544.5135, 'text_1': 'Includes chromium chemicals, chromium metal, chromite ores, ferrochromium, ferrosilicon chromium, and stainless-steel products and scrap.', 'text_2': None, 'text_3': None}, {'text': 'Defined as change in total inventory from prior yearend inventory. Beginning in 2023, Government stock changes no longer available.', 'bottom': 555.4935, 'text_1': 'Defined as change in total inventory from prior yearend inventory. Beginning in 2023, Government stock changes no longer available.', 'text_2': None, 'text_3': None}, {'text': 'Defined for 2019–22 as production (from mines and secondary) + imports – exports ± adjustments for Government and industry stock changes.', 'bottom': 566.5335, 'text_1': 'Defined for 2019–22 as production (from mines and secondary) + imports – exports ± adjustments for Government and industry stock changes.', 'text_2': None, 'text_3': None}, {'text': 'Beginning in 2023, Government stock changes no longer included.', 'bottom': 577.51398, 'text_1': 'Beginning in 2023, Government stock changes no longer included.', 'text_2': None, 'text_3': None}, {'text': 'Source: CRU Group.', 'bottom': 588.4935, 'text_1': 'Source: CRU Group.', 'text_2': None, 'text_3': None}, {'text': 'Excludes ferrosilicon chromium.', 'bottom': 599.5335, 'text_1': 'Excludes ferrosilicon chromium.', 'text_2': None, 'text_3': None}, {'text': 'Defined for 2019–22 as imports – exports ± adjustments for Government and industry stock changes. Beginning in 2023, Government stock', 'bottom': 610.5135, 'text_1': 'Defined for 2019–22 as imports – exports ± adjustments for Government and industry stock changes. Beginning in 2023, Government stock', 'text_2': None, 'text_3': None}, {'text': 'changes no longer included.', 'bottom': 621.49398, 'text_1': 'changes no longer included.', 'text_2': None, 'text_3': None}, {'text': 'Includes chromium metal scrap and stainless-steel scrap.', 'bottom': 632.5335, 'text_1': 'Includes chromium metal scrap and stainless-steel scrap.', 'text_2': None, 'text_3': None}, {'text': 'Includes chromium metal, ferrochromium, and stainless steel.', 'bottom': 643.5135, 'text_1': 'Includes chromium metal, ferrochromium, and stainless steel.', 'text_2': None, 'text_3': None}, {'text': '0Includes Hong Kong.', 'bottom': 654.4935, 'text_1': '0Includes Hong Kong.', 'text_2': None, 'text_3': None}, {'text': '1See Appendix B for definitions.', 'bottom': 665.5335, 'text_1': '1See Appendix B for definitions.', 'text_2': None, 'text_3': None}, {'text': '2Units are thousand metric tons, gross weight.', 'bottom': 676.5135, 'text_1': '2Units are thousand metric tons, gross weight.', 'text_2': None, 'text_3': None}, {'text': '3High-carbon and low-carbon ferrochromium, combined.', 'bottom': 687.4935, 'text_1': '3High-carbon and low-carbon ferrochromium, combined.', 'text_2': None, 'text_3': None}, {'text': '4Units are thousand metric tons, gross weight, of marketable chromite ore.', 'bottom': 698.5335, 'text_1': '4Units are thousand metric tons, gross weight, of marketable chromite ore.', 'text_2': None, 'text_3': None}, {'text': '5See Appendix C for resource and reserve definitions and information concerning data sources.', 'bottom': 709.5135, 'text_1': '5See Appendix C for resource and reserve definitions and information concerning data sources.', 'text_2': None, 'text_3': None}, {'text': '6Units are thousand metric tons of shipping-grade chromite ore, which is deposit quantity and grade normalized to 45% CrO,except for the', 'bottom': 720.4935, 'text_1': '6Units are thousand metric tons of shipping-grade chromite ore, which is deposit quantity and grade normalized to 45% CrO,except for the', 'text_2': None, 'text_3': None}, {'text': 'United States, where grade is normalized to 7%', 'bottom': 731.52984, 'text_1': 'United States, where grade is normalized to 7%', 'text_2': None, 'text_3': None}, {'text': 'CrO, and Finland, where grade is normalized to 26% CrO.', 'bottom': 731.5335, 'text_1': 'CrO, and Finland, where grade is normalized to 26% CrO.', 'text_2': None, 'text_3': None}], {'bbox_top': 244.66751999999997, 'bbox_bottom': 731.52984, 'bbox_start': 44.94, 'bbox_end': 565.5813659999994}, 62]\n",
      "========================================\n",
      "\n",
      "[[{'text': None, 'bottom': 301.66751999999997, 'text_1': 'Mine production', 'text_2': 'Mine production', 'text_3': 'Reserves'}, {'text': None, 'bottom': 312.70752, 'text_1': '2022', 'text_2': '2023', 'text_3': None}, {'text': 'United States', 'bottom': 323.17650000000003, 'text_1': 'W', 'text_2': 'W', 'text_3': 'Moderate'}, {'text': 'Cyprus (umber)', 'bottom': 334.1565, 'text_1': '3,500', 'text_2': '3,500', 'text_3': 'Moderate'}, {'text': 'France', 'bottom': 345.1965, 'text_1': '5,000', 'text_2': '5,100', 'text_3': 'NA'}, {'text': 'Germany', 'bottom': 356.17650000000003, 'text_1': '323,000', 'text_2': '330,000', 'text_3': 'Moderate'}, {'text': 'India (ocher)', 'bottom': 367.1565, 'text_1': '3,100,000', 'text_2': '3,200,000', 'text_3': '37,000,000'}, {'text': 'Italy', 'bottom': 378.1965, 'text_1': '30,000', 'text_2': '31,000', 'text_3': 'NA'}, {'text': 'Pakistan (ocher)', 'bottom': 389.17650000000003, 'text_1': '100,000', 'text_2': '110,000', 'text_3': 'Large'}, {'text': 'Spain (ocher and red iron oxide)', 'bottom': 400.1565, 'text_1': '12,000', 'text_2': '13,000', 'text_3': 'Large'}, {'text': 'World total (rounded)', 'bottom': 411.1965, 'text_1': '7NA', 'text_2': '7NA', 'text_3': 'Large'}], {'bbox_top': 288.64752, 'bbox_bottom': 411.1965, 'bbox_start': 44.94, 'bbox_end': 535.0179959999999}, 106]\n",
      "========================================\n",
      "\n",
      "[[{'text': None, 'bottom': 290.68752, 'text_1': 'Mine production', 'text_2': 'Mine production', 'text_3': 'Reserves'}, {'text': None, 'bottom': 301.66751999999997, 'text_1': '2022', 'text_2': '2023', 'text_3': None}, {'text': 'United States', 'bottom': 312.1965, 'text_1': '42,000', 'text_2': '43,000', 'text_3': '1,800,000'}, {'text': 'Australia', 'bottom': 323.17650000000003, 'text_1': '18,000', 'text_2': '18,000', 'text_3': '05,700,000'}, {'text': 'Brazil', 'bottom': 334.1565, 'text_1': '80', 'text_2': '80', 'text_3': '21,000,000'}, {'text': 'Burma', 'bottom': 345.1965, 'text_1': '12,000', 'text_2': '38,000', 'text_3': 'NA'}, {'text': 'Canada', 'bottom': 356.17650000000003, 'text_1': '—', 'text_2': '—', 'text_3': '830,000'}, {'text': 'China', 'bottom': 367.1565, 'text_1': '1210,000', 'text_2': '1240,000', 'text_3': '44,000,000'}, {'text': 'Greenland', 'bottom': 378.1965, 'text_1': '—', 'text_2': '—', 'text_3': '1,500,000'}, {'text': 'India', 'bottom': 389.17650000000003, 'text_1': '2,900', 'text_2': '2,900', 'text_3': '6,900,000'}, {'text': 'Madagascar', 'bottom': 400.1565, 'text_1': '960', 'text_2': '960', 'text_3': 'NA'}, {'text': 'Malaysia', 'bottom': 411.1965, 'text_1': '80', 'text_2': '80', 'text_3': 'NA'}, {'text': 'Russia', 'bottom': 422.17650000000003, 'text_1': '2,600', 'text_2': '2,600', 'text_3': '10,000,000'}, {'text': 'South Africa', 'bottom': 433.1565, 'text_1': '—', 'text_2': '—', 'text_3': '790,000'}, {'text': 'Tanzania', 'bottom': 444.1965, 'text_1': '—', 'text_2': '—', 'text_3': '890,000'}, {'text': 'Thailand', 'bottom': 455.17650000000003, 'text_1': '7,100', 'text_2': '7,100', 'text_3': '4,500'}, {'text': 'Vietnam', 'bottom': 466.1565, 'text_1': '1,200', 'text_2': '600', 'text_3': '22,000,000'}, {'text': 'World total (rounded)', 'bottom': 477.1965, 'text_1': '300,000', 'text_2': '350,000', 'text_3': '110,000,000'}], {'bbox_top': 277.66752, 'bbox_bottom': 477.1965, 'bbox_start': 44.94, 'bbox_end': 561.300138}, 148]\n",
      "========================================\n",
      "\n",
      "[[{'text': None, 'bottom': 301.66751999999997, 'text_1': 'Mine production', 'text_2': 'Mine production', 'text_3': 'Reserves1'}, {'text': None, 'bottom': 312.70752, 'text_1': '2022', 'text_2': '2023', 'text_3': '(thousand metric tons)'}, {'text': 'United States', 'bottom': 323.17650000000003, 'text_1': '—', 'text_2': '—', 'text_3': '45'}, {'text': 'Australia', 'bottom': 334.1565, 'text_1': '—', 'text_2': '—', 'text_3': '28,500'}, {'text': 'Brazil', 'bottom': 345.1965, 'text_1': '5,840', 'text_2': '6,400', 'text_3': '120'}, {'text': 'China', 'bottom': 356.17650000000003, 'text_1': '66,900', 'text_2': '68,000', 'text_3': '4,400'}, {'text': 'Russia', 'bottom': 367.1565, 'text_1': '20,000', 'text_2': '20,000', 'text_3': '5,000'}, {'text': 'South Africa', 'bottom': 378.1965, 'text_1': '8,870', 'text_2': '9,100', 'text_3': '750'}, {'text': 'World total (rounded)', 'bottom': 389.17650000000003, 'text_1': '102,000', 'text_2': '100,000', 'text_3': '19,000'}], {'bbox_top': 288.64752, 'bbox_bottom': 389.17650000000003, 'bbox_start': 46.26, 'bbox_end': 513.21882}, 196]\n",
      "========================================\n",
      "\n",
      "[[{'text': None, 'bottom': 378.70752, 'text_1': None, 'text_2': None, 'text_3': 'Mine production', 'text_4': 'Mine production', 'text_5': None, 'text_6': None}, {'text': None, 'bottom': 389.68752, 'text_1': 'Bentonite', 'text_2': 'Bentonite', 'text_3': 'Fuller’s earth', 'text_4': 'Fuller’s earth', 'text_5': 'Kaolin', 'text_6': 'Kaolin'}, {'text': None, 'bottom': 400.66751999999997, 'text_1': '2022', 'text_2': '2023', 'text_3': '2022', 'text_4': '2023', 'text_5': '2022', 'text_6': '2023'}, {'text': 'United States', 'bottom': 411.1965, 'text_1': '4,580', 'text_2': '4,700', 'text_3': '2,160', 'text_4': '2,300', 'text_5': '4,340', 'text_6': '4,400'}, {'text': 'Brazil (beneficiated)', 'bottom': 422.17650000000003, 'text_1': '220', 'text_2': '220', 'text_3': '—', 'text_4': '—', 'text_5': '1,200', 'text_6': '1,200'}, {'text': 'China', 'bottom': 433.1565, 'text_1': '2,100', 'text_2': '2,100', 'text_3': '—', 'text_4': '—', 'text_5': '8,400', 'text_6': '8,400'}, {'text': 'Czechia', 'bottom': 444.1965, 'text_1': '230', 'text_2': '230', 'text_3': '—', 'text_4': '—', 'text_5': '3,100', 'text_6': '3,100'}, {'text': 'Denmark', 'bottom': 455.17650000000003, 'text_1': '908', 'text_2': '900', 'text_3': '—', 'text_4': '—', 'text_5': '—', 'text_6': '—'}, {'text': 'Greece', 'bottom': 466.1565, 'text_1': '1,420', 'text_2': '1,400', 'text_3': '33', 'text_4': '30', 'text_5': '—', 'text_6': '—'}, {'text': 'India', 'bottom': 477.1965, 'text_1': '3,700', 'text_2': '3,700', 'text_3': '730', 'text_4': '730', 'text_5': '8,370', 'text_6': '8,400'}, {'text': 'Iran', 'bottom': 488.17650000000003, 'text_1': '850', 'text_2': '850', 'text_3': '—', 'text_4': '—', 'text_5': '2,100', 'text_6': '2,100'}, {'text': 'Mexico', 'bottom': 499.1565, 'text_1': '79', 'text_2': '80', 'text_3': '120', 'text_4': '120', 'text_5': '240', 'text_6': '240'}, {'text': 'Russia', 'bottom': 510.1965, 'text_1': '36', 'text_2': '40', 'text_3': '—', 'text_4': '—', 'text_5': '2,500', 'text_6': '2,500'}, {'text': 'Senegal', 'bottom': 521.1765, 'text_1': '—', 'text_2': '—', 'text_3': '117', 'text_4': '120', 'text_5': '—', 'text_6': '—'}, {'text': 'Spain', 'bottom': 532.1565, 'text_1': '170', 'text_2': '170', 'text_3': '570', 'text_4': '570', 'text_5': '300', 'text_6': '300'}, {'text': 'Turkey', 'bottom': 543.1965, 'text_1': '2,380', 'text_2': '2,400', 'text_3': '55', 'text_4': '60', 'text_5': '2,270', 'text_6': '2,300'}, {'text': 'Uzbekistan', 'bottom': 554.1765, 'text_1': '50', 'text_2': '50', 'text_3': '—', 'text_4': '—', 'text_5': '8,500', 'text_6': '8,500'}, {'text': 'Other countries', 'bottom': 565.1565, 'text_1': '3,630', 'text_2': '3,600', 'text_3': '317', 'text_4': '320', 'text_5': '10,600', 'text_6': '10,000'}, {'text': 'World total (rounded)', 'bottom': 576.1965, 'text_1': '20,400', 'text_2': '20,000', 'text_3': '4,100', 'text_4': '4,300', 'text_5': '51,900', 'text_6': '51,000'}], {'bbox_top': 365.68752, 'bbox_bottom': 576.1965, 'bbox_start': 44.94, 'bbox_end': 551.82288}, 64]\n",
      "========================================\n",
      "\n",
      "[[{'text': None, 'bottom': 224.68751999999995, 'text_1': 'Mine production', 'text_2': 'Mine production', 'text_3': 'Reserves'}, {'text': None, 'bottom': 235.66751999999997, 'text_1': '2022', 'text_2': '2023', 'text_3': None}, {'text': 'United States (kyanite)', 'bottom': 246.19650000000001, 'text_1': '85,900', 'text_2': '85,000', 'text_3': 'Large'}, {'text': 'China (andalusite, crude ore)', 'bottom': 257.1764999999999, 'text_1': '100,000', 'text_2': '100,000', 'text_3': '5,000,000'}, {'text': 'France (andalusite)', 'bottom': 268.15649999999994, 'text_1': '65,000', 'text_2': '65,000', 'text_3': 'NA'}, {'text': 'India (kyanite and sillimanite)', 'bottom': 279.1965, 'text_1': '12,000', 'text_2': '10,000', 'text_3': '7,200,000'}, {'text': 'Peru (andalusite)', 'bottom': 290.17650000000003, 'text_1': '43,000', 'text_2': '40,000', 'text_3': 'NA'}, {'text': 'South Africa (andalusite)', 'bottom': 301.1565, 'text_1': '170,000', 'text_2': '170,000', 'text_3': 'NA'}, {'text': 'World total (rounded)', 'bottom': 312.1965, 'text_1': '8NA', 'text_2': '8NA', 'text_3': 'NA'}], {'bbox_top': 211.66751999999997, 'bbox_bottom': 312.1965, 'bbox_start': 44.94, 'bbox_end': 516.356856}, 108]\n",
      "========================================\n",
      "\n",
      "[[{'text': None, 'bottom': 279.70752000000005, 'text_1': 'Mine productione', 'text_2': 'Mine productione', 'text_3': 'Reserves'}, {'text': None, 'bottom': 290.68752, 'text_1': '2022', 'text_2': '2023', 'text_3': None}, {'text': 'United States', 'bottom': 301.1565, 'text_1': '8,870', 'text_2': '9,100', 'text_3': '400,000'}, {'text': 'Armenia', 'bottom': 312.1965, 'text_1': '260', 'text_2': '280', 'text_3': '95,000'}, {'text': 'Chile9', 'bottom': 323.17650000000003, 'text_1': '29,000', 'text_2': '30,000', 'text_3': '1,300,000'}, {'text': 'China', 'bottom': 334.1565, 'text_1': '2,500', 'text_2': '2,500', 'text_3': '19,200'}, {'text': 'Kazakhstan', 'bottom': 345.1965, 'text_1': '500', 'text_2': '500', 'text_3': '190,000'}, {'text': 'Korea, Republic of', 'bottom': 356.17650000000003, 'text_1': '2,800', 'text_2': '2,800', 'text_3': 'NA'}, {'text': 'Poland', 'bottom': 367.1565, 'text_1': '6,310', 'text_2': '6,300', 'text_3': 'NA'}, {'text': 'Russia', 'bottom': 378.1965, 'text_1': 'NA', 'text_2': 'NA', 'text_3': '310,000'}, {'text': 'Uzbekistan', 'bottom': 389.17650000000003, 'text_1': '4,900', 'text_2': '4,900', 'text_3': 'NA'}, {'text': 'World total (rounded)', 'bottom': 400.1565, 'text_1': '55,100', 'text_2': '56,000', 'text_3': 'Large'}], {'bbox_top': 265.4164800000001, 'bbox_bottom': 400.1565, 'bbox_start': 46.26, 'bbox_end': 539.5162079999999}, 150]\n",
      "========================================\n",
      "\n",
      "[[{'text': None, 'bottom': 103.66751999999997, 'text_1': 'Mine production', 'text_2': 'Mine production', 'text_3': 'Reserves'}, {'text': None, 'bottom': 114.70752000000005, 'text_1': '2022', 'text_2': '2023', 'text_3': None}, {'text': 'United States', 'bottom': 125.17649999999992, 'text_1': '2100', 'text_2': '2100', 'text_3': '25,000'}, {'text': 'Brazil', 'bottom': 136.15649999999994, 'text_1': '70', 'text_2': '70', 'text_3': '6,600'}, {'text': 'Bulgaria', 'bottom': 147.19650000000001, 'text_1': '10', 'text_2': '10', 'text_3': 'NA'}, {'text': 'China', 'bottom': 158.17649999999992, 'text_1': '39', 'text_2': '39', 'text_3': '2,900'}, {'text': 'India', 'bottom': 169.15649999999994, 'text_1': '4', 'text_2': '4', 'text_3': '1,600'}, {'text': 'Mexico', 'bottom': 180.19650000000001, 'text_1': '(7)', 'text_2': '(7)', 'text_3': 'NA'}, {'text': 'Russia', 'bottom': 191.17649999999992, 'text_1': '29', 'text_2': '29', 'text_3': 'NA'}, {'text': 'South Africa', 'bottom': 202.15649999999994, 'text_1': '183', 'text_2': '160', 'text_3': '14,000'}, {'text': 'Turkey', 'bottom': 213.19650000000001, 'text_1': '3', 'text_2': '10', 'text_3': '11,000'}, {'text': 'Uganda', 'bottom': 224.17649999999992, 'text_1': '30', 'text_2': '30', 'text_3': 'NA'}, {'text': 'Uzbekistan', 'bottom': 235.15649999999994, 'text_1': '3', 'text_2': '3', 'text_3': 'NA'}, {'text': 'Zimbabwe', 'bottom': 246.19650000000001, 'text_1': '45', 'text_2': '45', 'text_3': 'NA'}, {'text': 'World total (rounded)', 'bottom': 257.1764999999999, 'text_1': '516', 'text_2': '500', 'text_3': 'NA'}], {'bbox_top': 90.64751999999999, 'bbox_bottom': 257.1764999999999, 'bbox_start': 44.94, 'bbox_end': 530.515188}, 198]\n",
      "========================================\n",
      "\n",
      "[[{'text': None, 'bottom': 202.66751999999997, 'text_1': 'Mine production', 'text_2': 'Mine production', 'text_3': 'Reserves'}, {'text': None, 'bottom': 213.70752000000005, 'text_1': '2022', 'text_2': '2023', 'text_3': None}, {'text': 'United States', 'bottom': 224.17649999999992, 'text_1': '500', 'text_2': '500', 'text_3': '69,000'}, {'text': 'Australia', 'bottom': 235.15649999999994, 'text_1': '5,790', 'text_2': '4,600', 'text_3': '01,700,000'}, {'text': 'Canada', 'bottom': 246.19650000000001, 'text_1': '3,060', 'text_2': '2,100', 'text_3': '230,000'}, {'text': 'Congo (Kinshasa)', 'bottom': 257.1764999999999, 'text_1': '144,000', 'text_2': '170,000', 'text_3': '6,000,000'}, {'text': 'Cuba', 'bottom': 268.15649999999994, 'text_1': '3,700', 'text_2': '3,200', 'text_3': '500,000'}, {'text': 'Indonesia', 'bottom': 279.1965, 'text_1': '9,600', 'text_2': '17,000', 'text_3': '500,000'}, {'text': 'Madagascar', 'bottom': 290.17650000000003, 'text_1': '3,500', 'text_2': '4,000', 'text_3': '100,000'}, {'text': 'New Caledonia1', 'bottom': 301.1565, 'text_1': '2,000', 'text_2': '3,000', 'text_3': 'NA'}, {'text': 'Papua New Guinea', 'bottom': 312.1965, 'text_1': '2,990', 'text_2': '2,900', 'text_3': '49,000'}, {'text': 'Philippines', 'bottom': 323.17650000000003, 'text_1': '3,900', 'text_2': '3,800', 'text_3': '260,000'}, {'text': 'Russia', 'bottom': 334.1565, 'text_1': '9,200', 'text_2': '8,800', 'text_3': '250,000'}, {'text': 'Turkey', 'bottom': 345.1965, 'text_1': '2,100', 'text_2': '2,800', 'text_3': '91,000'}, {'text': 'Other countries', 'bottom': 356.17650000000003, 'text_1': '6,600', 'text_2': '6,600', 'text_3': '780,000'}, {'text': 'World total (rounded)', 'bottom': 367.3965, 'text_1': '197,000', 'text_2': '230,000', 'text_3': '11,000,000'}], {'bbox_top': 189.64752, 'bbox_bottom': 367.3965, 'bbox_start': 44.94, 'bbox_end': 526.0162079999999}, 66]\n",
      "========================================\n",
      "\n",
      "[[{'text': None, 'bottom': 279.70752000000005, 'text_1': 'Mine production', 'text_2': 'Mine production', 'text_3': 'Reserves'}, {'text': None, 'bottom': 290.68752, 'text_1': '2022', 'text_2': '2023e', 'text_3': None}, {'text': 'United States', 'bottom': 301.1565, 'text_1': '273', 'text_2': '270', 'text_3': '4,600'}, {'text': 'Australia', 'bottom': 312.1965, 'text_1': '435', 'text_2': '440', 'text_3': '35,000'}, {'text': 'Bolivia', 'bottom': 323.17650000000003, 'text_1': '90', 'text_2': '90', 'text_3': '1,600'}, {'text': 'China', 'bottom': 334.1565, 'text_1': '1,950', 'text_2': '1,900', 'text_3': '20,000'}, {'text': 'India', 'bottom': 345.1965, 'text_1': '220', 'text_2': '220', 'text_3': '1,900'}, {'text': 'Iran', 'bottom': 356.17650000000003, 'text_1': 'e52', 'text_2': '50', 'text_3': '2,000'}, {'text': 'Mexico', 'bottom': 367.1565, 'text_1': '273', 'text_2': '270', 'text_3': '5,600'}, {'text': 'Peru', 'bottom': 378.1965, 'text_1': '255', 'text_2': '250', 'text_3': '5,000'}, {'text': 'Russia', 'bottom': 389.17650000000003, 'text_1': '210', 'text_2': '200', 'text_3': '8,700'}, {'text': 'Sweden', 'bottom': 400.1565, 'text_1': '75', 'text_2': '70', 'text_3': '1,700'}, {'text': 'Tajikistan', 'bottom': 411.1965, 'text_1': '53', 'text_2': '50', 'text_3': 'NA'}, {'text': 'Turkey', 'bottom': 422.17650000000003, 'text_1': '67', 'text_2': '70', 'text_3': '1,600'}, {'text': 'Other countries', 'bottom': 433.1565, 'text_1': '507', 'text_2': '610', 'text_3': '5,900'}, {'text': 'World total (rounded)', 'bottom': 444.1965, 'text_1': '4,460', 'text_2': '4,500', 'text_3': '95,000'}], {'bbox_top': 266.68752000000006, 'bbox_bottom': 444.1965, 'bbox_start': 44.94, 'bbox_end': 535.0140479999999}, 110]\n",
      "========================================\n",
      "\n",
      "[[{'text': None, 'bottom': 290.68752, 'text_1': 'Mine production', 'text_2': 'Mine production', 'text_3': 'Reserves'}, {'text': None, 'bottom': 301.66751999999997, 'text_1': '2022', 'text_2': '2023', 'text_3': None}, {'text': 'United States', 'bottom': 312.1965, 'text_1': 'W', 'text_2': 'W', 'text_3': 'World resources of wollastonite are'}, {'text': 'Canada', 'bottom': 323.17650000000003, 'text_1': '20,000', 'text_2': '20,000', 'text_3': 'estimated to exceed 100 million tons.'}, {'text': 'China', 'bottom': 334.1565, 'text_1': '900,000', 'text_2': '900,000', 'text_3': 'Many deposits have been identified'}, {'text': 'India', 'bottom': 345.1965, 'text_1': '100,000', 'text_2': '100,000', 'text_3': 'but have not been surveyed'}, {'text': 'Mexico', 'bottom': 356.17650000000003, 'text_1': '85,000', 'text_2': '80,000', 'text_3': 'sufficiently to quantify their reserves.'}, {'text': 'Other countries', 'bottom': 367.1565, 'text_1': '15,000', 'text_2': '15,000', 'text_3': None}, {'text': 'World total (rounded)', 'bottom': 378.1965, 'text_1': '1,120,000', 'text_2': '1,100,000', 'text_3': None}], {'bbox_top': 277.66752, 'bbox_bottom': 378.1965, 'bbox_start': 44.94, 'bbox_end': 558.921546}, 200]\n",
      "========================================\n",
      "\n",
      "[[{'text': None, 'bottom': 301.66751999999997, 'text_1': 'Mine production', 'text_2': 'Mine production', 'text_3': 'Refinery production', 'text_4': 'Refinery production', 'text_5': 'Reserves'}, {'text': None, 'bottom': 312.70752, 'text_1': '2022', 'text_2': '2023', 'text_3': '2022', 'text_4': '2023e', 'text_5': None}, {'text': 'United States', 'bottom': 323.17650000000003, 'text_1': '1,230', 'text_2': '1,100', 'text_3': '952', 'text_4': '890', 'text_5': '50,000'}, {'text': 'Australia', 'bottom': 334.1565, 'text_1': '819', 'text_2': '810', 'text_3': '401', 'text_4': '450', 'text_5': '100,000'}, {'text': 'Canada', 'bottom': 345.1965, 'text_1': '520', 'text_2': '480', 'text_3': '278', 'text_4': '310', 'text_5': '7,600'}, {'text': 'Chile', 'bottom': 356.17650000000003, 'text_1': '5,330', 'text_2': '5,000', 'text_3': '2,150', 'text_4': '2,000', 'text_5': '190,000'}, {'text': 'China', 'bottom': 367.1565, 'text_1': '1,940', 'text_2': '1,700', 'text_3': '11,100', 'text_4': '12,000', 'text_5': '41,000'}, {'text': 'Congo (Kinshasa)', 'bottom': 378.1965, 'text_1': '2,350', 'text_2': '2,500', 'text_3': '1,770', 'text_4': '1,900', 'text_5': '80,000'}, {'text': 'Germany', 'bottom': 389.17650000000003, 'text_1': '—', 'text_2': '—', 'text_3': '609', 'text_4': '610', 'text_5': '—'}, {'text': 'Indonesia', 'bottom': 400.1565, 'text_1': '941', 'text_2': '840', 'text_3': '310', 'text_4': '200', 'text_5': '24,000'}, {'text': 'Japan', 'bottom': 411.1965, 'text_1': '—', 'text_2': '—', 'text_3': '1,550', 'text_4': '1,500', 'text_5': '—'}, {'text': 'Kazakhstan', 'bottom': 422.17650000000003, 'text_1': '593', 'text_2': '600', 'text_3': '494', 'text_4': '440', 'text_5': '20,000'}, {'text': 'Korea, Republic of', 'bottom': 433.1565, 'text_1': '—', 'text_2': '—', 'text_3': '638', 'text_4': '620', 'text_5': '—'}, {'text': 'Mexico', 'bottom': 444.1965, 'text_1': '754', 'text_2': '750', 'text_3': '486', 'text_4': '480', 'text_5': '53,000'}, {'text': 'Peru', 'bottom': 455.17650000000003, 'text_1': '2,450', 'text_2': '2,600', 'text_3': '391', 'text_4': '400', 'text_5': '120,000'}, {'text': 'Poland', 'bottom': 466.1565, 'text_1': '393', 'text_2': '400', 'text_3': '586', 'text_4': '590', 'text_5': '34,000'}, {'text': 'Russia', 'bottom': 477.1965, 'text_1': '936', 'text_2': '910', 'text_3': '1,010', 'text_4': '1,000', 'text_5': '80,000'}, {'text': 'Zambia', 'bottom': 488.17650000000003, 'text_1': '797', 'text_2': '760', 'text_3': '349', 'text_4': '380', 'text_5': '21,000'}, {'text': 'Other countries', 'bottom': 499.1565, 'text_1': '2,850', 'text_2': '3,100', 'text_3': '2,830', 'text_4': '2,900', 'text_5': '180,000'}, {'text': 'World total (rounded)', 'bottom': 510.1965, 'text_1': '21,900', 'text_2': '22,000', 'text_3': '25,900', 'text_4': '27,000', 'text_5': '1,000,000'}], {'bbox_top': 288.64752, 'bbox_bottom': 510.1965, 'bbox_start': 46.26, 'bbox_end': 542.0951879999999}, 68]\n",
      "========================================\n",
      "\n",
      "[[{'text': None, 'bottom': 92.68751999999995, 'text_1': 'Production', 'text_2': 'Production', 'text_3': 'Reserves'}, {'text': None, 'bottom': 103.66751999999997, 'text_1': '2022', 'text_2': '2023', 'text_3': None}, {'text': 'United States', 'bottom': 114.19650000000001, 'text_1': '17,000', 'text_2': '17,000', 'text_3': 'Adequate for all countries with'}, {'text': 'Australia', 'bottom': 125.17649999999992, 'text_1': '1,990', 'text_2': '2,000', 'text_3': 'listed production.'}, {'text': 'Belgium8', 'bottom': 136.15649999999994, 'text_1': '1,710', 'text_2': '1,200', 'text_3': None}, {'text': 'Brazil', 'bottom': 147.19650000000001, 'text_1': '8,300', 'text_2': '8,300', 'text_3': None}, {'text': 'Bulgaria', 'bottom': 158.17649999999992, 'text_1': '1,420', 'text_2': '1,400', 'text_3': None}, {'text': 'Canada (shipments)', 'bottom': 169.15649999999994, 'text_1': '1,680', 'text_2': '1,700', 'text_3': None}, {'text': 'China', 'bottom': 180.19650000000001, 'text_1': '310,000', 'text_2': '310,000', 'text_3': None}, {'text': 'France', 'bottom': 191.17649999999992, 'text_1': '2,500', 'text_2': '3,000', 'text_3': None}, {'text': 'Germany', 'bottom': 202.15649999999994, 'text_1': '5,900', 'text_2': '5,900', 'text_3': None}, {'text': 'India', 'bottom': 213.19650000000001, 'text_1': '16,000', 'text_2': '16,000', 'text_3': None}, {'text': 'Iran', 'bottom': 224.17649999999992, 'text_1': '4,000', 'text_2': '4,000', 'text_3': None}, {'text': 'Italy', 'bottom': 235.15649999999994, 'text_1': '3,500', 'text_2': '3,500', 'text_3': None}, {'text': 'Japan (quicklime only)', 'bottom': 246.19650000000001, 'text_1': '6,240', 'text_2': '6,200', 'text_3': None}, {'text': 'Korea, Republic of', 'bottom': 257.1764999999999, 'text_1': '5,100', 'text_2': '5,100', 'text_3': None}, {'text': 'Malaysia', 'bottom': 268.15649999999994, 'text_1': '1,500', 'text_2': '1,500', 'text_3': None}, {'text': 'Poland (hydrated and quicklime)', 'bottom': 279.1965, 'text_1': '1,800', 'text_2': '1,800', 'text_3': None}, {'text': 'Romania', 'bottom': 290.17650000000003, 'text_1': '1,100', 'text_2': '1,100', 'text_3': None}, {'text': 'Russia (industrial and construction)', 'bottom': 301.1565, 'text_1': '11,400', 'text_2': '11,000', 'text_3': None}, {'text': 'Slovenia', 'bottom': 312.1965, 'text_1': '1,100', 'text_2': '1,100', 'text_3': None}, {'text': 'South Africa', 'bottom': 323.17650000000003, 'text_1': '1,070', 'text_2': '1,200', 'text_3': None}, {'text': 'Spain', 'bottom': 334.1565, 'text_1': '1,700', 'text_2': '1,700', 'text_3': None}, {'text': 'Turkey', 'bottom': 345.1965, 'text_1': '4,600', 'text_2': '4,600', 'text_3': None}, {'text': 'Ukraine', 'bottom': 356.17650000000003, 'text_1': '2,600', 'text_2': '2,000', 'text_3': None}, {'text': 'United Kingdom', 'bottom': 367.1565, 'text_1': '1,400', 'text_2': '1,400', 'text_3': None}, {'text': 'Other countries', 'bottom': 378.1965, 'text_1': '15,400', 'text_2': '15,000', 'text_3': None}, {'text': 'World total (rounded)', 'bottom': 389.17650000000003, 'text_1': '430,000', 'text_2': '430,000', 'text_3': None}], {'bbox_top': 78.39648000000011, 'bbox_bottom': 389.17650000000003, 'bbox_start': 44.94, 'bbox_end': 528.471552}, 112]\n",
      "========================================\n",
      "\n",
      "[[{'text': None, 'bottom': 213.70752000000005, 'text_1': 'Mine production', 'text_2': 'Mine production', 'text_3': 'Reserves'}, {'text': None, 'bottom': 224.68751999999995, 'text_1': '2022', 'text_2': '2023', 'text_3': None}, {'text': 'United States', 'bottom': 235.15649999999994, 'text_1': '41,000', 'text_2': '42,000', 'text_3': 'Large. Economic and subeconomic'}, {'text': 'Australia', 'bottom': 246.19650000000001, 'text_1': '13,000', 'text_2': '14,000', 'text_3': 'deposits of salt are substantial in'}, {'text': 'Belarus', 'bottom': 257.1764999999999, 'text_1': '2,000', 'text_2': '2,100', 'text_3': 'principal salt-producing countries.'}, {'text': 'Brazil', 'bottom': 268.15649999999994, 'text_1': '6,600', 'text_2': '6,600', 'text_3': 'The oceans contain a virtually'}, {'text': 'Bulgaria', 'bottom': 279.1965, 'text_1': '3,300', 'text_2': '3,300', 'text_3': 'inexhaustible supply of salt.'}, {'text': 'Canada', 'bottom': 290.17650000000003, 'text_1': '12,000', 'text_2': '12,000', 'text_3': None}, {'text': 'Chile', 'bottom': 301.1565, 'text_1': '9,000', 'text_2': '9,200', 'text_3': None}, {'text': 'China', 'bottom': 312.1965, 'text_1': '54,000', 'text_2': '53,000', 'text_3': None}, {'text': 'Egypt', 'bottom': 323.17650000000003, 'text_1': '2,300', 'text_2': '2,300', 'text_3': None}, {'text': 'France', 'bottom': 334.1565, 'text_1': '5,500', 'text_2': '5,600', 'text_3': None}, {'text': 'Germany', 'bottom': 345.1965, 'text_1': '15,000', 'text_2': '15,000', 'text_3': None}, {'text': 'India', 'bottom': 356.17650000000003, 'text_1': '30,000', 'text_2': '30,000', 'text_3': None}, {'text': 'Iran', 'bottom': 367.1565, 'text_1': '2,700', 'text_2': '2,700', 'text_3': None}, {'text': 'Italy', 'bottom': 378.1965, 'text_1': '1,900', 'text_2': '2,000', 'text_3': None}, {'text': 'Mexico', 'bottom': 389.17650000000003, 'text_1': '8,700', 'text_2': '9,000', 'text_3': None}, {'text': 'Netherlands', 'bottom': 400.1565, 'text_1': '5,900', 'text_2': '6,000', 'text_3': None}, {'text': 'Pakistan', 'bottom': 411.1965, 'text_1': '3,000', 'text_2': '3,000', 'text_3': None}, {'text': 'Poland', 'bottom': 422.17650000000003, 'text_1': '4,300', 'text_2': '4,200', 'text_3': None}, {'text': 'Russia', 'bottom': 433.1565, 'text_1': '8,000', 'text_2': '7,000', 'text_3': None}, {'text': 'Saudi Arabia', 'bottom': 444.1965, 'text_1': '2,400', 'text_2': '2,500', 'text_3': None}, {'text': 'Spain', 'bottom': 455.17650000000003, 'text_1': '3,900', 'text_2': '4,000', 'text_3': None}, {'text': 'Turkey', 'bottom': 466.1565, 'text_1': '9,100', 'text_2': '9,000', 'text_3': None}, {'text': 'United Kingdom', 'bottom': 477.1965, 'text_1': '2,400', 'text_2': '2,300', 'text_3': None}, {'text': 'Other countries', 'bottom': 488.17650000000003, 'text_1': '26,000', 'text_2': '27,000', 'text_3': None}, {'text': 'World total (rounded)', 'bottom': 499.1565, 'text_1': '270,000', 'text_2': '270,000', 'text_3': None}], {'bbox_top': 200.68752000000006, 'bbox_bottom': 499.1565, 'bbox_start': 44.94, 'bbox_end': 526.1808179999998}, 154]\n",
      "========================================\n",
      "\n",
      "[[{'text': None, 'bottom': 434.68752, 'text_1': 'Mine production', 'text_2': 'Mine production', 'text_3': 'Reserves'}, {'text': None, 'bottom': 445.66751999999997, 'text_1': '2022', 'text_2': '2023e', 'text_3': None}, {'text': 'United States', 'bottom': 456.1965, 'text_1': '—', 'text_2': '—', 'text_3': 'NA'}, {'text': 'Angola', 'bottom': 467.17650000000003, 'text_1': '1', 'text_2': '1', 'text_3': '150'}, {'text': 'Botswana', 'bottom': 478.1565, 'text_1': '7', 'text_2': '7', 'text_3': '280'}, {'text': 'Congo (Kinshasa)', 'bottom': 489.1965, 'text_1': '8', 'text_2': '8', 'text_3': '150'}, {'text': 'Russia', 'bottom': 500.17650000000003, 'text_1': '18', 'text_2': '18', 'text_3': '860'}, {'text': 'South Africa', 'bottom': 511.1565, 'text_1': '6', 'text_2': '6', 'text_3': '95'}, {'text': 'Zimbabwe', 'bottom': 522.1965, 'text_1': '4', 'text_2': '4', 'text_3': 'NA'}, {'text': 'Other countries', 'bottom': 533.1765, 'text_1': '1', 'text_2': '1', 'text_3': '120'}, {'text': 'World total (rounded)', 'bottom': 544.1565, 'text_1': '45', 'text_2': '45', 'text_3': '1,700'}], {'bbox_top': 421.66752, 'bbox_bottom': 544.1565, 'bbox_start': 44.94, 'bbox_end': 535.0133999999999}, 70]\n",
      "========================================\n",
      "\n",
      "[[{'text': None, 'bottom': 312.70752, 'text_1': 'Mine production', 'text_2': 'Mine production', 'text_3': 'Reserves'}, {'text': None, 'bottom': 323.68752, 'text_1': '2022', 'text_2': '2023', 'text_3': None}, {'text': 'United States', 'bottom': 336.1965, 'text_1': 'W', 'text_2': 'W', 'text_3': '1,100,000'}, {'text': 'Argentina', 'bottom': 347.23650000000004, 'text_1': '6,590', 'text_2': '9,600', 'text_3': '3,600,000'}, {'text': 'Australia', 'bottom': 358.2165, 'text_1': '74,700', 'text_2': '86,000', 'text_3': '6,200,000'}, {'text': 'Brazil', 'bottom': 369.1965, 'text_1': 'e2,630', 'text_2': '4,900', 'text_3': '390,000'}, {'text': 'Canada', 'bottom': 380.23650000000004, 'text_1': 'e520', 'text_2': '3,400', 'text_3': '930,000'}, {'text': 'Chile', 'bottom': 391.2165, 'text_1': '38,000', 'text_2': '44,000', 'text_3': '9,300,000'}, {'text': 'China', 'bottom': 402.1965, 'text_1': '22,600', 'text_2': '33,000', 'text_3': '3,000,000'}, {'text': 'Portugal', 'bottom': 413.23650000000004, 'text_1': 'e380', 'text_2': '380', 'text_3': '60,000'}, {'text': 'Zimbabwe', 'bottom': 424.2165, 'text_1': '1,030', 'text_2': '3,400', 'text_3': '310,000'}, {'text': 'Other countries', 'bottom': 435.1965, 'text_1': '—', 'text_2': '—', 'text_3': '2,800,000'}, {'text': 'World total (rounded)', 'bottom': 446.23650000000004, 'text_1': '146,000', 'text_2': '180,000', 'text_3': '28,000,000'}], {'bbox_top': 299.68752, 'bbox_bottom': 446.23650000000004, 'bbox_start': 44.94, 'bbox_end': 525.776208}, 114]\n",
      "========================================\n",
      "\n",
      "[[{'text': None, 'bottom': 191.68751999999995, 'text_1': 'Mine production', 'text_2': 'Mine production', 'text_3': 'Reserves'}, {'text': None, 'bottom': 202.66751999999997, 'text_1': '2022', 'text_2': '2023', 'text_3': None}, {'text': 'United States', 'bottom': 213.19650000000001, 'text_1': '114,000', 'text_2': '130,000', 'text_3': 'Large. Industrial sand and'}, {'text': 'Argentina', 'bottom': 224.17649999999992, 'text_1': '3,900', 'text_2': '4,000', 'text_3': 'gravel deposits are widespread.'}, {'text': 'Australia', 'bottom': 235.15649999999994, 'text_1': '5,000', 'text_2': '5,500', 'text_3': None}, {'text': 'Bulgaria', 'bottom': 246.19650000000001, 'text_1': '8,450', 'text_2': '8,500', 'text_3': None}, {'text': 'Canada', 'bottom': 257.1764999999999, 'text_1': 'e5,000', 'text_2': '5,500', 'text_3': None}, {'text': 'China', 'bottom': 268.15649999999994, 'text_1': '87,700', 'text_2': '88,000', 'text_3': None}, {'text': 'France', 'bottom': 279.1965, 'text_1': '13,000', 'text_2': '14,000', 'text_3': None}, {'text': 'Germany', 'bottom': 290.17650000000003, 'text_1': '11,100', 'text_2': '11,000', 'text_3': None}, {'text': 'India', 'bottom': 301.1565, 'text_1': '11,900', 'text_2': '12,000', 'text_3': None}, {'text': 'Indonesia', 'bottom': 312.1965, 'text_1': 'e3,540', 'text_2': '3,500', 'text_3': None}, {'text': 'Italy', 'bottom': 323.17650000000003, 'text_1': '14,000', 'text_2': '33,000', 'text_3': None}, {'text': 'Japan', 'bottom': 334.1565, 'text_1': '2,010', 'text_2': '2,000', 'text_3': None}, {'text': 'Malaysia', 'bottom': 345.1965, 'text_1': '4,500', 'text_2': '7,000', 'text_3': None}, {'text': 'Mexico', 'bottom': 356.17650000000003, 'text_1': '2,700', 'text_2': '2,700', 'text_3': None}, {'text': 'Netherlands', 'bottom': 367.1565, 'text_1': '10,000', 'text_2': '12,000', 'text_3': None}, {'text': 'Poland', 'bottom': 378.1965, 'text_1': '5,570', 'text_2': '5,800', 'text_3': None}, {'text': 'Russia', 'bottom': 389.17650000000003, 'text_1': '7,300', 'text_2': '7,300', 'text_3': None}, {'text': 'Spain', 'bottom': 400.1565, 'text_1': 'e6,600', 'text_2': '6,600', 'text_3': None}, {'text': 'Turkey', 'bottom': 411.1965, 'text_1': '14,500', 'text_2': '15,000', 'text_3': None}, {'text': 'United Kingdom', 'bottom': 422.17650000000003, 'text_1': 'e4,200', 'text_2': '4,200', 'text_3': None}, {'text': 'Other countries', 'bottom': 433.1565, 'text_1': '24,000', 'text_2': '25,000', 'text_3': None}, {'text': 'World total (rounded)', 'bottom': 444.1965, 'text_1': '359,000', 'text_2': '400,000', 'text_3': None}], {'bbox_top': 178.66751999999997, 'bbox_bottom': 444.1965, 'bbox_start': 44.94, 'bbox_end': 526.3559879999999}, 158]\n",
      "========================================\n",
      "\n",
      "[[{'text': None, 'bottom': 213.70752000000005, 'text_1': 'Mine production', 'text_2': 'Mine production', 'text_3': 'Reserves'}, {'text': None, 'bottom': 224.68751999999995, 'text_1': '2022', 'text_2': '2023', 'text_3': None}, {'text': 'United States', 'bottom': 235.15649999999994, 'text_1': '77,400', 'text_2': '84,000', 'text_3': 'Two of the leading companies in the'}, {'text': 'Chile', 'bottom': 246.19650000000001, 'text_1': '297', 'text_2': '400', 'text_3': 'United States reported combined'}, {'text': 'China', 'bottom': 257.1764999999999, 'text_1': '200,000', 'text_2': '200,000', 'text_3': 'reserves of 80 million tons in 2022;'}, {'text': 'Cuba', 'bottom': 268.15649999999994, 'text_1': '77,500', 'text_2': '78,000', 'text_3': 'total U.S. reserves likely were'}, {'text': 'Georgia', 'bottom': 279.1965, 'text_1': '4,810', 'text_2': '5,000', 'text_3': 'substantially larger. World data'}, {'text': 'Hungary', 'bottom': 290.17650000000003, 'text_1': '32,000', 'text_2': '31,000', 'text_3': 'were unavailable, but reserves were'}, {'text': 'Indonesia', 'bottom': 301.1565, 'text_1': '100,000', 'text_2': '100,000', 'text_3': 'estimated to be large.'}, {'text': 'Jordan', 'bottom': 312.1965, 'text_1': '1,000', 'text_2': '1,000', 'text_3': None}, {'text': 'Korea, Republic of', 'bottom': 323.17650000000003, 'text_1': '16,000', 'text_2': '130,000', 'text_3': None}, {'text': 'Philippines', 'bottom': 334.1565, 'text_1': '6,900', 'text_2': '7,100', 'text_3': None}, {'text': 'New Zealand', 'bottom': 345.1965, 'text_1': '100,000', 'text_2': '100,000', 'text_3': None}, {'text': 'Russia', 'bottom': 356.17650000000003, 'text_1': '35,000', 'text_2': '35,000', 'text_3': None}, {'text': 'Slovakia', 'bottom': 367.1565, 'text_1': '221,000', 'text_2': '220,000', 'text_3': None}, {'text': 'Turkey', 'bottom': 378.1965, 'text_1': '74,500', 'text_2': '70,000', 'text_3': None}, {'text': 'World total (rounded)', 'bottom': 389.17650000000003, 'text_1': '900,000', 'text_2': '1,100,000', 'text_3': None}], {'bbox_top': 198.63648, 'bbox_bottom': 389.17650000000003, 'bbox_start': 44.94, 'bbox_end': 559.2636479999999}, 204]\n",
      "========================================\n",
      "\n",
      "[[{'text': None, 'bottom': 136.66751999999997, 'text_1': 'Mine production', 'text_2': 'Mine production', 'text_3': 'Reserves'}, {'text': None, 'bottom': 147.70752000000005, 'text_1': '2022', 'text_2': '2023', 'text_3': None}, {'text': 'United States', 'bottom': 158.17649999999992, 'text_1': '827', 'text_2': '830', 'text_3': '250,000'}, {'text': 'Argentina', 'bottom': 169.15649999999994, 'text_1': '100', 'text_2': '100', 'text_3': 'NA'}, {'text': 'China', 'bottom': 180.19650000000001, 'text_1': '270', 'text_2': '270', 'text_3': '170,000'}, {'text': 'Czechia', 'bottom': 191.17649999999992, 'text_1': '46', 'text_2': '50', 'text_3': 'NA'}, {'text': 'Denmark (processed)', 'bottom': 202.15649999999994, 'text_1': '440', 'text_2': '440', 'text_3': 'NA'}, {'text': 'France', 'bottom': 213.19650000000001, 'text_1': '75', 'text_2': '80', 'text_3': 'NA'}, {'text': 'Germany', 'bottom': 224.17649999999992, 'text_1': '50', 'text_2': '50', 'text_3': 'NA'}, {'text': 'Korea, Republic of', 'bottom': 235.15649999999994, 'text_1': '50', 'text_2': '50', 'text_3': 'NA'}, {'text': 'Mexico', 'bottom': 246.19650000000001, 'text_1': '96', 'text_2': '100', 'text_3': 'NA'}, {'text': 'Mozambique', 'bottom': 257.1764999999999, 'text_1': '73', 'text_2': '75', 'text_3': 'NA'}, {'text': 'Peru', 'bottom': 268.15649999999994, 'text_1': '95', 'text_2': '100', 'text_3': 'NA'}, {'text': 'Russia', 'bottom': 279.1965, 'text_1': '51', 'text_2': '50', 'text_3': 'NA'}, {'text': 'Spain', 'bottom': 290.17650000000003, 'text_1': '50', 'text_2': '55', 'text_3': '57,000'}, {'text': 'Turkey', 'bottom': 301.1565, 'text_1': '210', 'text_2': '210', 'text_3': '44,000'}, {'text': 'Other countries', 'bottom': 312.1965, 'text_1': '171', 'text_2': '170', 'text_3': 'NA'}, {'text': 'World total (rounded)', 'bottom': 323.17650000000003, 'text_1': '2,600', 'text_2': '2,600', 'text_3': 'Large'}], {'bbox_top': 123.64751999999999, 'bbox_bottom': 323.17650000000003, 'bbox_start': 50.76, 'bbox_end': 539.5162079999999}, 72]\n",
      "========================================\n",
      "\n",
      "[[{'text': None, 'bottom': 257.68751999999995, 'text_1': 'Mine production', 'text_2': 'Mine production', 'text_3': 'Reserves'}, {'text': None, 'bottom': 268.66751999999997, 'text_1': '2022', 'text_2': '2023', 'text_3': None}, {'text': 'United States', 'bottom': 279.1965, 'text_1': 'W', 'text_2': 'W', 'text_3': '35,000'}, {'text': 'Australia', 'bottom': 290.17650000000003, 'text_1': '860', 'text_2': '860', 'text_3': '280,000'}, {'text': 'Austria', 'bottom': 301.1565, 'text_1': '810', 'text_2': '810', 'text_3': '49,000'}, {'text': 'Brazil', 'bottom': 312.1965, 'text_1': '1,700', 'text_2': '1,700', 'text_3': '200,000'}, {'text': 'Canada', 'bottom': 323.17650000000003, 'text_1': '150', 'text_2': '150', 'text_3': 'NA'}, {'text': 'China', 'bottom': 334.1565, 'text_1': '13,000', 'text_2': '13,000', 'text_3': '580,000'}, {'text': 'Greece', 'bottom': 345.1965, 'text_1': '380', 'text_2': '380', 'text_3': '280,000'}, {'text': 'India', 'bottom': 356.17650000000003, 'text_1': '100', 'text_2': '100', 'text_3': '66,000'}, {'text': 'Iran', 'bottom': 367.1565, 'text_1': '270', 'text_2': '270', 'text_3': '10,000'}, {'text': 'Russia', 'bottom': 378.1965, 'text_1': '960', 'text_2': '960', 'text_3': '2,300,000'}, {'text': 'Saudi Arabia', 'bottom': 389.17650000000003, 'text_1': '340', 'text_2': '340', 'text_3': '2,800'}, {'text': 'Slovakia', 'bottom': 400.1565, 'text_1': '512', 'text_2': '510', 'text_3': '1,200,000'}, {'text': 'Spain', 'bottom': 411.1965, 'text_1': '670', 'text_2': '670', 'text_3': '35,000'}, {'text': 'Turkey', 'bottom': 422.17650000000003, 'text_1': '1,820', 'text_2': '1,800', 'text_3': '110,000'}, {'text': 'Other countries', 'bottom': 433.1565, 'text_1': '323', 'text_2': '320', 'text_3': '2,500,000'}, {'text': 'World total (rounded)', 'bottom': 444.1965, 'text_1': '021,900', 'text_2': '022,000', 'text_3': '7,700,000'}], {'bbox_top': 244.66751999999997, 'bbox_bottom': 444.1965, 'bbox_start': 44.94, 'bbox_end': 530.516856}, 116]\n",
      "========================================\n",
      "\n",
      "[[{'text': None, 'bottom': 378.70752, 'text_1': '2022', 'text_2': '2023', 'text_3': None}, {'text': 'United States', 'bottom': 389.17650000000003, 'text_1': 'W', 'text_2': 'W', 'text_3': 'Magnesium metal can be derived from'}, {'text': 'Brazil', 'bottom': 400.1565, 'text_1': '22', 'text_2': '22', 'text_3': 'seawater, natural brines, dolomite,'}, {'text': 'China', 'bottom': 411.1965, 'text_1': '933', 'text_2': '830', 'text_3': 'serpentine, and other minerals. The'}, {'text': 'Iran', 'bottom': 422.17650000000003, 'text_1': '5', 'text_2': '5', 'text_3': 'reserves for this metal are sufficient to'}, {'text': 'Israel', 'bottom': 433.1565, 'text_1': '22', 'text_2': '22', 'text_3': 'supply current and future requirements.'}, {'text': 'Kazakhstan', 'bottom': 444.1965, 'text_1': '27', 'text_2': '25', 'text_3': None}, {'text': 'Russia', 'bottom': 455.17650000000003, 'text_1': '21', 'text_2': '20', 'text_3': None}, {'text': 'Turkey', 'bottom': 466.1565, 'text_1': '14', 'text_2': '15', 'text_3': None}, {'text': 'Ukraine', 'bottom': 477.1965, 'text_1': '2', 'text_2': '—', 'text_3': None}, {'text': 'World total (rounded)', 'bottom': 488.17650000000003, 'text_1': '1,050', 'text_2': '940', 'text_3': None}], {'bbox_top': 365.68752, 'bbox_bottom': 488.17650000000003, 'bbox_start': 44.94, 'bbox_end': 551.5014659999999}, 118]\n",
      "========================================\n",
      "\n",
      "[[{'text': None, 'bottom': 312.70752, 'text_1': 'Mine production1', 'text_2': 'Mine production1', 'text_3': 'Reserves1'}, {'text': None, 'bottom': 323.68752, 'text_1': '2022', 'text_2': '2023', 'text_3': None}, {'text': 'United States', 'bottom': 334.1565, 'text_1': '761', 'text_2': '750', 'text_3': '6,600'}, {'text': 'Australia', 'bottom': 345.1965, 'text_1': '1,240', 'text_2': '1,100', 'text_3': '264,000'}, {'text': 'Bolivia', 'bottom': 356.17650000000003, 'text_1': '518', 'text_2': '490', 'text_3': 'NA'}, {'text': 'China', 'bottom': 367.1565, 'text_1': '4,040', 'text_2': '4,000', 'text_3': '44,000'}, {'text': 'India', 'bottom': 378.1965, 'text_1': '840', 'text_2': '860', 'text_3': '7,400'}, {'text': 'Kazakhstan', 'bottom': 389.17650000000003, 'text_1': '312', 'text_2': '330', 'text_3': '6,700'}, {'text': 'Mexico', 'bottom': 400.1565, 'text_1': '744', 'text_2': '690', 'text_3': '14,000'}, {'text': 'Peru', 'bottom': 411.1965, 'text_1': '1,370', 'text_2': '1,400', 'text_3': '21,000'}, {'text': 'Russia', 'bottom': 422.17650000000003, 'text_1': 'e300', 'text_2': '310', 'text_3': '25,000'}, {'text': 'South Africa', 'bottom': 433.1565, 'text_1': '238', 'text_2': '230', 'text_3': '6,200'}, {'text': 'Sweden', 'bottom': 444.1965, 'text_1': '234', 'text_2': '220', 'text_3': '4,100'}, {'text': 'Other countries', 'bottom': 455.17650000000003, 'text_1': '1,940', 'text_2': '1,800', 'text_3': '25,000'}, {'text': 'World total (rounded)', 'bottom': 466.1565, 'text_1': '12,500', 'text_2': '12,000', 'text_3': '220,000'}], {'bbox_top': 299.68752, 'bbox_bottom': 466.1565, 'bbox_start': 44.94, 'bbox_end': 528.294048}, 206]\n",
      "========================================\n",
      "\n",
      "[[{'text': None, 'bottom': 268.66751999999997, 'text_1': 'Mine production', 'text_2': 'Mine production', 'text_3': 'Reserves'}, {'text': None, 'bottom': 279.70752000000005, 'text_1': '2022', 'text_2': '2023', 'text_3': None}, {'text': 'United States', 'bottom': 290.17650000000003, 'text_1': '540', 'text_2': '590', 'text_3': 'NA'}, {'text': 'Brazil (beneficiated, marketable)', 'bottom': 301.1565, 'text_1': '760', 'text_2': '760', 'text_3': '150,000'}, {'text': 'China', 'bottom': 312.1965, 'text_1': '2,500', 'text_2': '2,500', 'text_3': '730,000'}, {'text': 'Czechia', 'bottom': 323.17650000000003, 'text_1': '450', 'text_2': '450', 'text_3': '54,000'}, {'text': 'India', 'bottom': 334.1565, 'text_1': '5,000', 'text_2': '5,000', 'text_3': '320,000'}, {'text': 'Iran', 'bottom': 345.1965, 'text_1': '2,000', 'text_2': '2,000', 'text_3': '95,000'}, {'text': 'Italy', 'bottom': 356.17650000000003, 'text_1': '2,200', 'text_2': '2,200', 'text_3': 'NA'}, {'text': 'Korea, Republic of', 'bottom': 367.1565, 'text_1': '851', 'text_2': '900', 'text_3': '180,000'}, {'text': 'Mexico', 'bottom': 378.1965, 'text_1': '495', 'text_2': '460', 'text_3': 'NA'}, {'text': 'Pakistan', 'bottom': 389.17650000000003, 'text_1': '448', 'text_2': '400', 'text_3': 'NA'}, {'text': 'Saudi Arabia', 'bottom': 400.1565, 'text_1': '550', 'text_2': '550', 'text_3': 'NA'}, {'text': 'Spain (includes pegmatites)', 'bottom': 411.1965, 'text_1': '800', 'text_2': '800', 'text_3': 'NA'}, {'text': 'Thailand', 'bottom': 422.17650000000003, 'text_1': '1,300', 'text_2': '1,300', 'text_3': '45,000'}, {'text': 'Turkey', 'bottom': 433.1565, 'text_1': '6,100', 'text_2': '6,200', 'text_3': '720,000'}, {'text': 'Other countries', 'bottom': 444.1965, 'text_1': '2,600', 'text_2': '2,600', 'text_3': 'NA'}, {'text': 'World total (rounded)', 'bottom': 455.17650000000003, 'text_1': '26,600', 'text_2': '27,000', 'text_3': 'Large'}], {'bbox_top': 255.64752, 'bbox_bottom': 455.17650000000003, 'bbox_start': 44.94, 'bbox_end': 543.956208}, 74]\n",
      "========================================\n",
      "\n",
      "[[{'text': None, 'bottom': 279.70752000000005, 'text_1': 'Mine production', 'text_2': 'Mine production', 'text_3': 'Reserves1'}, {'text': None, 'bottom': 290.68752, 'text_1': '2022', 'text_2': '2023e', 'text_3': None}, {'text': 'United States', 'bottom': 301.1565, 'text_1': '—', 'text_2': '—', 'text_3': '—'}, {'text': 'Australia', 'bottom': 312.1965, 'text_1': '3,040', 'text_2': '3,000', 'text_3': '1500,000'}, {'text': 'Brazil', 'bottom': 323.17650000000003, 'text_1': '624', 'text_2': '620', 'text_3': '270,000'}, {'text': 'Burma', 'bottom': 334.1565, 'text_1': '207', 'text_2': '210', 'text_3': 'NA'}, {'text': 'China', 'bottom': 345.1965, 'text_1': '743', 'text_2': '740', 'text_3': '280,000'}, {'text': 'Côte d’Ivoire', 'bottom': 356.17650000000003, 'text_1': '394', 'text_2': '390', 'text_3': 'NA'}, {'text': 'Gabon', 'bottom': 367.1565, 'text_1': '4,670', 'text_2': '4,600', 'text_3': '61,000'}, {'text': 'Georgia', 'bottom': 378.1965, 'text_1': '166', 'text_2': '160', 'text_3': 'NA'}, {'text': 'Ghana', 'bottom': 389.17650000000003, 'text_1': '844', 'text_2': '840', 'text_3': '13,000'}, {'text': 'India', 'bottom': 400.1565, 'text_1': '721', 'text_2': '720', 'text_3': '34,000'}, {'text': 'Kazakhstan, concentrate', 'bottom': 411.1965, 'text_1': '129', 'text_2': '130', 'text_3': '5,000'}, {'text': 'Malaysia', 'bottom': 422.17650000000003, 'text_1': '247', 'text_2': '250', 'text_3': 'NA'}, {'text': 'Mexico', 'bottom': 433.1565, 'text_1': '221', 'text_2': '220', 'text_3': '5,000'}, {'text': 'South Africa', 'bottom': 444.1965, 'text_1': '7,300', 'text_2': '7,200', 'text_3': '600,000'}, {'text': 'Ukraine, concentrate', 'bottom': 455.17650000000003, 'text_1': '323', 'text_2': '320', 'text_3': '140,000'}, {'text': 'Vietnam', 'bottom': 466.1565, 'text_1': '155', 'text_2': '160', 'text_3': 'NA'}, {'text': 'Other countries', 'bottom': 477.1965, 'text_1': '325', 'text_2': '330', 'text_3': 'Small'}, {'text': 'World total (rounded)', 'bottom': 488.17650000000003, 'text_1': '19,800', 'text_2': '20,000', 'text_3': '1,900,000'}], {'bbox_top': 266.68752000000006, 'bbox_bottom': 488.17650000000003, 'bbox_start': 44.94, 'bbox_end': 561.296208}, 120]\n",
      "========================================\n",
      "\n",
      "[[{'text': None, 'bottom': 125.68751999999995, 'text_1': 'Refinery productione', 'text_2': 'Refinery productione', 'text_3': 'Reserves'}, {'text': None, 'bottom': 136.66751999999997, 'text_1': '2022', 'text_2': '2023', 'text_3': None}, {'text': 'United States', 'bottom': 147.19650000000001, 'text_1': 'W', 'text_2': 'W', 'text_3': '11,000'}, {'text': 'Belgium', 'bottom': 158.17649999999992, 'text_1': '200', 'text_2': '200', 'text_3': '—'}, {'text': 'Canada', 'bottom': 169.15649999999994, 'text_1': '110', 'text_2': '120', 'text_3': '6,000'}, {'text': 'China', 'bottom': 180.19650000000001, 'text_1': '1,290', 'text_2': '1,500', 'text_3': '5,000'}, {'text': 'Finland', 'bottom': 191.17649999999992, 'text_1': '9130', 'text_2': '100', 'text_3': '300'}, {'text': 'Germany', 'bottom': 202.15649999999994, 'text_1': '300', 'text_2': '300', 'text_3': '—'}, {'text': 'India', 'bottom': 213.19650000000001, 'text_1': '14', 'text_2': '14', 'text_3': '500'}, {'text': 'Japan', 'bottom': 224.17649999999992, 'text_1': '710', 'text_2': '780', 'text_3': '—'}, {'text': 'Peru', 'bottom': 235.15649999999994, 'text_1': '57', 'text_2': '57', 'text_3': '19,000'}, {'text': 'Poland', 'bottom': 246.19650000000001, 'text_1': '982', 'text_2': '95', 'text_3': '3,000'}, {'text': 'Russia', 'bottom': 257.1764999999999, 'text_1': '340', 'text_2': '360', 'text_3': '26,000'}, {'text': 'Sweden', 'bottom': 268.15649999999994, 'text_1': '10', 'text_2': '8', 'text_3': '500'}, {'text': 'Turkey', 'bottom': 279.1965, 'text_1': '50', 'text_2': '50', 'text_3': 'NA'}, {'text': 'Other countries1', 'bottom': 290.17650000000003, 'text_1': '14', 'text_2': '15', 'text_3': '24,000'}, {'text': 'World total (rounded)', 'bottom': 301.1565, 'text_1': '13,310', 'text_2': '13,600', 'text_3': '95,000'}], {'bbox_top': 111.39648000000011, 'bbox_bottom': 301.1565, 'bbox_start': 44.94, 'bbox_end': 530.5140479999999}, 162]\n",
      "========================================\n",
      "\n",
      "Filtered JSON file created successfully.\n"
     ]
    }
   ],
   "source": [
    "# Target phrases\n",
    "target_phrases = ['World total (rounded)', 'World total']\n",
    "\n",
    "\n",
    "# Filter the tables\n",
    "for material in scraping_base.keys():\n",
    "    new_dfs = []\n",
    "    for table_data in scraping_base[material]['tables']:\n",
    "        table, bbox, page = table_data\n",
    "        df = pd.DataFrame(table)\n",
    "        # Check if any cell in the dataframe matches the target phrases\n",
    "        if df.apply(lambda row: any(match_element_in_text(target_phrases, str(cell)) for cell in row), axis=1).any():\n",
    "            new_dfs.append(table_data)\n",
    "            print(table_data)\n",
    "            print(\"=\"*40)\n",
    "            print()\n",
    "        # if isinstance(table, pd.DataFrame) and table_contains_target_phrases(table, target_phrases):\n",
    "        #     filtered_tables.append(table_data)\n",
    "    \n",
    "    # Update the 'tables' key with the filtered tables\n",
    "    scraping_base[material]['tables'] = new_dfs     \n",
    "\n",
    "# Save the filtered data as a new JSON file\n",
    "with open('json_files/scraping_base_with_needed_tables.json', 'w', encoding='utf-8') as json_file:\n",
    "    json.dump(scraping_base, json_file, indent=2, default=lambda x: x.to_dict() if isinstance(x, pd.DataFrame) else str(x))\n",
    "\n",
    "print(\"Filtered JSON file created successfully.\")"
   ]
  },
  {
   "cell_type": "code",
   "execution_count": 22,
   "metadata": {},
   "outputs": [
    {
     "data": {
      "text/html": [
       "<div>\n",
       "<style scoped>\n",
       "    .dataframe tbody tr th:only-of-type {\n",
       "        vertical-align: middle;\n",
       "    }\n",
       "\n",
       "    .dataframe tbody tr th {\n",
       "        vertical-align: top;\n",
       "    }\n",
       "\n",
       "    .dataframe thead th {\n",
       "        text-align: right;\n",
       "    }\n",
       "</style>\n",
       "<table border=\"1\" class=\"dataframe\">\n",
       "  <thead>\n",
       "    <tr style=\"text-align: right;\">\n",
       "      <th></th>\n",
       "      <th>text</th>\n",
       "      <th>bottom</th>\n",
       "      <th>text_1</th>\n",
       "      <th>text_2</th>\n",
       "      <th>text_3</th>\n",
       "    </tr>\n",
       "  </thead>\n",
       "  <tbody>\n",
       "    <tr>\n",
       "      <th>0</th>\n",
       "      <td>None</td>\n",
       "      <td>125.68752</td>\n",
       "      <td>Refinery productione</td>\n",
       "      <td>Refinery productione</td>\n",
       "      <td>Reserves</td>\n",
       "    </tr>\n",
       "    <tr>\n",
       "      <th>1</th>\n",
       "      <td>None</td>\n",
       "      <td>136.66752</td>\n",
       "      <td>2022</td>\n",
       "      <td>2023</td>\n",
       "      <td>None</td>\n",
       "    </tr>\n",
       "    <tr>\n",
       "      <th>2</th>\n",
       "      <td>United States</td>\n",
       "      <td>147.19650</td>\n",
       "      <td>W</td>\n",
       "      <td>W</td>\n",
       "      <td>11,000</td>\n",
       "    </tr>\n",
       "    <tr>\n",
       "      <th>3</th>\n",
       "      <td>Belgium</td>\n",
       "      <td>158.17650</td>\n",
       "      <td>200</td>\n",
       "      <td>200</td>\n",
       "      <td>—</td>\n",
       "    </tr>\n",
       "    <tr>\n",
       "      <th>4</th>\n",
       "      <td>Canada</td>\n",
       "      <td>169.15650</td>\n",
       "      <td>110</td>\n",
       "      <td>120</td>\n",
       "      <td>6,000</td>\n",
       "    </tr>\n",
       "    <tr>\n",
       "      <th>5</th>\n",
       "      <td>China</td>\n",
       "      <td>180.19650</td>\n",
       "      <td>1,290</td>\n",
       "      <td>1,500</td>\n",
       "      <td>5,000</td>\n",
       "    </tr>\n",
       "    <tr>\n",
       "      <th>6</th>\n",
       "      <td>Finland</td>\n",
       "      <td>191.17650</td>\n",
       "      <td>9130</td>\n",
       "      <td>100</td>\n",
       "      <td>300</td>\n",
       "    </tr>\n",
       "    <tr>\n",
       "      <th>7</th>\n",
       "      <td>Germany</td>\n",
       "      <td>202.15650</td>\n",
       "      <td>300</td>\n",
       "      <td>300</td>\n",
       "      <td>—</td>\n",
       "    </tr>\n",
       "    <tr>\n",
       "      <th>8</th>\n",
       "      <td>India</td>\n",
       "      <td>213.19650</td>\n",
       "      <td>14</td>\n",
       "      <td>14</td>\n",
       "      <td>500</td>\n",
       "    </tr>\n",
       "    <tr>\n",
       "      <th>9</th>\n",
       "      <td>Japan</td>\n",
       "      <td>224.17650</td>\n",
       "      <td>710</td>\n",
       "      <td>780</td>\n",
       "      <td>—</td>\n",
       "    </tr>\n",
       "    <tr>\n",
       "      <th>10</th>\n",
       "      <td>Peru</td>\n",
       "      <td>235.15650</td>\n",
       "      <td>57</td>\n",
       "      <td>57</td>\n",
       "      <td>19,000</td>\n",
       "    </tr>\n",
       "    <tr>\n",
       "      <th>11</th>\n",
       "      <td>Poland</td>\n",
       "      <td>246.19650</td>\n",
       "      <td>982</td>\n",
       "      <td>95</td>\n",
       "      <td>3,000</td>\n",
       "    </tr>\n",
       "    <tr>\n",
       "      <th>12</th>\n",
       "      <td>Russia</td>\n",
       "      <td>257.17650</td>\n",
       "      <td>340</td>\n",
       "      <td>360</td>\n",
       "      <td>26,000</td>\n",
       "    </tr>\n",
       "    <tr>\n",
       "      <th>13</th>\n",
       "      <td>Sweden</td>\n",
       "      <td>268.15650</td>\n",
       "      <td>10</td>\n",
       "      <td>8</td>\n",
       "      <td>500</td>\n",
       "    </tr>\n",
       "    <tr>\n",
       "      <th>14</th>\n",
       "      <td>Turkey</td>\n",
       "      <td>279.19650</td>\n",
       "      <td>50</td>\n",
       "      <td>50</td>\n",
       "      <td>NA</td>\n",
       "    </tr>\n",
       "    <tr>\n",
       "      <th>15</th>\n",
       "      <td>Other countries1</td>\n",
       "      <td>290.17650</td>\n",
       "      <td>14</td>\n",
       "      <td>15</td>\n",
       "      <td>24,000</td>\n",
       "    </tr>\n",
       "    <tr>\n",
       "      <th>16</th>\n",
       "      <td>World total (rounded)</td>\n",
       "      <td>301.15650</td>\n",
       "      <td>13,310</td>\n",
       "      <td>13,600</td>\n",
       "      <td>95,000</td>\n",
       "    </tr>\n",
       "  </tbody>\n",
       "</table>\n",
       "</div>"
      ],
      "text/plain": [
       "                     text     bottom                text_1  \\\n",
       "0                    None  125.68752  Refinery productione   \n",
       "1                    None  136.66752                  2022   \n",
       "2           United States  147.19650                     W   \n",
       "3                 Belgium  158.17650                   200   \n",
       "4                  Canada  169.15650                   110   \n",
       "5                   China  180.19650                 1,290   \n",
       "6                 Finland  191.17650                  9130   \n",
       "7                 Germany  202.15650                   300   \n",
       "8                   India  213.19650                    14   \n",
       "9                   Japan  224.17650                   710   \n",
       "10                   Peru  235.15650                    57   \n",
       "11                 Poland  246.19650                   982   \n",
       "12                 Russia  257.17650                   340   \n",
       "13                 Sweden  268.15650                    10   \n",
       "14                 Turkey  279.19650                    50   \n",
       "15       Other countries1  290.17650                    14   \n",
       "16  World total (rounded)  301.15650                13,310   \n",
       "\n",
       "                  text_2    text_3  \n",
       "0   Refinery productione  Reserves  \n",
       "1                   2023      None  \n",
       "2                      W    11,000  \n",
       "3                    200         —  \n",
       "4                    120     6,000  \n",
       "5                  1,500     5,000  \n",
       "6                    100       300  \n",
       "7                    300         —  \n",
       "8                     14       500  \n",
       "9                    780         —  \n",
       "10                    57    19,000  \n",
       "11                    95     3,000  \n",
       "12                   360    26,000  \n",
       "13                     8       500  \n",
       "14                    50        NA  \n",
       "15                    15    24,000  \n",
       "16                13,600    95,000  "
      ]
     },
     "execution_count": 22,
     "metadata": {},
     "output_type": "execute_result"
    }
   ],
   "source": [
    "pd.DataFrame(table_data[0])"
   ]
  },
  {
   "cell_type": "code",
   "execution_count": 23,
   "metadata": {},
   "outputs": [],
   "source": [
    "with open('json_files/scraping_base_with_needed_tables.json', 'r', encoding='utf-8') as json_file:\n",
    "    loaded_scraping_base = json.load(json_file)\n",
    "\n",
    "scraping_base = convert_dict_to_df(loaded_scraping_base)"
   ]
  },
  {
   "cell_type": "code",
   "execution_count": 24,
   "metadata": {},
   "outputs": [
    {
     "name": "stdout",
     "output_type": "stream",
     "text": [
      "Excel file created successfully.\n"
     ]
    }
   ],
   "source": [
    "for material in list(scraping_base.keys()):\n",
    "    if 'remarks' in scraping_base[material]:\n",
    "        remarks = scraping_base[material]['remarks']\n",
    "        remarks_df = pd.DataFrame(remarks)\n",
    "        scraping_base[material]['remarks'] = remarks_df\n",
    "\n",
    "    if 'tables' in scraping_base[material]:    \n",
    "        for i in range(len(scraping_base[material]['tables'])):\n",
    "            table, bbox, page = scraping_base[material]['tables'][i]\n",
    "            # Convert table to DataFrame\n",
    "            df = pd.DataFrame(table)\n",
    "            # Sort and drop 'bottom' column if it exists\n",
    "            if 'bottom' in df.columns:\n",
    "                df = df.sort_values('bottom')\n",
    "                df = df.drop('bottom', axis=1)\n",
    "            scraping_base[material]['tables'][i][0] = df\n",
    "\n",
    "with pd.ExcelWriter('excel_output/production_reserve_tables1.xlsx', engine='openpyxl') as writer:\n",
    "    for material, data in scraping_base.items():\n",
    "        # print(f\"🟠data: {data['remarks']}\")\n",
    "        # Write remarks and tables in the same sheet, but separated by columns\n",
    "        combined_sheet_name = f\"{material}_raw_info\"\n",
    "        \n",
    "        # Write remarks\n",
    "        remarks_df = data['remarks'][['text']]\n",
    "        # print('🟠remark_df:', remarks_df)\n",
    "        remarks_df.columns = ['remark']\n",
    "        remarks_df.to_excel(writer, sheet_name=combined_sheet_name, startrow=0, startcol=0, index=False)\n",
    "\n",
    "        # Write each table starting from a new column\n",
    "        start_col = len(remarks_df.columns) + 2  # Adding 2 for separation\n",
    "        for i, (table_df, bbox, page) in enumerate(data['tables']):\n",
    "            table_df.to_excel(writer, sheet_name=combined_sheet_name, startrow=0, startcol=start_col, index=False)\n",
    "            # Increment start_col by the number of columns in the table + 2 for separation\n",
    "            start_col += len(table_df.columns) + 2\n",
    "\n",
    "print(\"Excel file created successfully.\")"
   ]
  },
  {
   "cell_type": "code",
   "execution_count": 25,
   "metadata": {},
   "outputs": [
    {
     "name": "stdout",
     "output_type": "stream",
     "text": [
      "Rectangles drawn for materials in mcs2024.pdf and saved to pdf_output/mcs2024_data_prod_reserve_tables.pdf.\n"
     ]
    }
   ],
   "source": [
    "with open('json_files/scraping_base_with_needed_tables.json', 'r', encoding='utf-8') as json_file:\n",
    "# with open('json_files/scraping_base_with_tables.json', 'r', encoding='utf-8') as json_file:\n",
    "    loaded_scraping_base = json.load(json_file)\n",
    "\n",
    "scraping_base = convert_dict_to_df(loaded_scraping_base)\n",
    "\n",
    "scraping_base_bricolage = {k: v for k, v in list(scraping_base.items()) if k != 'Palladium' and k != 'Zirconium'}\n",
    "\n",
    "output_pdf_path = 'pdf_output/mcs2024_data_prod_reserve_tables.pdf'\n",
    "\n",
    "draw_rectangles_for_materials(pdf_path, output_pdf_path, scraping_base_bricolage)\n",
    "\n",
    "print(f\"Rectangles drawn for materials in {pdf_path} and saved to {output_pdf_path}.\")"
   ]
  },
  {
   "cell_type": "code",
   "execution_count": 26,
   "metadata": {},
   "outputs": [
    {
     "ename": "NameError",
     "evalue": "name 'STOP' is not defined",
     "output_type": "error",
     "traceback": [
      "\u001b[1;31m---------------------------------------------------------------------------\u001b[0m",
      "\u001b[1;31mNameError\u001b[0m                                 Traceback (most recent call last)",
      "Cell \u001b[1;32mIn[26], line 1\u001b[0m\n\u001b[1;32m----> 1\u001b[0m \u001b[43mSTOP\u001b[49m\n",
      "\u001b[1;31mNameError\u001b[0m: name 'STOP' is not defined"
     ]
    }
   ],
   "source": [
    "STOP"
   ]
  },
  {
   "cell_type": "markdown",
   "metadata": {},
   "source": [
    "## remark interpretation"
   ]
  },
  {
   "cell_type": "code",
   "execution_count": null,
   "metadata": {},
   "outputs": [],
   "source": [
    "excel_input = 'excel_output\\production_reserve_tables1.xlsx'\n",
    "\n",
    "import json\n",
    "\n",
    "with open('json_files/scraping_base.json', 'r', encoding='utf-8') as json_file:\n",
    "    loaded_scraping_base = json.load(json_file)\n",
    "\n",
    "scraping_base = convert_dict_to_df(loaded_scraping_base)"
   ]
  },
  {
   "cell_type": "code",
   "execution_count": null,
   "metadata": {},
   "outputs": [],
   "source": [
    "material_remarks = {material: {'remarks': content['remarks'][['text']]} for material, content in scraping_base.items()}"
   ]
  },
  {
   "cell_type": "code",
   "execution_count": null,
   "metadata": {},
   "outputs": [],
   "source": [
    "# # Convert the DataFrames in the dictionary\n",
    "# serialize_dict(material_remarks)\n",
    "\n",
    "# # Save the transformed dictionary as JSON\n",
    "# with open('materials_data.json', 'w') as json_file:\n",
    "#     json.dump(material_remarks, json_file, indent=4)"
   ]
  },
  {
   "cell_type": "code",
   "execution_count": null,
   "metadata": {},
   "outputs": [],
   "source": [
    "ref_chem_compo = pd.read_excel('trash/sub_materials_database.xlsx', sheet_name='sub_materials_database')\n",
    "\n",
    "metric_conversion_df = pd.read_excel('trash/sub_materials_database.xlsx', sheet_name='metric_conversion_factor')"
   ]
  },
  {
   "cell_type": "code",
   "execution_count": null,
   "metadata": {},
   "outputs": [],
   "source": [
    "import pandas as pd\n",
    "import shutil\n",
    "\n",
    "# Copy the original Excel file to create an updated version\n",
    "excel_output = 'excel_output/produc_reserve_remarkinterpre.xlsx'\n",
    "shutil.copyfile(excel_input, excel_output)\n",
    "\n",
    "# Open the Excel file for updating\n",
    "with pd.ExcelWriter(excel_output, mode='a', if_sheet_exists='replace') as writer:\n",
    "    for material in material_remarks.keys():\n",
    "        # Convert the remarks to a DataFrame\n",
    "        material_sample = pd.DataFrame(material_remarks[material]['remarks'], columns=['text'])\n",
    "\n",
    "        # List of sub-material names from the reference_db\n",
    "        materials_list = ref_chem_compo['sub_material_name'].tolist()\n",
    "\n",
    "        # List of metric units from the metric_conversion_df\n",
    "        metrics_list = metric_conversion_df['Metric Mentioned'].tolist()\n",
    "\n",
    "        # Apply the functions to the 'text' column of material_sample\n",
    "        material_sample['chemical_composition'] = material_sample['text'].apply(\n",
    "            lambda text: find_all_chemical_compositions(text, materials_list, ref_chem_compo))\n",
    "        material_sample['metric_conv_factor'] = material_sample['text'].apply(\n",
    "            lambda text: find_metric_conversion_factor(text, metrics_list, metric_conversion_df))\n",
    "\n",
    "        # Read the corresponding sheet from the original Excel file\n",
    "        sheet_name = f\"{material}_raw_info\"\n",
    "        original_df = pd.read_excel(excel_input, sheet_name=sheet_name)\n",
    "\n",
    "        # Ensure the new DataFrame (material_sample) has the same index as the original_df\n",
    "        material_sample = material_sample.reindex(original_df.index)\n",
    "\n",
    "        # Insert the new columns next to the 'remark' column\n",
    "        original_df.insert(1, 'chemical_composition', material_sample['chemical_composition'])\n",
    "        original_df.insert(2, 'metric_conv_factor', material_sample['metric_conv_factor'])\n",
    "\n",
    "        # Write the updated sheet back to the Excel file\n",
    "        original_df.to_excel(writer, sheet_name=sheet_name, index=False)"
   ]
  },
  {
   "cell_type": "markdown",
   "metadata": {},
   "source": [
    "## production of each material"
   ]
  },
  {
   "cell_type": "code",
   "execution_count": null,
   "metadata": {},
   "outputs": [],
   "source": [
    "excel_input = 'excel_output/produc_reserve_remarkinterpre.xlsx'"
   ]
  },
  {
   "cell_type": "code",
   "execution_count": null,
   "metadata": {},
   "outputs": [],
   "source": [
    "excel_file = pd.ExcelFile(excel_input)\n",
    "\n",
    "# List to store dictionaries of sheet names and DataFrames\n",
    "dfs = []\n",
    "\n",
    "# Loop through all sheet names\n",
    "for sheet_name in excel_file.sheet_names:\n",
    "    # Read the sheet into a DataFrame\n",
    "    df = pd.read_excel(excel_file, sheet_name=sheet_name)\n",
    "    \n",
    "    # Create a dictionary with sheet name and DataFrame\n",
    "    sheet_dict = {\n",
    "        f'sheet_name': sheet_name,\n",
    "        f'df': df\n",
    "    }\n",
    "    \n",
    "    # Append the dictionary to the list\n",
    "    dfs.append(sheet_dict)"
   ]
  },
  {
   "cell_type": "code",
   "execution_count": null,
   "metadata": {},
   "outputs": [],
   "source": [
    "reference_excel =  pd.ExcelFile('sub_materials.xlsx')\n",
    "\n",
    "reference_df = pd.read_excel(reference_excel)"
   ]
  },
  {
   "cell_type": "markdown",
   "metadata": {},
   "source": [
    "Structure the new df"
   ]
  },
  {
   "cell_type": "code",
   "execution_count": null,
   "metadata": {},
   "outputs": [],
   "source": [
    "for i in range(1, len(dfs)):\n",
    "    sheet_name = dfs[i]['sheet_name']\n",
    "    df = dfs[i]['df']\n",
    "    text_columns = [col for col in df.columns if col.startswith('text')]\n",
    "    if text_columns:\n",
    "        text_df = df[text_columns]\n",
    "        first_row = text_df.iloc[0]\n",
    "        second_row = text_df.iloc[1]\n",
    "        title_row = list(text_df.columns)\n",
    "        materials = list(pd.unique(first_row.dropna().values))\n",
    "        list_chem_comp = []\n",
    "        for material in materials:\n",
    "            chem_comp = match_composition(material, reference_df)\n",
    "            list_chem_comp.append({\n",
    "                \"material\": material,\n",
    "                \"chem_comp\": chem_comp,\n",
    "            })\n",
    "\n",
    "        if all(item['chem_comp'] is None for item in list_chem_comp):\n",
    "            material = sheet_name.replace('_raw_info', '')\n",
    "            list_chem_comp = [{\n",
    "                \"material\": material,\n",
    "                \"chem_comp\": match_composition(material, reference_df),\n",
    "            }]\n",
    "\n",
    "        if all(item['chem_comp'] is None for item in list_chem_comp):\n",
    "            print(\"🧿 no match\")\n",
    "            print(\"materials : \", materials)\n",
    "            print(\"list_chem_comp : \", list_chem_comp)\n",
    "            print(\"=\" * 50)\n",
    "            print()\n",
    "        else:\n",
    "            list_chem_comp = convert_string_to_dict(list_chem_comp)\n",
    "            df['chemical_composition'] = str(list_chem_comp)\n",
    "            print(list_chem_comp)\n",
    "            print(\"=\" * 50)\n",
    "            print()\n",
    "\n",
    "            # Check if the material name is from the sheet name\n",
    "            sheet_material = sheet_name.replace('_raw_info', '')\n",
    "            is_sheet_material = any(item['material'] == sheet_material for item in list_chem_comp)\n",
    "\n",
    "            if is_sheet_material:\n",
    "                # Process all numeric columns for sheet-wide material\n",
    "                for index, col in enumerate(title_row):\n",
    "                    if text_df[col].iloc[2:].apply(lambda x: pd.to_numeric(x, errors='coerce')).notna().any():\n",
    "                        item = next(item for item in list_chem_comp if item['material'] == sheet_material)\n",
    "                        years = second_row.iloc[index].split(',') if isinstance(second_row.iloc[index], str) else [second_row.iloc[index]]\n",
    "                        process_column(df, text_df, title_row, index, item, years)\n",
    "\n",
    "            else: \n",
    "                for index, col in enumerate(first_row):\n",
    "                    for item in list_chem_comp:\n",
    "                        if col == item['material']:\n",
    "                            years = second_row.iloc[index].split(',') if isinstance(second_row.iloc[index], str) else [second_row.iloc[index]]\n",
    "                            process_column(df, text_df, title_row, index, item, years)\n",
    "\n",
    "    dfs[i]['df'] = df"
   ]
  },
  {
   "cell_type": "code",
   "execution_count": null,
   "metadata": {},
   "outputs": [],
   "source": [
    "# Save all DataFrames to a single Excel file\n",
    "output_file = 'excel_output/production_each_material.xlsx'\n",
    "with pd.ExcelWriter(output_file, engine='openpyxl') as writer:\n",
    "    for df_dict in dfs:\n",
    "        sheet_name = df_dict['sheet_name']\n",
    "        df = df_dict['df']\n",
    "        df.to_excel(writer, sheet_name=sheet_name, index=False)\n",
    "\n",
    "print(f\"All processed DataFrames have been saved to {output_file}\")"
   ]
  },
  {
   "cell_type": "code",
   "execution_count": null,
   "metadata": {},
   "outputs": [],
   "source": []
  }
 ],
 "metadata": {
  "kernelspec": {
   "display_name": "venvRi",
   "language": "python",
   "name": "python3"
  },
  "language_info": {
   "codemirror_mode": {
    "name": "ipython",
    "version": 3
   },
   "file_extension": ".py",
   "mimetype": "text/x-python",
   "name": "python",
   "nbconvert_exporter": "python",
   "pygments_lexer": "ipython3",
   "version": "3.10.0"
  }
 },
 "nbformat": 4,
 "nbformat_minor": 2
}
